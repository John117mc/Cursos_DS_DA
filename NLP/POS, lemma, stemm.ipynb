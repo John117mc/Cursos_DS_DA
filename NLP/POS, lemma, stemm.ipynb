{
 "cells": [
  {
   "cell_type": "markdown",
   "id": "dbe4343a",
   "metadata": {},
   "source": [
    "# Processamento de Linguagem Natural\n",
    "\n",
    "* NTLK (Natural Language Toolkit)\n",
    "* spaCy (Industrial-Strength Natural Language)\n",
    "* Busca de textos\n",
    "* Extração de entidades nomeadas\n",
    "* Worldcloud\n",
    "* Classificação de sentimentos\n",
    "* Classificação de textos\n",
    "* Speech Transcription, Neural Machine Translation (NMT), chatbots, Q&A,Text Summarization, Image captioning, Video captioning"
   ]
  },
  {
   "cell_type": "code",
   "execution_count": 32,
   "id": "db0bf450",
   "metadata": {
    "ExecuteTime": {
     "end_time": "2021-10-31T12:12:07.703451Z",
     "start_time": "2021-10-31T12:12:07.693453Z"
    }
   },
   "outputs": [],
   "source": [
    "import nltk\n",
    "import spacy"
   ]
  },
  {
   "cell_type": "markdown",
   "id": "201b6fa3",
   "metadata": {},
   "source": [
    "## Marcação POS\n",
    "\n",
    "* POS (part-of-speech) atribui para as palavras partes da fala, como substantivos, adjetivos, verbos\n",
    "* Importante para a detecção de entidades no texto, pois primeiro é necessário saber o que o texto contém"
   ]
  },
  {
   "cell_type": "code",
   "execution_count": 8,
   "id": "2a09489b",
   "metadata": {
    "ExecuteTime": {
     "end_time": "2021-10-31T12:08:00.536042Z",
     "start_time": "2021-10-31T12:07:57.676578Z"
    }
   },
   "outputs": [
    {
     "data": {
      "text/plain": [
       "<spacy.lang.pt.Portuguese at 0x1e192f473a0>"
      ]
     },
     "execution_count": 8,
     "metadata": {},
     "output_type": "execute_result"
    }
   ],
   "source": [
    "pln = spacy.load('pt_core_news_sm')\n",
    "pln"
   ]
  },
  {
   "cell_type": "code",
   "execution_count": 23,
   "id": "d380e0ac",
   "metadata": {
    "ExecuteTime": {
     "end_time": "2021-10-31T12:09:27.482117Z",
     "start_time": "2021-10-31T12:09:27.285772Z"
    }
   },
   "outputs": [
    {
     "data": {
      "text/plain": [
       "spacy.tokens.doc.Doc"
      ]
     },
     "execution_count": 23,
     "metadata": {},
     "output_type": "execute_result"
    }
   ],
   "source": [
    "doc = pln('estou aprendendo processamento de linguagem natural, curso em curitiba')\n",
    "type(doc)"
   ]
  },
  {
   "cell_type": "code",
   "execution_count": 24,
   "id": "b875ae62",
   "metadata": {
    "ExecuteTime": {
     "end_time": "2021-10-31T12:09:28.596042Z",
     "start_time": "2021-10-31T12:09:28.589045Z"
    }
   },
   "outputs": [
    {
     "name": "stdout",
     "output_type": "stream",
     "text": [
      "estou AUX\n",
      "aprendendo VERB\n",
      "processamento NOUN\n",
      "de ADP\n",
      "linguagem NOUN\n",
      "natural ADJ\n",
      ", PUNCT\n",
      "curso NOUN\n",
      "em ADP\n",
      "curitiba PROPN\n"
     ]
    }
   ],
   "source": [
    "for token in doc:\n",
    "  print(token.text, token.pos_) "
   ]
  },
  {
   "cell_type": "markdown",
   "id": "261ff1dd",
   "metadata": {
    "ExecuteTime": {
     "end_time": "2021-10-31T12:04:31.388901Z",
     "start_time": "2021-10-31T12:04:31.382898Z"
    }
   },
   "source": [
    "## Lematização"
   ]
  },
  {
   "cell_type": "code",
   "execution_count": 25,
   "id": "0a5cfd59",
   "metadata": {
    "ExecuteTime": {
     "end_time": "2021-10-31T12:10:09.369545Z",
     "start_time": "2021-10-31T12:10:09.353544Z"
    }
   },
   "outputs": [
    {
     "name": "stdout",
     "output_type": "stream",
     "text": [
      "estou estar\n",
      "aprendendo aprender\n",
      "processamento processamento\n",
      "de de\n",
      "linguagem linguagem\n",
      "natural natural\n",
      ", ,\n",
      "curso cursar\n",
      "em em\n",
      "curitiba curitiba\n"
     ]
    }
   ],
   "source": [
    "for token in doc:\n",
    "  print(token.text, token.lemma_)"
   ]
  },
  {
   "cell_type": "code",
   "execution_count": 26,
   "id": "576e7a56",
   "metadata": {
    "ExecuteTime": {
     "end_time": "2021-10-31T12:10:22.446603Z",
     "start_time": "2021-10-31T12:10:22.339881Z"
    }
   },
   "outputs": [
    {
     "data": {
      "text/plain": [
       "['encontrar', 'encontrar', 'encontrar', 'cursar', 'cursar', 'cursar']"
      ]
     },
     "execution_count": 26,
     "metadata": {},
     "output_type": "execute_result"
    }
   ],
   "source": [
    "doc = pln('encontrei encontraram encontrariam curso cursando cursei')\n",
    "[token.lemma_ for token in doc]"
   ]
  },
  {
   "cell_type": "markdown",
   "id": "3624ee52",
   "metadata": {
    "ExecuteTime": {
     "end_time": "2021-10-31T12:11:39.763014Z",
     "start_time": "2021-10-31T12:11:39.754012Z"
    }
   },
   "source": [
    "## Stemização"
   ]
  },
  {
   "cell_type": "code",
   "execution_count": 28,
   "id": "4498feb4",
   "metadata": {
    "ExecuteTime": {
     "end_time": "2021-10-31T12:10:45.388756Z",
     "start_time": "2021-10-31T12:10:45.125148Z"
    }
   },
   "outputs": [
    {
     "data": {
      "text/plain": [
       "'aprend'"
      ]
     },
     "execution_count": 28,
     "metadata": {},
     "output_type": "execute_result"
    }
   ],
   "source": [
    "stemmer = nltk.stem.RSLPStemmer()\n",
    "stemmer.stem('aprender')"
   ]
  },
  {
   "cell_type": "code",
   "execution_count": 30,
   "id": "2b2fbf62",
   "metadata": {
    "ExecuteTime": {
     "end_time": "2021-10-31T12:10:56.970434Z",
     "start_time": "2021-10-31T12:10:56.950424Z"
    }
   },
   "outputs": [
    {
     "name": "stdout",
     "output_type": "stream",
     "text": [
      "encontrei encontrar encontr\n",
      "encontraram encontrar encontr\n",
      "encontrariam encontrar encontr\n",
      "curso cursar curs\n",
      "cursando cursar curs\n",
      "cursei cursar curs\n"
     ]
    }
   ],
   "source": [
    "for token in doc:\n",
    "  print(token.text, token.lemma_, stemmer.stem(token.text))"
   ]
  }
 ],
 "metadata": {
  "kernelspec": {
   "display_name": "Python 3 (ipykernel)",
   "language": "python",
   "name": "python3"
  },
  "language_info": {
   "codemirror_mode": {
    "name": "ipython",
    "version": 3
   },
   "file_extension": ".py",
   "mimetype": "text/x-python",
   "name": "python",
   "nbconvert_exporter": "python",
   "pygments_lexer": "ipython3",
   "version": "3.8.8"
  }
 },
 "nbformat": 4,
 "nbformat_minor": 5
}
