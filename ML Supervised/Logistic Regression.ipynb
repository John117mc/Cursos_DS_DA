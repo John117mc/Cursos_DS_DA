{
 "cells": [
  {
   "cell_type": "markdown",
   "id": "72c98b81",
   "metadata": {},
   "source": [
    "# Logistic Regression\n",
    "\n",
    "* Função Sigmoid\n",
    "* Descida do Gradiente"
   ]
  },
  {
   "cell_type": "code",
   "execution_count": 2,
   "id": "4a789714",
   "metadata": {
    "ExecuteTime": {
     "end_time": "2021-09-19T19:04:51.410415Z",
     "start_time": "2021-09-19T19:04:51.402413Z"
    }
   },
   "outputs": [],
   "source": [
    "import pickle\n",
    "import scikitplot as skplt\n",
    "\n",
    "from sklearn.metrics import accuracy_score, classification_report\n",
    "from sklearn.linear_model import LogisticRegression"
   ]
  },
  {
   "cell_type": "markdown",
   "id": "1c709b29",
   "metadata": {},
   "source": [
    "## Credit Data"
   ]
  },
  {
   "cell_type": "code",
   "execution_count": 3,
   "id": "d6bdd9d2",
   "metadata": {
    "ExecuteTime": {
     "end_time": "2021-09-19T19:05:50.746363Z",
     "start_time": "2021-09-19T19:05:50.673571Z"
    }
   },
   "outputs": [],
   "source": [
    "with open('../data/credit.pkl', 'rb') as f:\n",
    "    x_credit_train, y_credit_train, x_credit_test, y_credit_test = pickle.load(f)"
   ]
  },
  {
   "cell_type": "code",
   "execution_count": 5,
   "id": "b5271fd7",
   "metadata": {
    "ExecuteTime": {
     "end_time": "2021-09-19T19:06:24.136960Z",
     "start_time": "2021-09-19T19:06:24.117956Z"
    }
   },
   "outputs": [
    {
     "data": {
      "text/plain": [
       "LogisticRegression(random_state=1)"
      ]
     },
     "execution_count": 5,
     "metadata": {},
     "output_type": "execute_result"
    }
   ],
   "source": [
    "logistic_credit = LogisticRegression(random_state=1)\n",
    "logistic_credit.fit(x_credit_train, y_credit_train)"
   ]
  },
  {
   "cell_type": "code",
   "execution_count": 6,
   "id": "ed8458df",
   "metadata": {
    "ExecuteTime": {
     "end_time": "2021-09-19T19:06:31.169977Z",
     "start_time": "2021-09-19T19:06:31.149972Z"
    }
   },
   "outputs": [
    {
     "data": {
      "text/plain": [
       "array([-6.02976095])"
      ]
     },
     "execution_count": 6,
     "metadata": {},
     "output_type": "execute_result"
    }
   ],
   "source": [
    "logistic_credit.intercept_"
   ]
  },
  {
   "cell_type": "markdown",
   "id": "becb1134",
   "metadata": {},
   "source": [
    "* Coeficiente de cada atributo"
   ]
  },
  {
   "cell_type": "code",
   "execution_count": 9,
   "id": "36cf9012",
   "metadata": {
    "ExecuteTime": {
     "end_time": "2021-09-19T19:10:48.751381Z",
     "start_time": "2021-09-19T19:10:48.740094Z"
    }
   },
   "outputs": [
    {
     "data": {
      "text/plain": [
       "array([[-2.54927091, -3.72279861,  3.93940349]])"
      ]
     },
     "execution_count": 9,
     "metadata": {},
     "output_type": "execute_result"
    }
   ],
   "source": [
    "logistic_credit.coef_"
   ]
  },
  {
   "cell_type": "code",
   "execution_count": 11,
   "id": "79ee0306",
   "metadata": {
    "ExecuteTime": {
     "end_time": "2021-09-19T19:11:42.235684Z",
     "start_time": "2021-09-19T19:11:42.218679Z"
    }
   },
   "outputs": [
    {
     "data": {
      "text/plain": [
       "0.946"
      ]
     },
     "execution_count": 11,
     "metadata": {},
     "output_type": "execute_result"
    }
   ],
   "source": [
    "pred = logistic_credit.predict(x_credit_test)\n",
    "accuracy_score(y_credit_test, pred)"
   ]
  },
  {
   "cell_type": "code",
   "execution_count": 12,
   "id": "40dd619e",
   "metadata": {
    "ExecuteTime": {
     "end_time": "2021-09-19T19:11:54.751886Z",
     "start_time": "2021-09-19T19:11:54.739887Z"
    }
   },
   "outputs": [
    {
     "name": "stdout",
     "output_type": "stream",
     "text": [
      "              precision    recall  f1-score   support\n",
      "\n",
      "           0       0.97      0.97      0.97       436\n",
      "           1       0.79      0.78      0.79        64\n",
      "\n",
      "    accuracy                           0.95       500\n",
      "   macro avg       0.88      0.88      0.88       500\n",
      "weighted avg       0.95      0.95      0.95       500\n",
      "\n"
     ]
    }
   ],
   "source": [
    "print(classification_report(y_credit_test, pred))"
   ]
  },
  {
   "cell_type": "code",
   "execution_count": 14,
   "id": "40fecb91",
   "metadata": {
    "ExecuteTime": {
     "end_time": "2021-09-19T19:12:08.724638Z",
     "start_time": "2021-09-19T19:12:08.509581Z"
    }
   },
   "outputs": [
    {
     "data": {
      "image/png": "[encoded data removed]",
      "text/plain": [
       "<Figure size 504x504 with 2 Axes>"
      ]
     },
     "metadata": {
      "needs_background": "light"
     },
     "output_type": "display_data"
    }
   ],
   "source": [
    "skplt.metrics.plot_confusion_matrix(y_credit_test, pred, figsize=(7,7));"
   ]
  },
  {
   "cell_type": "markdown",
   "id": "05dc233c",
   "metadata": {},
   "source": [
    "## Census"
   ]
  },
  {
   "cell_type": "code",
   "execution_count": 19,
   "id": "38c0a855",
   "metadata": {
    "ExecuteTime": {
     "end_time": "2021-09-19T19:19:18.672136Z",
     "start_time": "2021-09-19T19:19:18.646520Z"
    }
   },
   "outputs": [],
   "source": [
    "with open('../data/census.pkl', 'rb') as f:\n",
    "    x_census_train, y_census_train, x_census_test, y_census_test = pickle.load(f)"
   ]
  },
  {
   "cell_type": "code",
   "execution_count": 21,
   "id": "4db5d118",
   "metadata": {
    "ExecuteTime": {
     "end_time": "2021-09-19T19:19:35.857839Z",
     "start_time": "2021-09-19T19:19:35.296715Z"
    }
   },
   "outputs": [
    {
     "data": {
      "text/plain": [
       "LogisticRegression(random_state=1)"
      ]
     },
     "execution_count": 21,
     "metadata": {},
     "output_type": "execute_result"
    }
   ],
   "source": [
    "logistic_census = LogisticRegression(random_state=1)\n",
    "logistic_census.fit(x_census_train, y_census_train)"
   ]
  },
  {
   "cell_type": "code",
   "execution_count": 22,
   "id": "e88a9ada",
   "metadata": {
    "ExecuteTime": {
     "end_time": "2021-09-19T19:19:42.857835Z",
     "start_time": "2021-09-19T19:19:42.849832Z"
    }
   },
   "outputs": [
    {
     "data": {
      "text/plain": [
       "array([-2.10474165])"
      ]
     },
     "execution_count": 22,
     "metadata": {},
     "output_type": "execute_result"
    }
   ],
   "source": [
    "logistic_census.intercept_"
   ]
  },
  {
   "cell_type": "code",
   "execution_count": 23,
   "id": "38c35247",
   "metadata": {
    "ExecuteTime": {
     "end_time": "2021-09-19T19:19:48.412831Z",
     "start_time": "2021-09-19T19:19:48.393817Z"
    }
   },
   "outputs": [
    {
     "data": {
      "text/plain": [
       "array([[-6.94469649e-02,  1.18679159e-01, -9.04524759e-03,\n",
       "        -7.81357460e-02,  5.76691457e-02,  5.08994420e-02,\n",
       "        -8.82856549e-02, -5.01462809e-02, -1.42900810e-01,\n",
       "        -1.04784027e-01, -1.19233556e-01, -3.77074867e-02,\n",
       "        -2.08124820e-02, -2.93974652e-02, -8.45705964e-02,\n",
       "        -8.08920718e-02, -8.16248852e-03,  1.09035256e-02,\n",
       "         1.46893853e-01,  1.20194939e-01, -7.84325002e-02,\n",
       "         1.45553932e-01, -4.75278833e-01,  1.14436730e-01,\n",
       "         2.27948173e-02, -1.93347518e-01,  4.38094226e-02,\n",
       "         7.07825942e-01, -6.57034078e-02, -5.23341515e-01,\n",
       "        -1.09247966e-01, -8.94357349e-02, -7.42801130e-02,\n",
       "        -1.40912231e-02, -2.06468670e-02,  2.21547856e-02,\n",
       "         2.51784840e-01, -1.68183468e-01, -1.43046856e-01,\n",
       "        -8.47285978e-02, -2.55735605e-01, -2.68986405e-01,\n",
       "         1.61655356e-01,  8.57817041e-02,  8.33259769e-02,\n",
       "         1.08967512e-01, -2.56717036e-02, -2.99250092e-02,\n",
       "         1.37854640e-01, -8.45026445e-02, -3.08580420e-01,\n",
       "         5.89016700e-02,  2.93293299e-01, -5.25079281e-02,\n",
       "         2.35607642e-02, -2.38298447e-02, -8.59172138e-03,\n",
       "         2.48413428e-02, -2.10986154e-01,  2.10986154e-01,\n",
       "        -1.82292207e-02,  3.69484052e-02,  2.42407730e-02,\n",
       "        -3.37950993e-02, -1.01718308e-01,  2.14245725e-02,\n",
       "        -7.08443487e-02, -8.55253963e-03, -2.88974669e-02,\n",
       "         5.47352856e-04,  1.29720912e-02,  1.25924174e-02,\n",
       "        -3.07081750e-02, -7.16006931e-03, -8.36571903e-04,\n",
       "        -2.51915707e-02, -1.95325832e-02,  1.09305091e-02,\n",
       "        -3.26834702e-03, -1.51127353e-02, -1.98397794e-03,\n",
       "         8.75132579e-03,  4.15960807e-02,  2.22215932e-03,\n",
       "         1.66204032e-02, -3.04280312e-03, -6.37936350e-02,\n",
       "        -4.98508697e-03, -1.31294366e-01, -1.45102273e-02,\n",
       "         6.55403878e-02,  5.82076956e-03, -7.77847203e-04,\n",
       "        -4.41222585e-02,  6.17103840e-03, -4.49162929e-02,\n",
       "         4.20835866e-03, -7.53983053e-03, -2.97415559e-02,\n",
       "         7.45044480e-02, -5.26390205e-02,  1.22595895e-02,\n",
       "         3.41845756e-01,  6.92395544e-02,  3.70826492e-01,\n",
       "         2.35271578e+00,  2.53087455e-01,  3.73197158e-01]])"
      ]
     },
     "execution_count": 23,
     "metadata": {},
     "output_type": "execute_result"
    }
   ],
   "source": [
    "logistic_census.coef_"
   ]
  },
  {
   "cell_type": "code",
   "execution_count": 24,
   "id": "ad2970a7",
   "metadata": {
    "ExecuteTime": {
     "end_time": "2021-09-19T19:19:55.206721Z",
     "start_time": "2021-09-19T19:19:55.179209Z"
    }
   },
   "outputs": [
    {
     "data": {
      "text/plain": [
       "0.849539406345957"
      ]
     },
     "execution_count": 24,
     "metadata": {},
     "output_type": "execute_result"
    }
   ],
   "source": [
    "pred1 = logistic_census.predict(x_census_test)\n",
    "accuracy_score(y_census_test, pred1)"
   ]
  },
  {
   "cell_type": "code",
   "execution_count": 25,
   "id": "030391cc",
   "metadata": {
    "ExecuteTime": {
     "end_time": "2021-09-19T19:20:03.884266Z",
     "start_time": "2021-09-19T19:20:03.748238Z"
    }
   },
   "outputs": [
    {
     "name": "stdout",
     "output_type": "stream",
     "text": [
      "              precision    recall  f1-score   support\n",
      "\n",
      "       <=50K       0.88      0.93      0.90      3693\n",
      "        >50K       0.73      0.61      0.66      1192\n",
      "\n",
      "    accuracy                           0.85      4885\n",
      "   macro avg       0.80      0.77      0.78      4885\n",
      "weighted avg       0.84      0.85      0.84      4885\n",
      "\n"
     ]
    }
   ],
   "source": [
    "print(classification_report(y_census_test, pred1))"
   ]
  },
  {
   "cell_type": "code",
   "execution_count": 27,
   "id": "06ec5bab",
   "metadata": {
    "ExecuteTime": {
     "end_time": "2021-09-19T19:20:29.348153Z",
     "start_time": "2021-09-19T19:20:29.119094Z"
    }
   },
   "outputs": [
    {
     "data": {
      "image/png": "[encoded data removed]",
      "text/plain": [
       "<Figure size 504x504 with 2 Axes>"
      ]
     },
     "metadata": {
      "needs_background": "light"
     },
     "output_type": "display_data"
    }
   ],
   "source": [
    "skplt.metrics.plot_confusion_matrix(y_census_test, pred1, figsize=(7,7));"
   ]
  }
 ],
 "metadata": {
  "kernelspec": {
   "display_name": "Python 3",
   "language": "python",
   "name": "python3"
  },
  "language_info": {
   "codemirror_mode": {
    "name": "ipython",
    "version": 3
   },
   "file_extension": ".py",
   "mimetype": "text/x-python",
   "name": "python",
   "nbconvert_exporter": "python",
   "pygments_lexer": "ipython3",
   "version": "3.8.8"
  },
  "varInspector": {
   "cols": {
    "lenName": 16,
    "lenType": 16,
    "lenVar": 40
   },
   "kernels_config": {
    "python": {
     "delete_cmd_postfix": "",
     "delete_cmd_prefix": "del ",
     "library": "var_list.py",
     "varRefreshCmd": "print(var_dic_list())"
    },
    "r": {
     "delete_cmd_postfix": ") ",
     "delete_cmd_prefix": "rm(",
     "library": "var_list.r",
     "varRefreshCmd": "cat(var_dic_list()) "
    }
   },
   "types_to_exclude": [
    "module",
    "function",
    "builtin_function_or_method",
    "instance",
    "_Feature"
   ],
   "window_display": false
  }
 },
 "nbformat": 4,
 "nbformat_minor": 5
}
