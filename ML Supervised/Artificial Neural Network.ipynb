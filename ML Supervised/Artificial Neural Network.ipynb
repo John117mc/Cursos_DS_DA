{
 "cells": [
  {
   "cell_type": "markdown",
   "id": "262702bd",
   "metadata": {},
   "source": [
    "# Redes Neurais Artificiais\n",
    "\n",
    "* Reconhecimento Facial, Processamento de Linguagem Natural\n",
    "* Muitos dados (Big Data) e problemas complexos"
   ]
  },
  {
   "cell_type": "code",
   "execution_count": 2,
   "id": "bfe6816b",
   "metadata": {
    "ExecuteTime": {
     "end_time": "2021-09-25T19:02:38.860025Z",
     "start_time": "2021-09-25T19:02:37.105627Z"
    }
   },
   "outputs": [],
   "source": [
    "import pickle\n",
    "import scikitplot as skplt\n",
    "\n",
    "from sklearn.metrics import accuracy_score, classification_report\n",
    "\n",
    "from sklearn.neural_network import MLPClassifier"
   ]
  },
  {
   "cell_type": "markdown",
   "id": "7edf62bf",
   "metadata": {},
   "source": [
    "## Credit Data"
   ]
  },
  {
   "cell_type": "code",
   "execution_count": 5,
   "id": "324d6084",
   "metadata": {
    "ExecuteTime": {
     "end_time": "2021-09-25T19:02:46.083832Z",
     "start_time": "2021-09-25T19:02:46.074832Z"
    }
   },
   "outputs": [],
   "source": [
    "with open('data/credit.pkl', 'rb') as f:\n",
    "    x_credit_train, y_credit_train, x_credit_test, y_credit_test = pickle.load(f)"
   ]
  },
  {
   "cell_type": "code",
   "execution_count": 23,
   "id": "4872d2cd",
   "metadata": {
    "ExecuteTime": {
     "end_time": "2021-09-25T18:57:04.519748Z",
     "start_time": "2021-09-25T18:57:04.507747Z"
    }
   },
   "outputs": [
    {
     "data": {
      "text/plain": [
       "2.0"
      ]
     },
     "execution_count": 23,
     "metadata": {},
     "output_type": "execute_result"
    }
   ],
   "source": [
    "# Camada oculta (Entrada + Saída) / 2\n",
    "(3 + 1) / 2"
   ]
  },
  {
   "cell_type": "code",
   "execution_count": 6,
   "id": "9293db7d",
   "metadata": {
    "ExecuteTime": {
     "end_time": "2021-09-25T19:02:52.917015Z",
     "start_time": "2021-09-25T19:02:48.819324Z"
    }
   },
   "outputs": [
    {
     "data": {
      "text/plain": [
       "MLPClassifier(hidden_layer_sizes=(2, 2), max_iter=1500)"
      ]
     },
     "execution_count": 6,
     "metadata": {},
     "output_type": "execute_result"
    }
   ],
   "source": [
    "neural_credit = MLPClassifier(max_iter=1500,tol=0.000100,\n",
    "                             solver='adam', activation='relu',\n",
    "                             hidden_layer_sizes=(2,2))\n",
    "neural_credit.fit(x_credit_train, y_credit_train)"
   ]
  },
  {
   "cell_type": "code",
   "execution_count": 7,
   "id": "3e7d9fbc",
   "metadata": {
    "ExecuteTime": {
     "end_time": "2021-09-25T19:02:53.783646Z",
     "start_time": "2021-09-25T19:02:53.772644Z"
    }
   },
   "outputs": [
    {
     "data": {
      "text/plain": [
       "1.0"
      ]
     },
     "execution_count": 7,
     "metadata": {},
     "output_type": "execute_result"
    }
   ],
   "source": [
    "pred = neural_credit.predict(x_credit_test)\n",
    "accuracy_score(y_credit_test, pred)"
   ]
  },
  {
   "cell_type": "code",
   "execution_count": 8,
   "id": "2614afed",
   "metadata": {
    "ExecuteTime": {
     "end_time": "2021-09-25T19:02:56.169976Z",
     "start_time": "2021-09-25T19:02:56.155974Z"
    }
   },
   "outputs": [
    {
     "name": "stdout",
     "output_type": "stream",
     "text": [
      "              precision    recall  f1-score   support\n",
      "\n",
      "           0       1.00      1.00      1.00       436\n",
      "           1       1.00      1.00      1.00        64\n",
      "\n",
      "    accuracy                           1.00       500\n",
      "   macro avg       1.00      1.00      1.00       500\n",
      "weighted avg       1.00      1.00      1.00       500\n",
      "\n"
     ]
    }
   ],
   "source": [
    "print(classification_report(y_credit_test, pred))"
   ]
  },
  {
   "cell_type": "code",
   "execution_count": 9,
   "id": "619b9658",
   "metadata": {
    "ExecuteTime": {
     "end_time": "2021-09-25T19:03:00.997287Z",
     "start_time": "2021-09-25T19:03:00.724224Z"
    }
   },
   "outputs": [
    {
     "data": {
      "image/png": "[encoded data removed]",
      "text/plain": [
       "<Figure size 504x504 with 2 Axes>"
      ]
     },
     "metadata": {
      "needs_background": "light"
     },
     "output_type": "display_data"
    }
   ],
   "source": [
    "skplt.metrics.plot_confusion_matrix(y_credit_test, pred, figsize=(7,7));"
   ]
  },
  {
   "cell_type": "markdown",
   "id": "da3f9558",
   "metadata": {},
   "source": [
    "## Census Data"
   ]
  },
  {
   "cell_type": "code",
   "execution_count": 11,
   "id": "16e4f4ec",
   "metadata": {
    "ExecuteTime": {
     "end_time": "2021-09-25T19:03:07.811477Z",
     "start_time": "2021-09-25T19:03:07.789473Z"
    }
   },
   "outputs": [],
   "source": [
    "with open('data/census.pkl', 'rb') as f:\n",
    "    x_census_train, y_census_train, x_census_test, y_census_test = pickle.load(f)"
   ]
  },
  {
   "cell_type": "markdown",
   "id": "f82cf971",
   "metadata": {},
   "source": [
    "Entradas + Saídas / 2"
   ]
  },
  {
   "cell_type": "code",
   "execution_count": 17,
   "id": "b2ec60b2",
   "metadata": {
    "ExecuteTime": {
     "end_time": "2021-09-25T18:54:41.111022Z",
     "start_time": "2021-09-25T18:54:41.098937Z"
    }
   },
   "outputs": [
    {
     "data": {
      "text/plain": [
       "54.5"
      ]
     },
     "execution_count": 17,
     "metadata": {},
     "output_type": "execute_result"
    }
   ],
   "source": [
    "# Camadas ocultas\n",
    "(108 + 1) / 2"
   ]
  },
  {
   "cell_type": "code",
   "execution_count": 12,
   "id": "447bae2c",
   "metadata": {
    "ExecuteTime": {
     "end_time": "2021-09-25T19:04:24.323368Z",
     "start_time": "2021-09-25T19:03:15.288223Z"
    }
   },
   "outputs": [
    {
     "data": {
      "text/plain": [
       "MLPClassifier(hidden_layer_sizes=(55, 55), max_iter=1000, tol=1e-05)"
      ]
     },
     "execution_count": 12,
     "metadata": {},
     "output_type": "execute_result"
    }
   ],
   "source": [
    "neural_census = MLPClassifier(max_iter=1000, tol=0.000010,\n",
    "                             hidden_layer_sizes=(55,55))\n",
    "neural_census.fit(x_census_train, y_census_train)"
   ]
  },
  {
   "cell_type": "code",
   "execution_count": 13,
   "id": "9c296672",
   "metadata": {
    "ExecuteTime": {
     "end_time": "2021-09-25T19:04:32.685747Z",
     "start_time": "2021-09-25T19:04:32.646739Z"
    }
   },
   "outputs": [
    {
     "data": {
      "text/plain": [
       "0.8178096212896623"
      ]
     },
     "execution_count": 13,
     "metadata": {},
     "output_type": "execute_result"
    }
   ],
   "source": [
    "pred1 = neural_census.predict(x_census_test)\n",
    "accuracy_score(y_census_test, pred1)"
   ]
  },
  {
   "cell_type": "code",
   "execution_count": 14,
   "id": "fa53098e",
   "metadata": {
    "ExecuteTime": {
     "end_time": "2021-09-25T19:04:34.817679Z",
     "start_time": "2021-09-25T19:04:34.694650Z"
    }
   },
   "outputs": [
    {
     "name": "stdout",
     "output_type": "stream",
     "text": [
      "              precision    recall  f1-score   support\n",
      "\n",
      "       <=50K       0.87      0.89      0.88      3693\n",
      "        >50K       0.64      0.58      0.61      1192\n",
      "\n",
      "    accuracy                           0.82      4885\n",
      "   macro avg       0.75      0.74      0.75      4885\n",
      "weighted avg       0.81      0.82      0.81      4885\n",
      "\n"
     ]
    }
   ],
   "source": [
    "print(classification_report(y_census_test, pred1))"
   ]
  },
  {
   "cell_type": "code",
   "execution_count": 15,
   "id": "fbe455c4",
   "metadata": {
    "ExecuteTime": {
     "end_time": "2021-09-25T19:04:37.244686Z",
     "start_time": "2021-09-25T19:04:37.007633Z"
    }
   },
   "outputs": [
    {
     "data": {
      "image/png": "[encoded data removed]",
      "text/plain": [
       "<Figure size 504x504 with 2 Axes>"
      ]
     },
     "metadata": {
      "needs_background": "light"
     },
     "output_type": "display_data"
    }
   ],
   "source": [
    "skplt.metrics.plot_confusion_matrix(y_census_test, pred1, figsize=(7,7));"
   ]
  }
 ],
 "metadata": {
  "kernelspec": {
   "display_name": "Python 3",
   "language": "python",
   "name": "python3"
  },
  "language_info": {
   "codemirror_mode": {
    "name": "ipython",
    "version": 3
   },
   "file_extension": ".py",
   "mimetype": "text/x-python",
   "name": "python",
   "nbconvert_exporter": "python",
   "pygments_lexer": "ipython3",
   "version": "3.8.8"
  },
  "varInspector": {
   "cols": {
    "lenName": 16,
    "lenType": 16,
    "lenVar": 40
   },
   "kernels_config": {
    "python": {
     "delete_cmd_postfix": "",
     "delete_cmd_prefix": "del ",
     "library": "var_list.py",
     "varRefreshCmd": "print(var_dic_list())"
    },
    "r": {
     "delete_cmd_postfix": ") ",
     "delete_cmd_prefix": "rm(",
     "library": "var_list.r",
     "varRefreshCmd": "cat(var_dic_list()) "
    }
   },
   "types_to_exclude": [
    "module",
    "function",
    "builtin_function_or_method",
    "instance",
    "_Feature"
   ],
   "window_display": false
  }
 },
 "nbformat": 4,
 "nbformat_minor": 5
}
