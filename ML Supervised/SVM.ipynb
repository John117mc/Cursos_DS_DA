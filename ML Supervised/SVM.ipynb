{
 "cells": [
  {
   "cell_type": "markdown",
   "id": "ea473ebe",
   "metadata": {},
   "source": [
    "# SVM (Support Vector Machine)\n",
    "\n",
    "* Utilizado em problemas complexos (reconhecimento de voz, imagens, caracteres)\n",
    "* Margem Máxima\n",
    "* Kernels\n",
    "\n",
    "### Vantagens:\n",
    "* Não influenciado por ruídos\n",
    "* Classificação ou Regressão\n",
    "* Aprende conceitos não presentes nos dados\n",
    "\n",
    "### Desvantagens:\n",
    "* Lento\n",
    "* Testar varios parâmetros\n",
    "* Black Box"
   ]
  },
  {
   "cell_type": "code",
   "execution_count": 2,
   "id": "e7d5d040",
   "metadata": {
    "ExecuteTime": {
     "end_time": "2021-09-21T17:53:33.552656Z",
     "start_time": "2021-09-21T17:53:33.540230Z"
    }
   },
   "outputs": [],
   "source": [
    "import pickle\n",
    "import scikitplot as skplt\n",
    "\n",
    "from sklearn.metrics import accuracy_score, classification_report\n",
    "from sklearn.svm import SVC"
   ]
  },
  {
   "cell_type": "markdown",
   "id": "fe8e2a55",
   "metadata": {},
   "source": [
    "## Credit Data"
   ]
  },
  {
   "cell_type": "code",
   "execution_count": 3,
   "id": "ed9376b9",
   "metadata": {
    "ExecuteTime": {
     "end_time": "2021-09-21T17:53:33.739736Z",
     "start_time": "2021-09-21T17:53:33.569716Z"
    }
   },
   "outputs": [],
   "source": [
    "with open('../data/credit.pkl', 'rb') as f:\n",
    "    x_credit_train, y_credit_train, x_credit_test, y_credit_test = pickle.load(f)"
   ]
  },
  {
   "cell_type": "code",
   "execution_count": 4,
   "id": "33dabab5",
   "metadata": {
    "ExecuteTime": {
     "end_time": "2021-09-21T17:54:01.802644Z",
     "start_time": "2021-09-21T17:54:01.451283Z"
    }
   },
   "outputs": [
    {
     "data": {
      "text/plain": [
       "SVC(C=2.0, random_state=1)"
      ]
     },
     "execution_count": 4,
     "metadata": {},
     "output_type": "execute_result"
    }
   ],
   "source": [
    "svm_credit = SVC(C=2.0, kernel='rbf', random_state=1)\n",
    "svm_credit.fit(x_credit_train, y_credit_train)"
   ]
  },
  {
   "cell_type": "code",
   "execution_count": 5,
   "id": "ce30b5aa",
   "metadata": {
    "ExecuteTime": {
     "end_time": "2021-09-21T17:54:26.450014Z",
     "start_time": "2021-09-21T17:54:26.423998Z"
    }
   },
   "outputs": [
    {
     "data": {
      "text/plain": [
       "0.988"
      ]
     },
     "execution_count": 5,
     "metadata": {},
     "output_type": "execute_result"
    }
   ],
   "source": [
    "pred = svm_credit.predict(x_credit_test)\n",
    "accuracy_score(y_credit_test, pred)"
   ]
  },
  {
   "cell_type": "code",
   "execution_count": 6,
   "id": "8dc45a18",
   "metadata": {
    "ExecuteTime": {
     "end_time": "2021-09-21T17:54:44.154407Z",
     "start_time": "2021-09-21T17:54:44.121398Z"
    }
   },
   "outputs": [
    {
     "name": "stdout",
     "output_type": "stream",
     "text": [
      "              precision    recall  f1-score   support\n",
      "\n",
      "           0       0.99      1.00      0.99       436\n",
      "           1       0.97      0.94      0.95        64\n",
      "\n",
      "    accuracy                           0.99       500\n",
      "   macro avg       0.98      0.97      0.97       500\n",
      "weighted avg       0.99      0.99      0.99       500\n",
      "\n"
     ]
    }
   ],
   "source": [
    "print(classification_report(y_credit_test, pred))"
   ]
  },
  {
   "cell_type": "code",
   "execution_count": 8,
   "id": "f480d8d5",
   "metadata": {
    "ExecuteTime": {
     "end_time": "2021-09-21T17:55:07.050141Z",
     "start_time": "2021-09-21T17:55:06.836092Z"
    }
   },
   "outputs": [
    {
     "data": {
      "image/png": "[encoded data removed]",
      "text/plain": [
       "<Figure size 504x504 with 2 Axes>"
      ]
     },
     "metadata": {
      "needs_background": "light"
     },
     "output_type": "display_data"
    }
   ],
   "source": [
    "skplt.metrics.plot_confusion_matrix(y_credit_test, pred, figsize=(7,7));"
   ]
  },
  {
   "cell_type": "markdown",
   "id": "51b7a567",
   "metadata": {},
   "source": [
    "## Census Data"
   ]
  },
  {
   "cell_type": "code",
   "execution_count": 9,
   "id": "c707ea9f",
   "metadata": {
    "ExecuteTime": {
     "end_time": "2021-09-21T17:55:28.188703Z",
     "start_time": "2021-09-21T17:55:28.150153Z"
    }
   },
   "outputs": [],
   "source": [
    "with open('../data/census.pkl', 'rb') as f:\n",
    "    x_census_train, y_census_train, x_census_test, y_census_test = pickle.load(f)"
   ]
  },
  {
   "cell_type": "code",
   "execution_count": 10,
   "id": "25817717",
   "metadata": {
    "ExecuteTime": {
     "end_time": "2021-09-21T17:57:38.592028Z",
     "start_time": "2021-09-21T17:55:58.105481Z"
    }
   },
   "outputs": [
    {
     "data": {
      "text/plain": [
       "SVC(kernel='linear', random_state=1)"
      ]
     },
     "execution_count": 10,
     "metadata": {},
     "output_type": "execute_result"
    }
   ],
   "source": [
    "svm_census = SVC(C=1.0, kernel='linear', random_state=1)\n",
    "svm_census.fit(x_census_train, y_census_train)"
   ]
  },
  {
   "cell_type": "code",
   "execution_count": 11,
   "id": "adb113c4",
   "metadata": {
    "ExecuteTime": {
     "end_time": "2021-09-21T18:00:58.343941Z",
     "start_time": "2021-09-21T18:00:54.843150Z"
    }
   },
   "outputs": [
    {
     "data": {
      "text/plain": [
       "0.8507676560900717"
      ]
     },
     "execution_count": 11,
     "metadata": {},
     "output_type": "execute_result"
    }
   ],
   "source": [
    "pred1 = svm_census.predict(x_census_test)\n",
    "accuracy_score(y_census_test, pred1)"
   ]
  },
  {
   "cell_type": "code",
   "execution_count": 12,
   "id": "2992d918",
   "metadata": {
    "ExecuteTime": {
     "end_time": "2021-09-21T18:01:00.884771Z",
     "start_time": "2021-09-21T18:01:00.755741Z"
    }
   },
   "outputs": [
    {
     "name": "stdout",
     "output_type": "stream",
     "text": [
      "              precision    recall  f1-score   support\n",
      "\n",
      "       <=50K       0.87      0.94      0.90      3693\n",
      "        >50K       0.75      0.58      0.66      1192\n",
      "\n",
      "    accuracy                           0.85      4885\n",
      "   macro avg       0.81      0.76      0.78      4885\n",
      "weighted avg       0.84      0.85      0.84      4885\n",
      "\n"
     ]
    }
   ],
   "source": [
    "print(classification_report(y_census_test, pred1))"
   ]
  },
  {
   "cell_type": "code",
   "execution_count": 13,
   "id": "b3f4621a",
   "metadata": {
    "ExecuteTime": {
     "end_time": "2021-09-21T18:01:06.755027Z",
     "start_time": "2021-09-21T18:01:06.524954Z"
    }
   },
   "outputs": [
    {
     "data": {
      "image/png": "[encoded data removed]",
      "text/plain": [
       "<Figure size 504x504 with 2 Axes>"
      ]
     },
     "metadata": {
      "needs_background": "light"
     },
     "output_type": "display_data"
    }
   ],
   "source": [
    "skplt.metrics.plot_confusion_matrix(y_census_test, pred1, figsize=(7,7));"
   ]
  }
 ],
 "metadata": {
  "kernelspec": {
   "display_name": "Python 3",
   "language": "python",
   "name": "python3"
  },
  "language_info": {
   "codemirror_mode": {
    "name": "ipython",
    "version": 3
   },
   "file_extension": ".py",
   "mimetype": "text/x-python",
   "name": "python",
   "nbconvert_exporter": "python",
   "pygments_lexer": "ipython3",
   "version": "3.8.8"
  },
  "varInspector": {
   "cols": {
    "lenName": 16,
    "lenType": 16,
    "lenVar": 40
   },
   "kernels_config": {
    "python": {
     "delete_cmd_postfix": "",
     "delete_cmd_prefix": "del ",
     "library": "var_list.py",
     "varRefreshCmd": "print(var_dic_list())"
    },
    "r": {
     "delete_cmd_postfix": ") ",
     "delete_cmd_prefix": "rm(",
     "library": "var_list.r",
     "varRefreshCmd": "cat(var_dic_list()) "
    }
   },
   "types_to_exclude": [
    "module",
    "function",
    "builtin_function_or_method",
    "instance",
    "_Feature"
   ],
   "window_display": false
  }
 },
 "nbformat": 4,
 "nbformat_minor": 5
}
