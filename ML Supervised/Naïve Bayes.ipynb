{
 "cells": [
  {
   "cell_type": "markdown",
   "id": "5f88ee45",
   "metadata": {},
   "source": [
    "# Aprendizagem Naive Bayes\n",
    "\n",
    "* Funcionamento: Tabela de Probabilidade\n",
    "</br>\n",
    "\n",
    "\n",
    "* Exemplos de aplicações:\n",
    "* Filtros de Span\n",
    "* Minerações de emoções\n",
    "* Separação de documentos\n"
   ]
  },
  {
   "cell_type": "code",
   "execution_count": 2,
   "id": "ac3e6e33",
   "metadata": {},
   "outputs": [],
   "source": [
    "# Carregar ou salvar arquivos em pkl\n",
    "import pickle\n",
    "\n",
    "# Modelo de Aprendizagem\n",
    "from sklearn.naive_bayes import GaussianNB\n",
    "\n",
    "# Metricas para avaliação da aprendizagem\n",
    "from sklearn.metrics import accuracy_score, classification_report, confusion_matrix\n",
    "\n",
    "# Matriz de Confusão\n",
    "from yellowbrick.classifier import ConfusionMatrix"
   ]
  },
  {
   "cell_type": "markdown",
   "id": "ecb26899",
   "metadata": {},
   "source": [
    "## Credit Data"
   ]
  },
  {
   "cell_type": "code",
   "execution_count": 3,
   "id": "485b844b",
   "metadata": {},
   "outputs": [],
   "source": [
    "# Carregando o arquivo\n",
    "with open('../data/credit.pkl', 'rb') as f:\n",
    "    x_credit_train, y_credit_train, x_credit_test, y_credit_test = pickle.load(f)"
   ]
  },
  {
   "cell_type": "code",
   "execution_count": 4,
   "id": "c9437d5d",
   "metadata": {},
   "outputs": [],
   "source": [
    "# Treinando o algoritmo\n",
    "naive_bayes_credit = GaussianNB()\n",
    "naive_bayes_credit.fit(x_credit_train, y_credit_train)\n",
    "\n",
    "predict = naive_bayes_credit.predict(x_credit_test)"
   ]
  },
  {
   "cell_type": "code",
   "execution_count": 5,
   "id": "063c3c0f",
   "metadata": {},
   "outputs": [
    {
     "data": {
      "text/plain": [
       "0.938"
      ]
     },
     "execution_count": 5,
     "metadata": {},
     "output_type": "execute_result"
    }
   ],
   "source": [
    "# Taxa de acerto\n",
    "accuracy_score(y_credit_test, predict)\n",
    "#confusion_matrix(y_credit_test, predict)"
   ]
  },
  {
   "cell_type": "code",
   "execution_count": 30,
   "id": "79adee48",
   "metadata": {},
   "outputs": [
    {
     "data": {
      "image/png": "[encoded data removed]",
      "text/plain": [
       "<Figure size 576x396 with 1 Axes>"
      ]
     },
     "metadata": {},
     "output_type": "display_data"
    }
   ],
   "source": [
    "# Matriz de Confusão para a visualização de acertos e erros\n",
    "cm = ConfusionMatrix(naive_bayes_credit)\n",
    "cm.fit(x_credit_train, y_credit_train)\n",
    "cm.score(x_credit_test, y_credit_test)\n",
    "cm.show();"
   ]
  },
  {
   "cell_type": "code",
   "execution_count": 26,
   "id": "d3c3883d",
   "metadata": {},
   "outputs": [
    {
     "name": "stdout",
     "output_type": "stream",
     "text": [
      "              precision    recall  f1-score   support\n",
      "\n",
      "           0       0.95      0.98      0.97       436\n",
      "           1       0.84      0.64      0.73        64\n",
      "\n",
      "    accuracy                           0.94       500\n",
      "   macro avg       0.89      0.81      0.85       500\n",
      "weighted avg       0.93      0.94      0.93       500\n",
      "\n"
     ]
    }
   ],
   "source": [
    "print(classification_report(y_credit_test, predict))"
   ]
  },
  {
   "cell_type": "markdown",
   "id": "e5eaf169",
   "metadata": {},
   "source": [
    "## Census Data"
   ]
  },
  {
   "cell_type": "code",
   "execution_count": 8,
   "id": "b6c4e32f",
   "metadata": {},
   "outputs": [],
   "source": [
    "with open('../data/census.pkl', 'rb') as f:\n",
    "    x_census_train, y_census_train, x_census_test, y_census_test = pickle.load(f)"
   ]
  },
  {
   "cell_type": "code",
   "execution_count": 9,
   "id": "15aca1bb",
   "metadata": {},
   "outputs": [
    {
     "data": {
      "text/plain": [
       "GaussianNB()"
      ]
     },
     "execution_count": 9,
     "metadata": {},
     "output_type": "execute_result"
    }
   ],
   "source": [
    "nb_census = GaussianNB()\n",
    "nb_census.fit(x_census_train, y_census_train)"
   ]
  },
  {
   "cell_type": "code",
   "execution_count": 10,
   "id": "7ffd2c0d",
   "metadata": {},
   "outputs": [
    {
     "data": {
      "text/plain": [
       "array([' >50K', ' >50K', ' >50K', ..., ' <=50K', ' >50K', ' >50K'],\n",
       "      dtype='<U6')"
      ]
     },
     "execution_count": 10,
     "metadata": {},
     "output_type": "execute_result"
    }
   ],
   "source": [
    "predict2 = nb_census.predict(x_census_test)\n",
    "predict2"
   ]
  },
  {
   "cell_type": "code",
   "execution_count": 11,
   "id": "ffff96a3",
   "metadata": {},
   "outputs": [
    {
     "name": "stdout",
     "output_type": "stream",
     "text": [
      "              precision    recall  f1-score   support\n",
      "\n",
      "       <=50K       0.97      0.32      0.48      3693\n",
      "        >50K       0.31      0.97      0.48      1192\n",
      "\n",
      "    accuracy                           0.48      4885\n",
      "   macro avg       0.64      0.64      0.48      4885\n",
      "weighted avg       0.81      0.48      0.48      4885\n",
      "\n"
     ]
    }
   ],
   "source": [
    "print(classification_report(y_census_test, predict2))"
   ]
  },
  {
   "cell_type": "code",
   "execution_count": 38,
   "id": "1e0404ad",
   "metadata": {},
   "outputs": [
    {
     "data": {
      "image/png": "[encoded data removed]",
      "text/plain": [
       "<Figure size 576x396 with 1 Axes>"
      ]
     },
     "metadata": {},
     "output_type": "display_data"
    }
   ],
   "source": [
    "cm = ConfusionMatrix(nb_census)\n",
    "cm.fit(x_census_train, y_census_train)\n",
    "cm.score(x_census_test, y_census_test)\n",
    "cm.show();"
   ]
  },
  {
   "cell_type": "markdown",
   "id": "7162591b",
   "metadata": {},
   "source": [
    "## Risco de Crédito"
   ]
  },
  {
   "cell_type": "code",
   "execution_count": 26,
   "id": "61fcff22",
   "metadata": {},
   "outputs": [],
   "source": [
    "with open('../data/risco_credito.pkl', 'rb') as f:\n",
    "    x_risco, y_risco = pickle.load(f)"
   ]
  },
  {
   "cell_type": "code",
   "execution_count": 27,
   "id": "d2dcab2a",
   "metadata": {},
   "outputs": [
    {
     "data": {
      "text/plain": [
       "GaussianNB()"
      ]
     },
     "execution_count": 27,
     "metadata": {},
     "output_type": "execute_result"
    }
   ],
   "source": [
    "nb_risco = GaussianNB()\n",
    "nb_risco.fit(x_risco, y_risco)"
   ]
  },
  {
   "cell_type": "code",
   "execution_count": 35,
   "id": "55d37685",
   "metadata": {},
   "outputs": [
    {
     "name": "stdout",
     "output_type": "stream",
     "text": [
      "Chance do cliente não pagar o emprestimo ['alto']\n"
     ]
    }
   ],
   "source": [
    "# Previsão de 1 cliente\n",
    "predict3 = nb_risco.predict([[0,2,1,1]])\n",
    "print('Chance do cliente não pagar o emprestimo', predict3)"
   ]
  },
  {
   "cell_type": "code",
   "execution_count": 36,
   "id": "50ba7575",
   "metadata": {},
   "outputs": [
    {
     "name": "stdout",
     "output_type": "stream",
     "text": [
      "Chance dos clientes não pagarem o emprestimo ['alto' 'moderado']\n"
     ]
    }
   ],
   "source": [
    "# Previsão de 2 cliente\n",
    "predict3 = nb_risco.predict([[0,1,1,0],[2,1,0,1]])\n",
    "print('Chance dos clientes não pagarem o emprestimo', predict3)"
   ]
  }
 ],
 "metadata": {
  "kernelspec": {
   "display_name": "Python 3",
   "language": "python",
   "name": "python3"
  },
  "language_info": {
   "codemirror_mode": {
    "name": "ipython",
    "version": 3
   },
   "file_extension": ".py",
   "mimetype": "text/x-python",
   "name": "python",
   "nbconvert_exporter": "python",
   "pygments_lexer": "ipython3",
   "version": "3.8.8"
  },
  "varInspector": {
   "cols": {
    "lenName": 16,
    "lenType": 16,
    "lenVar": 40
   },
   "kernels_config": {
    "python": {
     "delete_cmd_postfix": "",
     "delete_cmd_prefix": "del ",
     "library": "var_list.py",
     "varRefreshCmd": "print(var_dic_list())"
    },
    "r": {
     "delete_cmd_postfix": ") ",
     "delete_cmd_prefix": "rm(",
     "library": "var_list.r",
     "varRefreshCmd": "cat(var_dic_list()) "
    }
   },
   "types_to_exclude": [
    "module",
    "function",
    "builtin_function_or_method",
    "instance",
    "_Feature"
   ],
   "window_display": false
  }
 },
 "nbformat": 4,
 "nbformat_minor": 5
}
