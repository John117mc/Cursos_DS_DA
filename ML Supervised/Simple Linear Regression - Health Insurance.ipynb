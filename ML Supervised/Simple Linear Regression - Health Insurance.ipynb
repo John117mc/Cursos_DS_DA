{
 "cells": [
  {
   "cell_type": "code",
   "execution_count": 1,
   "id": "2a6ca8ef",
   "metadata": {
    "ExecuteTime": {
     "end_time": "2021-10-13T11:20:19.213151Z",
     "start_time": "2021-10-13T11:19:33.025188Z"
    }
   },
   "outputs": [],
   "source": [
    "import pandas as pd\n",
    "import numpy as np\n",
    "import seaborn as sns\n",
    "import matplotlib.pyplot as plt\n",
    "import plotly.express as px\n",
    "\n",
    "\n",
    "from sklearn.linear_model import LinearRegression"
   ]
  },
  {
   "cell_type": "code",
   "execution_count": 2,
   "id": "3736b847",
   "metadata": {
    "ExecuteTime": {
     "end_time": "2021-10-13T11:20:32.309126Z",
     "start_time": "2021-10-13T11:20:30.533967Z"
    }
   },
   "outputs": [
    {
     "data": {
      "text/html": [
       "<div>\n",
       "<style scoped>\n",
       "    .dataframe tbody tr th:only-of-type {\n",
       "        vertical-align: middle;\n",
       "    }\n",
       "\n",
       "    .dataframe tbody tr th {\n",
       "        vertical-align: top;\n",
       "    }\n",
       "\n",
       "    .dataframe thead th {\n",
       "        text-align: right;\n",
       "    }\n",
       "</style>\n",
       "<table border=\"1\" class=\"dataframe\">\n",
       "  <thead>\n",
       "    <tr style=\"text-align: right;\">\n",
       "      <th></th>\n",
       "      <th>idade</th>\n",
       "      <th>custo</th>\n",
       "    </tr>\n",
       "  </thead>\n",
       "  <tbody>\n",
       "    <tr>\n",
       "      <th>0</th>\n",
       "      <td>18</td>\n",
       "      <td>871</td>\n",
       "    </tr>\n",
       "    <tr>\n",
       "      <th>1</th>\n",
       "      <td>23</td>\n",
       "      <td>1132</td>\n",
       "    </tr>\n",
       "    <tr>\n",
       "      <th>2</th>\n",
       "      <td>28</td>\n",
       "      <td>1242</td>\n",
       "    </tr>\n",
       "    <tr>\n",
       "      <th>3</th>\n",
       "      <td>33</td>\n",
       "      <td>1356</td>\n",
       "    </tr>\n",
       "    <tr>\n",
       "      <th>4</th>\n",
       "      <td>38</td>\n",
       "      <td>1488</td>\n",
       "    </tr>\n",
       "    <tr>\n",
       "      <th>5</th>\n",
       "      <td>43</td>\n",
       "      <td>1638</td>\n",
       "    </tr>\n",
       "    <tr>\n",
       "      <th>6</th>\n",
       "      <td>48</td>\n",
       "      <td>2130</td>\n",
       "    </tr>\n",
       "    <tr>\n",
       "      <th>7</th>\n",
       "      <td>53</td>\n",
       "      <td>2454</td>\n",
       "    </tr>\n",
       "    <tr>\n",
       "      <th>8</th>\n",
       "      <td>58</td>\n",
       "      <td>3066</td>\n",
       "    </tr>\n",
       "    <tr>\n",
       "      <th>9</th>\n",
       "      <td>63</td>\n",
       "      <td>4090</td>\n",
       "    </tr>\n",
       "  </tbody>\n",
       "</table>\n",
       "</div>"
      ],
      "text/plain": [
       "   idade  custo\n",
       "0     18    871\n",
       "1     23   1132\n",
       "2     28   1242\n",
       "3     33   1356\n",
       "4     38   1488\n",
       "5     43   1638\n",
       "6     48   2130\n",
       "7     53   2454\n",
       "8     58   3066\n",
       "9     63   4090"
      ]
     },
     "execution_count": 2,
     "metadata": {},
     "output_type": "execute_result"
    }
   ],
   "source": [
    "health = pd.read_csv('../data/plano_saude.csv')\n",
    "health"
   ]
  },
  {
   "cell_type": "code",
   "execution_count": 3,
   "id": "effe7dde",
   "metadata": {
    "ExecuteTime": {
     "end_time": "2021-10-13T11:20:32.357369Z",
     "start_time": "2021-10-13T11:20:32.343133Z"
    }
   },
   "outputs": [],
   "source": [
    "X_health = health['idade'].values\n",
    "y_health = health['custo'].values"
   ]
  },
  {
   "cell_type": "code",
   "execution_count": 4,
   "id": "f7e5c885",
   "metadata": {
    "ExecuteTime": {
     "end_time": "2021-10-13T11:20:33.332790Z",
     "start_time": "2021-10-13T11:20:33.326789Z"
    }
   },
   "outputs": [],
   "source": [
    "X_health = X_health.reshape(-1,1)"
   ]
  },
  {
   "cell_type": "code",
   "execution_count": 5,
   "id": "87adb306",
   "metadata": {
    "ExecuteTime": {
     "end_time": "2021-10-13T11:20:37.321627Z",
     "start_time": "2021-10-13T11:20:34.382376Z"
    }
   },
   "outputs": [
    {
     "data": {
      "text/plain": [
       "LinearRegression()"
      ]
     },
     "execution_count": 5,
     "metadata": {},
     "output_type": "execute_result"
    }
   ],
   "source": [
    "model = LinearRegression()\n",
    "model.fit(X_health, y_health)"
   ]
  },
  {
   "cell_type": "markdown",
   "id": "c9cfee16",
   "metadata": {},
   "source": [
    "**b0** e **b1** define a localização da linha"
   ]
  },
  {
   "cell_type": "code",
   "execution_count": 6,
   "id": "7dfd186c",
   "metadata": {
    "ExecuteTime": {
     "end_time": "2021-10-13T11:20:38.096020Z",
     "start_time": "2021-10-13T11:20:38.079373Z"
    }
   },
   "outputs": [
    {
     "data": {
      "text/plain": [
       "-558.9490909090912"
      ]
     },
     "execution_count": 6,
     "metadata": {},
     "output_type": "execute_result"
    }
   ],
   "source": [
    "# bo\n",
    "model.intercept_"
   ]
  },
  {
   "cell_type": "code",
   "execution_count": 7,
   "id": "11853210",
   "metadata": {
    "ExecuteTime": {
     "end_time": "2021-10-13T11:20:38.646408Z",
     "start_time": "2021-10-13T11:20:38.623359Z"
    }
   },
   "outputs": [
    {
     "data": {
      "text/plain": [
       "array([61.86787879])"
      ]
     },
     "execution_count": 7,
     "metadata": {},
     "output_type": "execute_result"
    }
   ],
   "source": [
    "# b1\n",
    "model.coef_"
   ]
  },
  {
   "cell_type": "code",
   "execution_count": 8,
   "id": "40965c0e",
   "metadata": {
    "ExecuteTime": {
     "end_time": "2021-10-13T11:20:39.183518Z",
     "start_time": "2021-10-13T11:20:39.166475Z"
    }
   },
   "outputs": [],
   "source": [
    "pred = model.predict(X_health)"
   ]
  },
  {
   "cell_type": "code",
   "execution_count": 52,
   "id": "4c50bfba",
   "metadata": {
    "ExecuteTime": {
     "end_time": "2021-10-13T11:43:39.101005Z",
     "start_time": "2021-10-13T11:43:38.893381Z"
    }
   },
   "outputs": [
    {
     "data": {
      "image/png": "[encoded data removed]",
      "text/plain": [
       "<Figure size 936x612 with 1 Axes>"
      ]
     },
     "metadata": {},
     "output_type": "display_data"
    }
   ],
   "source": [
    "sns.set_style('darkgrid')\n",
    "fig, ax = plt.subplots()\n",
    "fig.set_size_inches(13.0, 8.5)\n",
    "sns.regplot(x= X_health, y= y_health, ax=ax, ci=None, line_kws={'color': 'red', 'lw': 2}, truncate=False)\n",
    "sns.despine()"
   ]
  },
  {
   "cell_type": "markdown",
   "id": "37e85db0",
   "metadata": {},
   "source": [
    "**b0 + b1 * xi**"
   ]
  },
  {
   "cell_type": "code",
   "execution_count": 10,
   "id": "c2f8c47b",
   "metadata": {
    "ExecuteTime": {
     "end_time": "2021-10-13T11:21:37.434651Z",
     "start_time": "2021-10-13T11:21:37.419027Z"
    }
   },
   "outputs": [
    {
     "data": {
      "text/plain": [
       "array([1915.76606061])"
      ]
     },
     "execution_count": 10,
     "metadata": {},
     "output_type": "execute_result"
    }
   ],
   "source": [
    "model.intercept_ + model.coef_ * 40"
   ]
  },
  {
   "cell_type": "code",
   "execution_count": 11,
   "id": "5095b000",
   "metadata": {
    "ExecuteTime": {
     "end_time": "2021-10-13T11:21:37.684668Z",
     "start_time": "2021-10-13T11:21:37.465904Z"
    }
   },
   "outputs": [
    {
     "data": {
      "text/plain": [
       "array([1915.76606061])"
      ]
     },
     "execution_count": 11,
     "metadata": {},
     "output_type": "execute_result"
    }
   ],
   "source": [
    "model.predict([[40]])"
   ]
  },
  {
   "cell_type": "code",
   "execution_count": 12,
   "id": "5cef69ea",
   "metadata": {
    "ExecuteTime": {
     "end_time": "2021-10-13T11:21:39.769348Z",
     "start_time": "2021-10-13T11:21:37.715931Z"
    }
   },
   "outputs": [
    {
     "data": {
      "image/png": "[encoded data removed]",
      "text/plain": [
       "<Figure size 432x288 with 1 Axes>"
      ]
     },
     "metadata": {
      "needs_background": "light"
     },
     "output_type": "display_data"
    }
   ],
   "source": [
    "sns.residplot(x= y_health,y=  pred, lowess=False)\n",
    "plt.title('Residuals for LinearRegression Model')\n",
    "plt.xlabel('Predict Value')\n",
    "plt.ylabel('Residuals')\n",
    "plt.show();"
   ]
  }
 ],
 "metadata": {
  "kernelspec": {
   "display_name": "Python 3",
   "language": "python",
   "name": "python3"
  },
  "language_info": {
   "codemirror_mode": {
    "name": "ipython",
    "version": 3
   },
   "file_extension": ".py",
   "mimetype": "text/x-python",
   "name": "python",
   "nbconvert_exporter": "python",
   "pygments_lexer": "ipython3",
   "version": "3.8.8"
  },
  "varInspector": {
   "cols": {
    "lenName": 16,
    "lenType": 16,
    "lenVar": 40
   },
   "kernels_config": {
    "python": {
     "delete_cmd_postfix": "",
     "delete_cmd_prefix": "del ",
     "library": "var_list.py",
     "varRefreshCmd": "print(var_dic_list())"
    },
    "r": {
     "delete_cmd_postfix": ") ",
     "delete_cmd_prefix": "rm(",
     "library": "var_list.r",
     "varRefreshCmd": "cat(var_dic_list()) "
    }
   },
   "types_to_exclude": [
    "module",
    "function",
    "builtin_function_or_method",
    "instance",
    "_Feature"
   ],
   "window_display": false
  }
 },
 "nbformat": 4,
 "nbformat_minor": 5
}
