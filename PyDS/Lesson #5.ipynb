{
 "cells": [
  {
   "cell_type": "markdown",
   "id": "aa24fb9c",
   "metadata": {},
   "source": [
    "# Planejamento da Solução\n",
    "\n",
    "   - Produto Final:\n",
    "        - Um link (URL):\n",
    "            - Informações importantes\n",
    "            - Mapa interativo\n",
    "            - Dashboard interativo\n",
    "            \n",
    "            \n",
    "   - Ferramentas:\n",
    "       - Jupyter\n",
    "\n",
    "\n",
    "   - Processos:\n",
    "       - Organizar os códigos em funções e seções\n",
    "       - Pesquisar bibliotecas para a criação de mapa na Web"
   ]
  },
  {
   "cell_type": "markdown",
   "id": "166a445c",
   "metadata": {},
   "source": [
    "# Imports"
   ]
  },
  {
   "cell_type": "code",
   "execution_count": 24,
   "id": "8ea7f620",
   "metadata": {
    "ExecuteTime": {
     "end_time": "2021-12-26T18:33:17.560395Z",
     "start_time": "2021-12-26T18:33:17.543898Z"
    }
   },
   "outputs": [],
   "source": [
    "import pandas as pd\n",
    "import numpy as np\n",
    "import plotly.express as px\n",
    "\n",
    "from geopy.geocoders import Nominatim"
   ]
  },
  {
   "cell_type": "markdown",
   "id": "a9fd924c",
   "metadata": {},
   "source": [
    "# Functions"
   ]
  },
  {
   "cell_type": "code",
   "execution_count": 25,
   "id": "a4bacab2",
   "metadata": {
    "ExecuteTime": {
     "end_time": "2021-12-26T18:33:18.436597Z",
     "start_time": "2021-12-26T18:33:18.429596Z"
    }
   },
   "outputs": [],
   "source": [
    "def show_dtypes (data):\n",
    "    print(data.dtypes)\n",
    "    return None"
   ]
  },
  {
   "cell_type": "code",
   "execution_count": 26,
   "id": "2864c2d8",
   "metadata": {
    "ExecuteTime": {
     "end_time": "2021-12-26T18:33:18.784219Z",
     "start_time": "2021-12-26T18:33:18.773209Z"
    }
   },
   "outputs": [],
   "source": [
    "def show_dimensions(data):\n",
    "    print('Number of rows:{}'.format(data.shape[0]))\n",
    "    print('Number of columns:{}'.format(data.shape[1]))\n",
    "    return None"
   ]
  },
  {
   "cell_type": "code",
   "execution_count": 27,
   "id": "96d34f1b",
   "metadata": {
    "ExecuteTime": {
     "end_time": "2021-12-26T18:33:20.003393Z",
     "start_time": "2021-12-26T18:33:19.990380Z"
    }
   },
   "outputs": [],
   "source": [
    "def collect_geodata(data, cols):\n",
    "    geolocator = Nominatim(user_agent = 'geoapi')\n",
    "    \n",
    "    data.loc[:, cols[0]] = 'NA'\n",
    "    data.loc[:, cols[1]] = 'NA'\n",
    "\n",
    "    \n",
    "    for i in range(0, len(data)):\n",
    "        query = str(data.loc[i, 'lat']) + ',' + str(data.loc[i, 'long'])\n",
    "\n",
    "        response = geolocator.reverse(query)\n",
    "\n",
    "        if cols[0] in response.raw['address']:\n",
    "            data.loc[i, cols[0]] = response.raw['address'][cols[0]]\n",
    "\n",
    "        if cols[1] in response.raw['address']:\n",
    "            data.loc[i, cols[1]] = response.raw['address'][cols[1]]\n",
    "    \n",
    "    return data"
   ]
  },
  {
   "cell_type": "markdown",
   "id": "a968be71",
   "metadata": {},
   "source": [
    "# ETL"
   ]
  },
  {
   "cell_type": "code",
   "execution_count": 37,
   "id": "763cc7f9",
   "metadata": {
    "ExecuteTime": {
     "end_time": "2021-12-26T18:37:06.789099Z",
     "start_time": "2021-12-26T18:37:06.780099Z"
    }
   },
   "outputs": [],
   "source": [
    "def data_collect(path):\n",
    "    data = pd.read_csv(path)\n",
    "    data.head()\n",
    "    \n",
    "    # extraction Analysis\n",
    "    show_dimensions(data)\n",
    "    show_dtypes(data)\n",
    "    \n",
    "    return data"
   ]
  },
  {
   "cell_type": "code",
   "execution_count": 38,
   "id": "46fbb4d9",
   "metadata": {
    "ExecuteTime": {
     "end_time": "2021-12-26T18:37:09.161016Z",
     "start_time": "2021-12-26T18:37:09.141016Z"
    }
   },
   "outputs": [],
   "source": [
    "def data_transform(data):\n",
    "    # convert object to date\n",
    "    data['date'] = pd.to_datetime(data['date'])\n",
    "    \n",
    "    # descriptive statistics\n",
    "    num_attributes = data.select_dtypes(include = ['int64','float64'])\n",
    "\n",
    "    # central tendency\n",
    "    pd.set_option('display.float_format', lambda x: '%.2f' % x)\n",
    "    media = pd.DataFrame(num_attributes.apply(np.mean, axis =  0))\n",
    "    mediana = pd.DataFrame(num_attributes.apply(np.median, axis = 0))\n",
    "\n",
    "    # dispersion\n",
    "    std = pd.DataFrame(num_attributes.apply(np.std, axis = 0))\n",
    "    min_ = pd.DataFrame(num_attributes.apply(np.min, axis = 0))\n",
    "    max_ = pd.DataFrame(num_attributes.apply(np.max, axis = 0))\n",
    "    \n",
    "    df = pd.concat([min_, max_, media, mediana, std], axis = 1).reset_index()\n",
    "    df.columns = ['Atributos','Minimo','Maximo','Media','Mediana','Std']\n",
    "    df\n",
    "    \n",
    "    show_dimensions(df)\n",
    "    \n",
    "    data['dormitory_type'] = 'NA'\n",
    "\n",
    "    for i in range(len(data)):\n",
    "        if data.loc[i, 'bedrooms'] == 1:\n",
    "            data.loc[i, 'dormitory_type'] = 'studio'\n",
    "\n",
    "        elif data.loc[i, 'bedrooms'] == 2:\n",
    "            data.loc[i, 'dormitory_type'] = 'apartment'\n",
    "\n",
    "        else:\n",
    "            data.loc[i, 'dormitory_type'] = 'house'\n",
    "            \n",
    "            data['nivel'] = 'NA'\n",
    "\n",
    "    for i in range(len(data)):\n",
    "      if data.loc[i, 'price'] < 321950:\n",
    "        data.loc[i, 'nivel'] = 0\n",
    "\n",
    "      elif (data.loc[i, 'price'] >= 321951) & (data.loc[i, 'price'] < 450000):\n",
    "        data.loc[i, 'nivel'] = 1\n",
    "\n",
    "      elif (data.loc[i, 'price'] >= 450001) & (data.loc[i, 'price'] < 645000):\n",
    "        data.loc[i, 'nivel'] = 2\n",
    "\n",
    "      else:\n",
    "        data.loc[i, 'nivel'] = 3\n",
    "        \n",
    "    cols = ['road','house_number']\n",
    "    df2 = data.head(20)\n",
    "    df3 = collect_geodata(df2,cols)\n",
    "    \n",
    "    return data"
   ]
  },
  {
   "cell_type": "code",
   "execution_count": 39,
   "id": "0a9b3477",
   "metadata": {
    "ExecuteTime": {
     "end_time": "2021-12-26T18:37:10.633476Z",
     "start_time": "2021-12-26T18:37:10.620472Z"
    },
    "scrolled": true
   },
   "outputs": [],
   "source": [
    "def data_load(data):\n",
    "    house = data[['id','price','lat','long','nivel']].copy()\n",
    "\n",
    "    fig = px.scatter_mapbox(house,\n",
    "                            lat='lat',\n",
    "                            lon= 'long',\n",
    "                            color= 'nivel',\n",
    "                            size= 'price',\n",
    "                            color_continuous_scale= px.colors.cyclical.Edge,\n",
    "                            size_max= 15,\n",
    "                            zoom= 10)\n",
    "\n",
    "    fig.update_layout(mapbox_style = 'open-street-map')\n",
    "    fig.update_layout(height = 600, margin={'r':0, 't':0, 'l':0, 'b':0})\n",
    "    fig.show()\n",
    "    \n",
    "    return None"
   ]
  },
  {
   "cell_type": "code",
   "execution_count": null,
   "id": "452ed693",
   "metadata": {},
   "outputs": [],
   "source": [
    "if __name__ == '__main__':\n",
    "    \n",
    "    data_raw = data_collect('../datasets/kc_house_data.csv')\n",
    "    \n",
    "    data_processing = data_transform(data_raw)\n",
    "    \n",
    "    data_load(data_processing)"
   ]
  }
 ],
 "metadata": {
  "kernelspec": {
   "display_name": "Python 3 (ipykernel)",
   "language": "python",
   "name": "python3"
  },
  "language_info": {
   "codemirror_mode": {
    "name": "ipython",
    "version": 3
   },
   "file_extension": ".py",
   "mimetype": "text/x-python",
   "name": "python",
   "nbconvert_exporter": "python",
   "pygments_lexer": "ipython3",
   "version": "3.8.8"
  },
  "varInspector": {
   "cols": {
    "lenName": 16,
    "lenType": 16,
    "lenVar": 40
   },
   "kernels_config": {
    "python": {
     "delete_cmd_postfix": "",
     "delete_cmd_prefix": "del ",
     "library": "var_list.py",
     "varRefreshCmd": "print(var_dic_list())"
    },
    "r": {
     "delete_cmd_postfix": ") ",
     "delete_cmd_prefix": "rm(",
     "library": "var_list.r",
     "varRefreshCmd": "cat(var_dic_list()) "
    }
   },
   "types_to_exclude": [
    "module",
    "function",
    "builtin_function_or_method",
    "instance",
    "_Feature"
   ],
   "window_display": false
  }
 },
 "nbformat": 4,
 "nbformat_minor": 5
}
