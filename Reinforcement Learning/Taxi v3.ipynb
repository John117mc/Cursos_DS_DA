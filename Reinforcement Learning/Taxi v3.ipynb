{
 "cells": [
  {
   "cell_type": "code",
   "execution_count": 10,
   "id": "7fc96855",
   "metadata": {
    "ExecuteTime": {
     "end_time": "2021-10-30T19:16:46.551429Z",
     "start_time": "2021-10-30T19:16:46.544417Z"
    }
   },
   "outputs": [],
   "source": [
    "import numpy as np\n",
    "import random\n",
    "import gym\n",
    "\n",
    "from time import sleep\n",
    "from IPython.display import clear_output"
   ]
  },
  {
   "cell_type": "markdown",
   "id": "88a0e7b4",
   "metadata": {},
   "source": [
    "## Configuring the Environment"
   ]
  },
  {
   "cell_type": "code",
   "execution_count": 11,
   "id": "c41d8309",
   "metadata": {
    "ExecuteTime": {
     "end_time": "2021-10-30T19:17:10.007790Z",
     "start_time": "2021-10-30T19:16:58.850047Z"
    }
   },
   "outputs": [],
   "source": [
    "env = gym.make('Taxi-v3').env"
   ]
  },
  {
   "cell_type": "markdown",
   "id": "acfe0bde",
   "metadata": {},
   "source": [
    "* Blue = Passenger\n",
    "* Pink = Destination"
   ]
  },
  {
   "cell_type": "code",
   "execution_count": 12,
   "id": "d010bbcb",
   "metadata": {
    "ExecuteTime": {
     "end_time": "2021-10-30T19:17:54.928216Z",
     "start_time": "2021-10-30T19:17:54.904037Z"
    }
   },
   "outputs": [
    {
     "name": "stdout",
     "output_type": "stream",
     "text": [
      "+---------+\n",
      "|\u001b[35mR\u001b[0m: | : :\u001b[34;1m\u001b[43mG\u001b[0m\u001b[0m|\n",
      "| : | : : |\n",
      "| : : : : |\n",
      "| | : | : |\n",
      "|Y| : |B: |\n",
      "+---------+\n",
      "\n"
     ]
    }
   ],
   "source": [
    "env.render()"
   ]
  },
  {
   "cell_type": "code",
   "execution_count": 13,
   "id": "f376c2cc",
   "metadata": {
    "ExecuteTime": {
     "end_time": "2021-10-30T19:17:57.036200Z",
     "start_time": "2021-10-30T19:17:57.032195Z"
    }
   },
   "outputs": [
    {
     "name": "stdout",
     "output_type": "stream",
     "text": [
      "+---------+\n",
      "|R: | : :G|\n",
      "| : |\u001b[43m \u001b[0m: : |\n",
      "| : : : : |\n",
      "| | : | : |\n",
      "|\u001b[34;1mY\u001b[0m| : |\u001b[35mB\u001b[0m: |\n",
      "+---------+\n",
      "\n"
     ]
    }
   ],
   "source": [
    "env.reset()\n",
    "env.render()"
   ]
  },
  {
   "cell_type": "code",
   "execution_count": 14,
   "id": "10f2f00f",
   "metadata": {
    "ExecuteTime": {
     "end_time": "2021-10-30T19:17:59.524787Z",
     "start_time": "2021-10-30T19:17:59.512788Z"
    }
   },
   "outputs": [
    {
     "data": {
      "text/plain": [
       "Discrete(500)"
      ]
     },
     "execution_count": 14,
     "metadata": {},
     "output_type": "execute_result"
    }
   ],
   "source": [
    "# row x col x passenger locations x destinations\n",
    "env.observation_space"
   ]
  },
  {
   "cell_type": "code",
   "execution_count": 15,
   "id": "cc5c42a5",
   "metadata": {
    "ExecuteTime": {
     "end_time": "2021-10-30T19:17:59.980104Z",
     "start_time": "2021-10-30T19:17:59.968102Z"
    }
   },
   "outputs": [
    {
     "data": {
      "text/plain": [
       "Discrete(6)"
      ]
     },
     "execution_count": 15,
     "metadata": {},
     "output_type": "execute_result"
    }
   ],
   "source": [
    "env.action_space"
   ]
  },
  {
   "cell_type": "markdown",
   "id": "1010c5d2",
   "metadata": {},
   "source": [
    "## Training"
   ]
  },
  {
   "cell_type": "code",
   "execution_count": 20,
   "id": "f543b185",
   "metadata": {
    "ExecuteTime": {
     "end_time": "2021-10-30T19:19:07.925987Z",
     "start_time": "2021-10-30T19:19:07.910988Z"
    }
   },
   "outputs": [
    {
     "data": {
      "text/plain": [
       "(500, 6)"
      ]
     },
     "execution_count": 20,
     "metadata": {},
     "output_type": "execute_result"
    }
   ],
   "source": [
    "q_table = np.zeros([env.observation_space.n, env.action_space.n])\n",
    "q_table.shape"
   ]
  },
  {
   "cell_type": "code",
   "execution_count": 21,
   "id": "deae90fa",
   "metadata": {
    "ExecuteTime": {
     "end_time": "2021-10-30T19:22:45.852435Z",
     "start_time": "2021-10-30T19:21:48.161799Z"
    }
   },
   "outputs": [
    {
     "name": "stdout",
     "output_type": "stream",
     "text": [
      "Episode:  99900\n",
      "Training Completed\n",
      "Wall time: 57.7 s\n"
     ]
    }
   ],
   "source": [
    "%%time\n",
    "\n",
    "alpha = 0.1    # Learning rate\n",
    "gamma = 0.6    # discount factor\n",
    "epsilon = 0.1\n",
    "\n",
    "for i in range(100000):\n",
    "  state = env.reset()\n",
    " \n",
    "  penalties, rewards = 0, 0\n",
    "  done = False\n",
    "\n",
    "  while not done:\n",
    "    # Exploration - random position\n",
    "    if random.uniform(0, 1) < epsilon:\n",
    "      action = env.action_space.sample()\n",
    "    # Exploitation - best position\n",
    "    else:\n",
    "      action = np.argmax(q_table[state])\n",
    "\n",
    "    next_state, rewards, done, info = env.step(action)\n",
    "\n",
    "    q_old = q_table[state, action]\n",
    "    next_max_value = np.max(q_table[next_state])\n",
    "\n",
    "    q_new = (1 - alpha) * q_old + alpha * (rewards + gamma * next_max_value)\n",
    "    q_table[state, action] = q_new\n",
    "\n",
    "    if rewards == -10:\n",
    "      penalties += 1\n",
    "    \n",
    "    state = next_state\n",
    "\n",
    "  if i % 100 == 0:\n",
    "    clear_output(wait=True)\n",
    "    print('Episode: ', i)\n",
    "\n",
    "print('Training Completed')"
   ]
  },
  {
   "cell_type": "code",
   "execution_count": 26,
   "id": "31ad609d",
   "metadata": {
    "ExecuteTime": {
     "end_time": "2021-10-30T19:25:14.578200Z",
     "start_time": "2021-10-30T19:25:14.572199Z"
    }
   },
   "outputs": [
    {
     "name": "stdout",
     "output_type": "stream",
     "text": [
      "+---------+\n",
      "|R: | : :\u001b[34;1mG\u001b[0m|\n",
      "| : | : : |\n",
      "| : : : : |\n",
      "| | : | : |\n",
      "|\u001b[35mY\u001b[0m|\u001b[43m \u001b[0m: |B: |\n",
      "+---------+\n",
      "\n"
     ]
    }
   ],
   "source": [
    "env.reset()\n",
    "env.render()"
   ]
  },
  {
   "cell_type": "code",
   "execution_count": 35,
   "id": "b70c45a5",
   "metadata": {
    "ExecuteTime": {
     "end_time": "2021-10-30T19:28:09.940472Z",
     "start_time": "2021-10-30T19:28:09.927475Z"
    }
   },
   "outputs": [
    {
     "data": {
      "text/plain": [
       "358"
      ]
     },
     "execution_count": 35,
     "metadata": {},
     "output_type": "execute_result"
    }
   ],
   "source": [
    "# row, col, pass location, dest location\n",
    "env.encode(3, 2, 4, 2)"
   ]
  },
  {
   "cell_type": "code",
   "execution_count": 36,
   "id": "889cb8c1",
   "metadata": {
    "ExecuteTime": {
     "end_time": "2021-10-30T19:28:13.438206Z",
     "start_time": "2021-10-30T19:28:13.430197Z"
    }
   },
   "outputs": [
    {
     "data": {
      "text/plain": [
       "array([-1.51009661, -0.7504    , -1.35142091, -1.15075502, -6.77331254,\n",
       "       -4.87979358])"
      ]
     },
     "execution_count": 36,
     "metadata": {},
     "output_type": "execute_result"
    }
   ],
   "source": [
    "q_table[358]"
   ]
  },
  {
   "cell_type": "code",
   "execution_count": 37,
   "id": "7a2b26ad",
   "metadata": {
    "ExecuteTime": {
     "end_time": "2021-10-30T19:28:20.038641Z",
     "start_time": "2021-10-30T19:28:20.023640Z"
    }
   },
   "outputs": [
    {
     "name": "stdout",
     "output_type": "stream",
     "text": [
      "+---------+\n",
      "|R: | : :\u001b[34;1mG\u001b[0m|\n",
      "| :\u001b[43m \u001b[0m| : : |\n",
      "| : : : : |\n",
      "| | : | : |\n",
      "|\u001b[35mY\u001b[0m| : |B: |\n",
      "+---------+\n",
      "  (North)\n"
     ]
    },
    {
     "data": {
      "text/plain": [
       "(26, -1, False, {'prob': 1.0})"
      ]
     },
     "execution_count": 37,
     "metadata": {},
     "output_type": "execute_result"
    }
   ],
   "source": [
    "env.render()\n",
    "env.step(1)"
   ]
  },
  {
   "cell_type": "markdown",
   "id": "eb8522b2",
   "metadata": {},
   "source": [
    "## Avaliação"
   ]
  },
  {
   "cell_type": "code",
   "execution_count": 40,
   "id": "cb950ee8",
   "metadata": {
    "ExecuteTime": {
     "end_time": "2021-10-30T19:57:00.388406Z",
     "start_time": "2021-10-30T19:57:00.294416Z"
    }
   },
   "outputs": [
    {
     "name": "stdout",
     "output_type": "stream",
     "text": [
      "Episode 100\n",
      "Penalties 0\n"
     ]
    }
   ],
   "source": [
    "total_penalties = 0\n",
    "episode = 100\n",
    "frames = []\n",
    "\n",
    "for _ in range(episode):\n",
    "  state = env.reset()\n",
    "  penalties, rewards = 0, 0\n",
    "  done = False\n",
    "\n",
    "  while not done:\n",
    "    action = np.argmax(q_table[state])\n",
    "    state, rewards, done, info = env.step(action)\n",
    "\n",
    "    if rewards == -10:\n",
    "      penalties += 1\n",
    "\n",
    "    frames.append({\n",
    "        'Frame': env.render(mode='ansi'),\n",
    "        'State': state,\n",
    "        'Action': action,\n",
    "        'Reward': rewards\n",
    "    })\n",
    "\n",
    "  total_penalties += penalties\n",
    "\n",
    "print('Episode', episode)\n",
    "print('Penalties', total_penalties)"
   ]
  },
  {
   "cell_type": "code",
   "execution_count": 41,
   "id": "c49fa1b8",
   "metadata": {
    "ExecuteTime": {
     "end_time": "2021-10-30T19:59:24.134651Z",
     "start_time": "2021-10-30T19:57:02.110250Z"
    },
    "code_folding": []
   },
   "outputs": [
    {
     "name": "stdout",
     "output_type": "stream",
     "text": [
      "+---------+\n",
      "|R: | : :G|\n",
      "| : | : : |\n",
      "| : : : : |\n",
      "| | : | : |\n",
      "|\u001b[35m\u001b[34;1m\u001b[43mY\u001b[0m\u001b[0m\u001b[0m| : |B: |\n",
      "+---------+\n",
      "  (Dropoff)\n",
      "\n",
      "State 410\n",
      "Action 5\n",
      "Reward 20\n"
     ]
    }
   ],
   "source": [
    "for frame in frames:\n",
    "  clear_output(wait=True)\n",
    "  print(frame['Frame'])\n",
    "  print('State', frame['State'])\n",
    "  print('Action', frame['Action'])\n",
    "  print('Reward', frame['Reward'])\n",
    "  sleep(.1)"
   ]
  }
 ],
 "metadata": {
  "kernelspec": {
   "display_name": "Python 3 (ipykernel)",
   "language": "python",
   "name": "python3"
  },
  "language_info": {
   "codemirror_mode": {
    "name": "ipython",
    "version": 3
   },
   "file_extension": ".py",
   "mimetype": "text/x-python",
   "name": "python",
   "nbconvert_exporter": "python",
   "pygments_lexer": "ipython3",
   "version": "3.8.8"
  },
  "varInspector": {
   "cols": {
    "lenName": 16,
    "lenType": 16,
    "lenVar": 40
   },
   "kernels_config": {
    "python": {
     "delete_cmd_postfix": "",
     "delete_cmd_prefix": "del ",
     "library": "var_list.py",
     "varRefreshCmd": "print(var_dic_list())"
    },
    "r": {
     "delete_cmd_postfix": ") ",
     "delete_cmd_prefix": "rm(",
     "library": "var_list.r",
     "varRefreshCmd": "cat(var_dic_list()) "
    }
   },
   "types_to_exclude": [
    "module",
    "function",
    "builtin_function_or_method",
    "instance",
    "_Feature"
   ],
   "window_display": false
  }
 },
 "nbformat": 4,
 "nbformat_minor": 5
}
