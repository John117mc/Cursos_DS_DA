{
 "cells": [
  {
   "cell_type": "markdown",
   "id": "3f49088c",
   "metadata": {},
   "source": [
    "# Cross Validation\n",
    "\n",
    "* KFold"
   ]
  },
  {
   "cell_type": "code",
   "execution_count": 2,
   "id": "470064c0",
   "metadata": {
    "ExecuteTime": {
     "end_time": "2021-10-10T18:44:56.470203Z",
     "start_time": "2021-10-10T18:44:55.797042Z"
    }
   },
   "outputs": [],
   "source": [
    "from sklearn.model_selection import cross_val_score, KFold\n",
    "\n",
    "from sklearn.tree            import DecisionTreeClassifier\n",
    "from sklearn.ensemble        import RandomForestClassifier\n",
    "from sklearn.neighbors       import KNeighborsClassifier\n",
    "from sklearn.linear_model    import LogisticRegression\n",
    "from sklearn.svm             import SVC\n",
    "from sklearn.neural_network  import MLPClassifier\n",
    "\n",
    "import pickle\n",
    "import numpy as np\n",
    "import pandas as pd"
   ]
  },
  {
   "cell_type": "code",
   "execution_count": 4,
   "id": "40ee190a",
   "metadata": {
    "ExecuteTime": {
     "end_time": "2021-10-10T18:45:23.824356Z",
     "start_time": "2021-10-10T18:45:23.816354Z"
    }
   },
   "outputs": [],
   "source": [
    "with open('../data/credit.pkl', 'rb') as f:\n",
    "    x_credit_train, y_credit_train, x_credit_test, y_credit_test = pickle.load(f)"
   ]
  },
  {
   "cell_type": "code",
   "execution_count": 5,
   "id": "0a4b455b",
   "metadata": {
    "ExecuteTime": {
     "end_time": "2021-10-10T18:45:31.964190Z",
     "start_time": "2021-10-10T18:45:31.961189Z"
    }
   },
   "outputs": [],
   "source": [
    "x_credit = np.concatenate((x_credit_train, x_credit_test), axis=0)\n",
    "y_credit = np.concatenate((y_credit_train, y_credit_test), axis=0)"
   ]
  },
  {
   "cell_type": "markdown",
   "id": "fa961f89",
   "metadata": {},
   "source": [
    "armazenar as médias "
   ]
  },
  {
   "cell_type": "code",
   "execution_count": 6,
   "id": "0f012240",
   "metadata": {
    "ExecuteTime": {
     "end_time": "2021-10-10T18:49:34.174222Z",
     "start_time": "2021-10-10T18:49:34.158518Z"
    }
   },
   "outputs": [],
   "source": [
    "results_tree = []\n",
    "results_random = []\n",
    "results_knn = []\n",
    "results_logis = []\n",
    "results_svm = []\n",
    "#results_neural = []"
   ]
  },
  {
   "cell_type": "code",
   "execution_count": 8,
   "id": "3612af17",
   "metadata": {
    "ExecuteTime": {
     "end_time": "2021-10-10T18:51:47.296791Z",
     "start_time": "2021-10-10T18:49:49.990045Z"
    }
   },
   "outputs": [],
   "source": [
    "for i in range(30):\n",
    "  kfold = KFold(n_splits=10, shuffle=True, random_state=i)\n",
    "  \n",
    "  decision = DecisionTreeClassifier(criterion='entropy', min_samples_leaf= 1, min_samples_split=5, splitter='best')\n",
    "  scores = cross_val_score(decision, x_credit, y_credit, cv=kfold)\n",
    "  results_tree.append(scores.mean())\n",
    "\n",
    "  random = RandomForestClassifier(criterion= 'entropy', min_samples_leaf= 1, min_samples_split= 2, n_estimators= 150)\n",
    "  scores = cross_val_score(random, x_credit, y_credit, cv=kfold)\n",
    "  results_random.append(scores.mean())\n",
    "\n",
    "  knn = KNeighborsClassifier(n_neighbors= 20, p= 1)\n",
    "  scores = cross_val_score(knn, x_credit, y_credit, cv=kfold)\n",
    "  results_knn.append(scores.mean())\n",
    "\n",
    "  logis = LogisticRegression(C= 1.0, solver= 'lbfgs', tol= 0.0001)\n",
    "  scores = cross_val_score(logis, x_credit, y_credit, cv=kfold)\n",
    "  results_logis.append(scores.mean())\n",
    "  \n",
    "  svm = SVC(C= 1.5, kernel= 'rbf', tol= 0.0001)\n",
    "  scores = cross_val_score(svm, x_credit, y_credit, cv=kfold)\n",
    "  results_svm.append(scores.mean())\n",
    "\n",
    "  #neural = MLPClassifier(activation= 'relu', batch_size= 56, solver= 'adam')\n",
    "  #scores = cross_val_score(neural, x_credit, y_credit, cv=kfold)\n",
    "  #results_neural.append(scores.mean())\n",
    "  "
   ]
  },
  {
   "cell_type": "code",
   "execution_count": 9,
   "id": "6519cf59",
   "metadata": {
    "ExecuteTime": {
     "end_time": "2021-10-10T18:52:04.490545Z",
     "start_time": "2021-10-10T18:52:04.461078Z"
    }
   },
   "outputs": [],
   "source": [
    "results = pd.DataFrame({'Arvore': results_tree,\n",
    "                       'Random Forest': results_random,\n",
    "                       'kNN': results_knn,\n",
    "                       'logistic': results_logis,\n",
    "                       'SVM': results_svm})"
   ]
  },
  {
   "cell_type": "code",
   "execution_count": 10,
   "id": "9a04f78c",
   "metadata": {
    "ExecuteTime": {
     "end_time": "2021-10-10T18:52:12.974552Z",
     "start_time": "2021-10-10T18:52:12.790019Z"
    }
   },
   "outputs": [
    {
     "data": {
      "text/html": [
       "<div>\n",
       "<style scoped>\n",
       "    .dataframe tbody tr th:only-of-type {\n",
       "        vertical-align: middle;\n",
       "    }\n",
       "\n",
       "    .dataframe tbody tr th {\n",
       "        vertical-align: top;\n",
       "    }\n",
       "\n",
       "    .dataframe thead th {\n",
       "        text-align: right;\n",
       "    }\n",
       "</style>\n",
       "<table border=\"1\" class=\"dataframe\">\n",
       "  <thead>\n",
       "    <tr style=\"text-align: right;\">\n",
       "      <th></th>\n",
       "      <th>Arvore</th>\n",
       "      <th>Random Forest</th>\n",
       "      <th>kNN</th>\n",
       "      <th>logistic</th>\n",
       "      <th>SVM</th>\n",
       "    </tr>\n",
       "  </thead>\n",
       "  <tbody>\n",
       "    <tr>\n",
       "      <th>0</th>\n",
       "      <td>0.9865</td>\n",
       "      <td>0.9870</td>\n",
       "      <td>0.9800</td>\n",
       "      <td>0.9475</td>\n",
       "      <td>0.9835</td>\n",
       "    </tr>\n",
       "    <tr>\n",
       "      <th>1</th>\n",
       "      <td>0.9835</td>\n",
       "      <td>0.9875</td>\n",
       "      <td>0.9800</td>\n",
       "      <td>0.9465</td>\n",
       "      <td>0.9835</td>\n",
       "    </tr>\n",
       "    <tr>\n",
       "      <th>2</th>\n",
       "      <td>0.9905</td>\n",
       "      <td>0.9885</td>\n",
       "      <td>0.9800</td>\n",
       "      <td>0.9470</td>\n",
       "      <td>0.9835</td>\n",
       "    </tr>\n",
       "    <tr>\n",
       "      <th>3</th>\n",
       "      <td>0.9880</td>\n",
       "      <td>0.9860</td>\n",
       "      <td>0.9800</td>\n",
       "      <td>0.9460</td>\n",
       "      <td>0.9845</td>\n",
       "    </tr>\n",
       "    <tr>\n",
       "      <th>4</th>\n",
       "      <td>0.9880</td>\n",
       "      <td>0.9885</td>\n",
       "      <td>0.9810</td>\n",
       "      <td>0.9465</td>\n",
       "      <td>0.9855</td>\n",
       "    </tr>\n",
       "    <tr>\n",
       "      <th>5</th>\n",
       "      <td>0.9890</td>\n",
       "      <td>0.9875</td>\n",
       "      <td>0.9785</td>\n",
       "      <td>0.9465</td>\n",
       "      <td>0.9830</td>\n",
       "    </tr>\n",
       "    <tr>\n",
       "      <th>6</th>\n",
       "      <td>0.9880</td>\n",
       "      <td>0.9895</td>\n",
       "      <td>0.9800</td>\n",
       "      <td>0.9470</td>\n",
       "      <td>0.9840</td>\n",
       "    </tr>\n",
       "    <tr>\n",
       "      <th>7</th>\n",
       "      <td>0.9875</td>\n",
       "      <td>0.9875</td>\n",
       "      <td>0.9805</td>\n",
       "      <td>0.9480</td>\n",
       "      <td>0.9845</td>\n",
       "    </tr>\n",
       "    <tr>\n",
       "      <th>8</th>\n",
       "      <td>0.9860</td>\n",
       "      <td>0.9890</td>\n",
       "      <td>0.9810</td>\n",
       "      <td>0.9465</td>\n",
       "      <td>0.9820</td>\n",
       "    </tr>\n",
       "    <tr>\n",
       "      <th>9</th>\n",
       "      <td>0.9870</td>\n",
       "      <td>0.9895</td>\n",
       "      <td>0.9810</td>\n",
       "      <td>0.9465</td>\n",
       "      <td>0.9830</td>\n",
       "    </tr>\n",
       "    <tr>\n",
       "      <th>10</th>\n",
       "      <td>0.9865</td>\n",
       "      <td>0.9855</td>\n",
       "      <td>0.9780</td>\n",
       "      <td>0.9475</td>\n",
       "      <td>0.9825</td>\n",
       "    </tr>\n",
       "    <tr>\n",
       "      <th>11</th>\n",
       "      <td>0.9900</td>\n",
       "      <td>0.9905</td>\n",
       "      <td>0.9805</td>\n",
       "      <td>0.9480</td>\n",
       "      <td>0.9825</td>\n",
       "    </tr>\n",
       "    <tr>\n",
       "      <th>12</th>\n",
       "      <td>0.9890</td>\n",
       "      <td>0.9855</td>\n",
       "      <td>0.9810</td>\n",
       "      <td>0.9475</td>\n",
       "      <td>0.9845</td>\n",
       "    </tr>\n",
       "    <tr>\n",
       "      <th>13</th>\n",
       "      <td>0.9865</td>\n",
       "      <td>0.9855</td>\n",
       "      <td>0.9800</td>\n",
       "      <td>0.9475</td>\n",
       "      <td>0.9840</td>\n",
       "    </tr>\n",
       "    <tr>\n",
       "      <th>14</th>\n",
       "      <td>0.9820</td>\n",
       "      <td>0.9850</td>\n",
       "      <td>0.9795</td>\n",
       "      <td>0.9485</td>\n",
       "      <td>0.9835</td>\n",
       "    </tr>\n",
       "    <tr>\n",
       "      <th>15</th>\n",
       "      <td>0.9860</td>\n",
       "      <td>0.9840</td>\n",
       "      <td>0.9795</td>\n",
       "      <td>0.9475</td>\n",
       "      <td>0.9845</td>\n",
       "    </tr>\n",
       "    <tr>\n",
       "      <th>16</th>\n",
       "      <td>0.9855</td>\n",
       "      <td>0.9865</td>\n",
       "      <td>0.9805</td>\n",
       "      <td>0.9460</td>\n",
       "      <td>0.9840</td>\n",
       "    </tr>\n",
       "    <tr>\n",
       "      <th>17</th>\n",
       "      <td>0.9905</td>\n",
       "      <td>0.9880</td>\n",
       "      <td>0.9830</td>\n",
       "      <td>0.9470</td>\n",
       "      <td>0.9845</td>\n",
       "    </tr>\n",
       "    <tr>\n",
       "      <th>18</th>\n",
       "      <td>0.9875</td>\n",
       "      <td>0.9885</td>\n",
       "      <td>0.9800</td>\n",
       "      <td>0.9465</td>\n",
       "      <td>0.9850</td>\n",
       "    </tr>\n",
       "    <tr>\n",
       "      <th>19</th>\n",
       "      <td>0.9870</td>\n",
       "      <td>0.9865</td>\n",
       "      <td>0.9805</td>\n",
       "      <td>0.9465</td>\n",
       "      <td>0.9840</td>\n",
       "    </tr>\n",
       "    <tr>\n",
       "      <th>20</th>\n",
       "      <td>0.9830</td>\n",
       "      <td>0.9845</td>\n",
       "      <td>0.9800</td>\n",
       "      <td>0.9465</td>\n",
       "      <td>0.9835</td>\n",
       "    </tr>\n",
       "    <tr>\n",
       "      <th>21</th>\n",
       "      <td>0.9870</td>\n",
       "      <td>0.9895</td>\n",
       "      <td>0.9810</td>\n",
       "      <td>0.9470</td>\n",
       "      <td>0.9850</td>\n",
       "    </tr>\n",
       "    <tr>\n",
       "      <th>22</th>\n",
       "      <td>0.9885</td>\n",
       "      <td>0.9865</td>\n",
       "      <td>0.9810</td>\n",
       "      <td>0.9455</td>\n",
       "      <td>0.9845</td>\n",
       "    </tr>\n",
       "    <tr>\n",
       "      <th>23</th>\n",
       "      <td>0.9870</td>\n",
       "      <td>0.9880</td>\n",
       "      <td>0.9800</td>\n",
       "      <td>0.9465</td>\n",
       "      <td>0.9870</td>\n",
       "    </tr>\n",
       "    <tr>\n",
       "      <th>24</th>\n",
       "      <td>0.9870</td>\n",
       "      <td>0.9885</td>\n",
       "      <td>0.9835</td>\n",
       "      <td>0.9470</td>\n",
       "      <td>0.9840</td>\n",
       "    </tr>\n",
       "    <tr>\n",
       "      <th>25</th>\n",
       "      <td>0.9880</td>\n",
       "      <td>0.9865</td>\n",
       "      <td>0.9815</td>\n",
       "      <td>0.9470</td>\n",
       "      <td>0.9820</td>\n",
       "    </tr>\n",
       "    <tr>\n",
       "      <th>26</th>\n",
       "      <td>0.9880</td>\n",
       "      <td>0.9855</td>\n",
       "      <td>0.9795</td>\n",
       "      <td>0.9475</td>\n",
       "      <td>0.9825</td>\n",
       "    </tr>\n",
       "    <tr>\n",
       "      <th>27</th>\n",
       "      <td>0.9860</td>\n",
       "      <td>0.9850</td>\n",
       "      <td>0.9795</td>\n",
       "      <td>0.9465</td>\n",
       "      <td>0.9850</td>\n",
       "    </tr>\n",
       "    <tr>\n",
       "      <th>28</th>\n",
       "      <td>0.9855</td>\n",
       "      <td>0.9850</td>\n",
       "      <td>0.9775</td>\n",
       "      <td>0.9480</td>\n",
       "      <td>0.9830</td>\n",
       "    </tr>\n",
       "    <tr>\n",
       "      <th>29</th>\n",
       "      <td>0.9880</td>\n",
       "      <td>0.9860</td>\n",
       "      <td>0.9780</td>\n",
       "      <td>0.9465</td>\n",
       "      <td>0.9860</td>\n",
       "    </tr>\n",
       "  </tbody>\n",
       "</table>\n",
       "</div>"
      ],
      "text/plain": [
       "    Arvore  Random Forest     kNN  logistic     SVM\n",
       "0   0.9865         0.9870  0.9800    0.9475  0.9835\n",
       "1   0.9835         0.9875  0.9800    0.9465  0.9835\n",
       "2   0.9905         0.9885  0.9800    0.9470  0.9835\n",
       "3   0.9880         0.9860  0.9800    0.9460  0.9845\n",
       "4   0.9880         0.9885  0.9810    0.9465  0.9855\n",
       "5   0.9890         0.9875  0.9785    0.9465  0.9830\n",
       "6   0.9880         0.9895  0.9800    0.9470  0.9840\n",
       "7   0.9875         0.9875  0.9805    0.9480  0.9845\n",
       "8   0.9860         0.9890  0.9810    0.9465  0.9820\n",
       "9   0.9870         0.9895  0.9810    0.9465  0.9830\n",
       "10  0.9865         0.9855  0.9780    0.9475  0.9825\n",
       "11  0.9900         0.9905  0.9805    0.9480  0.9825\n",
       "12  0.9890         0.9855  0.9810    0.9475  0.9845\n",
       "13  0.9865         0.9855  0.9800    0.9475  0.9840\n",
       "14  0.9820         0.9850  0.9795    0.9485  0.9835\n",
       "15  0.9860         0.9840  0.9795    0.9475  0.9845\n",
       "16  0.9855         0.9865  0.9805    0.9460  0.9840\n",
       "17  0.9905         0.9880  0.9830    0.9470  0.9845\n",
       "18  0.9875         0.9885  0.9800    0.9465  0.9850\n",
       "19  0.9870         0.9865  0.9805    0.9465  0.9840\n",
       "20  0.9830         0.9845  0.9800    0.9465  0.9835\n",
       "21  0.9870         0.9895  0.9810    0.9470  0.9850\n",
       "22  0.9885         0.9865  0.9810    0.9455  0.9845\n",
       "23  0.9870         0.9880  0.9800    0.9465  0.9870\n",
       "24  0.9870         0.9885  0.9835    0.9470  0.9840\n",
       "25  0.9880         0.9865  0.9815    0.9470  0.9820\n",
       "26  0.9880         0.9855  0.9795    0.9475  0.9825\n",
       "27  0.9860         0.9850  0.9795    0.9465  0.9850\n",
       "28  0.9855         0.9850  0.9775    0.9480  0.9830\n",
       "29  0.9880         0.9860  0.9780    0.9465  0.9860"
      ]
     },
     "execution_count": 10,
     "metadata": {},
     "output_type": "execute_result"
    }
   ],
   "source": [
    "results"
   ]
  },
  {
   "cell_type": "code",
   "execution_count": 11,
   "id": "61492526",
   "metadata": {
    "ExecuteTime": {
     "end_time": "2021-10-10T18:52:18.799631Z",
     "start_time": "2021-10-10T18:52:18.692657Z"
    }
   },
   "outputs": [
    {
     "data": {
      "text/html": [
       "<div>\n",
       "<style scoped>\n",
       "    .dataframe tbody tr th:only-of-type {\n",
       "        vertical-align: middle;\n",
       "    }\n",
       "\n",
       "    .dataframe tbody tr th {\n",
       "        vertical-align: top;\n",
       "    }\n",
       "\n",
       "    .dataframe thead th {\n",
       "        text-align: right;\n",
       "    }\n",
       "</style>\n",
       "<table border=\"1\" class=\"dataframe\">\n",
       "  <thead>\n",
       "    <tr style=\"text-align: right;\">\n",
       "      <th></th>\n",
       "      <th>Arvore</th>\n",
       "      <th>Random Forest</th>\n",
       "      <th>kNN</th>\n",
       "      <th>logistic</th>\n",
       "      <th>SVM</th>\n",
       "    </tr>\n",
       "  </thead>\n",
       "  <tbody>\n",
       "    <tr>\n",
       "      <th>count</th>\n",
       "      <td>30.000000</td>\n",
       "      <td>30.000000</td>\n",
       "      <td>30.000000</td>\n",
       "      <td>30.000000</td>\n",
       "      <td>30.000000</td>\n",
       "    </tr>\n",
       "    <tr>\n",
       "      <th>mean</th>\n",
       "      <td>0.987083</td>\n",
       "      <td>0.987033</td>\n",
       "      <td>0.980200</td>\n",
       "      <td>0.946950</td>\n",
       "      <td>0.983950</td>\n",
       "    </tr>\n",
       "    <tr>\n",
       "      <th>std</th>\n",
       "      <td>0.001961</td>\n",
       "      <td>0.001722</td>\n",
       "      <td>0.001270</td>\n",
       "      <td>0.000687</td>\n",
       "      <td>0.001155</td>\n",
       "    </tr>\n",
       "    <tr>\n",
       "      <th>min</th>\n",
       "      <td>0.982000</td>\n",
       "      <td>0.984000</td>\n",
       "      <td>0.977500</td>\n",
       "      <td>0.945500</td>\n",
       "      <td>0.982000</td>\n",
       "    </tr>\n",
       "    <tr>\n",
       "      <th>25%</th>\n",
       "      <td>0.986125</td>\n",
       "      <td>0.985500</td>\n",
       "      <td>0.979625</td>\n",
       "      <td>0.946500</td>\n",
       "      <td>0.983125</td>\n",
       "    </tr>\n",
       "    <tr>\n",
       "      <th>50%</th>\n",
       "      <td>0.987000</td>\n",
       "      <td>0.986750</td>\n",
       "      <td>0.980000</td>\n",
       "      <td>0.947000</td>\n",
       "      <td>0.984000</td>\n",
       "    </tr>\n",
       "    <tr>\n",
       "      <th>75%</th>\n",
       "      <td>0.988000</td>\n",
       "      <td>0.988500</td>\n",
       "      <td>0.981000</td>\n",
       "      <td>0.947500</td>\n",
       "      <td>0.984500</td>\n",
       "    </tr>\n",
       "    <tr>\n",
       "      <th>max</th>\n",
       "      <td>0.990500</td>\n",
       "      <td>0.990500</td>\n",
       "      <td>0.983500</td>\n",
       "      <td>0.948500</td>\n",
       "      <td>0.987000</td>\n",
       "    </tr>\n",
       "  </tbody>\n",
       "</table>\n",
       "</div>"
      ],
      "text/plain": [
       "          Arvore  Random Forest        kNN   logistic        SVM\n",
       "count  30.000000      30.000000  30.000000  30.000000  30.000000\n",
       "mean    0.987083       0.987033   0.980200   0.946950   0.983950\n",
       "std     0.001961       0.001722   0.001270   0.000687   0.001155\n",
       "min     0.982000       0.984000   0.977500   0.945500   0.982000\n",
       "25%     0.986125       0.985500   0.979625   0.946500   0.983125\n",
       "50%     0.987000       0.986750   0.980000   0.947000   0.984000\n",
       "75%     0.988000       0.988500   0.981000   0.947500   0.984500\n",
       "max     0.990500       0.990500   0.983500   0.948500   0.987000"
      ]
     },
     "execution_count": 11,
     "metadata": {},
     "output_type": "execute_result"
    }
   ],
   "source": [
    "results.describe()"
   ]
  },
  {
   "cell_type": "code",
   "execution_count": 12,
   "id": "c75c1d35",
   "metadata": {
    "ExecuteTime": {
     "end_time": "2021-10-10T18:52:20.556651Z",
     "start_time": "2021-10-10T18:52:20.534645Z"
    }
   },
   "outputs": [
    {
     "data": {
      "text/plain": [
       "Arvore           3.846264e-06\n",
       "Random Forest    2.964368e-06\n",
       "kNN              1.613793e-06\n",
       "logistic         4.715517e-07\n",
       "SVM              1.333621e-06\n",
       "dtype: float64"
      ]
     },
     "execution_count": 12,
     "metadata": {},
     "output_type": "execute_result"
    }
   ],
   "source": [
    "results.var()"
   ]
  },
  {
   "cell_type": "code",
   "execution_count": 13,
   "id": "e9baa4df",
   "metadata": {
    "ExecuteTime": {
     "end_time": "2021-10-10T18:52:23.306952Z",
     "start_time": "2021-10-10T18:52:22.959182Z"
    }
   },
   "outputs": [
    {
     "data": {
      "text/plain": [
       "Arvore           0.198685\n",
       "Random Forest    0.174435\n",
       "kNN              0.129601\n",
       "logistic         0.072517\n",
       "SVM              0.117366\n",
       "dtype: float64"
      ]
     },
     "execution_count": 13,
     "metadata": {},
     "output_type": "execute_result"
    }
   ],
   "source": [
    "(results.std() / results.mean()) * 100"
   ]
  }
 ],
 "metadata": {
  "kernelspec": {
   "display_name": "Python 3",
   "language": "python",
   "name": "python3"
  },
  "language_info": {
   "codemirror_mode": {
    "name": "ipython",
    "version": 3
   },
   "file_extension": ".py",
   "mimetype": "text/x-python",
   "name": "python",
   "nbconvert_exporter": "python",
   "pygments_lexer": "ipython3",
   "version": "3.8.8"
  },
  "varInspector": {
   "cols": {
    "lenName": 16,
    "lenType": 16,
    "lenVar": 40
   },
   "kernels_config": {
    "python": {
     "delete_cmd_postfix": "",
     "delete_cmd_prefix": "del ",
     "library": "var_list.py",
     "varRefreshCmd": "print(var_dic_list())"
    },
    "r": {
     "delete_cmd_postfix": ") ",
     "delete_cmd_prefix": "rm(",
     "library": "var_list.r",
     "varRefreshCmd": "cat(var_dic_list()) "
    }
   },
   "types_to_exclude": [
    "module",
    "function",
    "builtin_function_or_method",
    "instance",
    "_Feature"
   ],
   "window_display": false
  }
 },
 "nbformat": 4,
 "nbformat_minor": 5
}
