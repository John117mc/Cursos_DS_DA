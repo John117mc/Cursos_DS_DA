{
 "cells": [
  {
   "cell_type": "markdown",
   "id": "cdc99b0e",
   "metadata": {},
   "source": [
    "# Tuning dos parâmetros com GridSearch"
   ]
  },
  {
   "cell_type": "code",
   "execution_count": 1,
   "id": "73844178",
   "metadata": {
    "ExecuteTime": {
     "end_time": "2021-10-19T13:23:10.141032Z",
     "start_time": "2021-10-19T13:23:08.974713Z"
    }
   },
   "outputs": [],
   "source": [
    "from sklearn.model_selection import GridSearchCV\n",
    "from sklearn.tree import DecisionTreeClassifier\n",
    "from sklearn.ensemble import RandomForestClassifier\n",
    "from sklearn.neighbors import KNeighborsClassifier\n",
    "from sklearn.linear_model import LogisticRegression\n",
    "from sklearn.svm import SVC\n",
    "from sklearn.neural_network import MLPClassifier\n",
    "\n",
    "import pickle\n",
    "import numpy as np\n",
    "import pandas as pd\n",
    "\n",
    "import warnings\n",
    "warnings.filterwarnings('ignore')"
   ]
  },
  {
   "cell_type": "code",
   "execution_count": 3,
   "id": "bf1cc8e9",
   "metadata": {
    "ExecuteTime": {
     "end_time": "2021-10-19T13:23:40.165419Z",
     "start_time": "2021-10-19T13:23:40.067490Z"
    }
   },
   "outputs": [],
   "source": [
    "with open('../data/credit.pkl', 'rb') as f:\n",
    "  x_credit_train, y_credit_train, x_credit_test, y_credit_test = pickle.load(f)"
   ]
  },
  {
   "cell_type": "code",
   "execution_count": 4,
   "id": "0b278784",
   "metadata": {
    "ExecuteTime": {
     "end_time": "2021-10-19T13:23:40.486536Z",
     "start_time": "2021-10-19T13:23:40.474524Z"
    }
   },
   "outputs": [],
   "source": [
    "x_credit = np.concatenate((x_credit_train, x_credit_test), axis=0)\n",
    "y_credit = np.concatenate((y_credit_train, y_credit_test), axis=0)"
   ]
  },
  {
   "cell_type": "markdown",
   "id": "71c4ab7e",
   "metadata": {},
   "source": [
    "## Árvore de Decisão"
   ]
  },
  {
   "cell_type": "code",
   "execution_count": 5,
   "id": "e86d7765",
   "metadata": {
    "ExecuteTime": {
     "end_time": "2021-10-19T13:23:41.334231Z",
     "start_time": "2021-10-19T13:23:41.330232Z"
    }
   },
   "outputs": [],
   "source": [
    "parameters = {'criterion': ['gini','entropy'],\n",
    "              'splitter': ['best','random'],\n",
    "              'min_samples_split': [2, 5, 10],\n",
    "              'min_samples_leaf': [1, 5, 10]}"
   ]
  },
  {
   "cell_type": "code",
   "execution_count": 6,
   "id": "9920c21c",
   "metadata": {
    "ExecuteTime": {
     "end_time": "2021-10-19T13:23:42.423069Z",
     "start_time": "2021-10-19T13:23:41.770897Z"
    }
   },
   "outputs": [
    {
     "name": "stdout",
     "output_type": "stream",
     "text": [
      "{'criterion': 'entropy', 'min_samples_leaf': 1, 'min_samples_split': 5, 'splitter': 'best'}\n",
      "0.983\n"
     ]
    }
   ],
   "source": [
    "grid_search = GridSearchCV(estimator=DecisionTreeClassifier(), param_grid=parameters)\n",
    "grid_search.fit(x_credit, y_credit)\n",
    "param = grid_search.best_params_\n",
    "score = grid_search.best_score_\n",
    "print(param)\n",
    "print(score)"
   ]
  },
  {
   "cell_type": "markdown",
   "id": "9c427458",
   "metadata": {},
   "source": [
    "## Random Forest"
   ]
  },
  {
   "cell_type": "code",
   "execution_count": 7,
   "id": "ce877bfe",
   "metadata": {
    "ExecuteTime": {
     "end_time": "2021-10-19T13:23:44.693686Z",
     "start_time": "2021-10-19T13:23:44.675682Z"
    }
   },
   "outputs": [],
   "source": [
    "parameters = {'criterion': ['gini','entropy'],\n",
    "              'n_estimators': [10, 40, 100, 150],\n",
    "              'min_samples_split': [2, 5, 10],\n",
    "              'min_samples_leaf': [1, 5, 10]}"
   ]
  },
  {
   "cell_type": "code",
   "execution_count": 8,
   "id": "9a252cc3",
   "metadata": {
    "ExecuteTime": {
     "end_time": "2021-10-19T13:24:42.191776Z",
     "start_time": "2021-10-19T13:23:45.572563Z"
    }
   },
   "outputs": [
    {
     "name": "stdout",
     "output_type": "stream",
     "text": [
      "{'criterion': 'entropy', 'min_samples_leaf': 5, 'min_samples_split': 10, 'n_estimators': 100}\n",
      "0.9875\n"
     ]
    }
   ],
   "source": [
    "grid_search = GridSearchCV(estimator=RandomForestClassifier(), param_grid=parameters)\n",
    "grid_search.fit(x_credit, y_credit)\n",
    "param = grid_search.best_params_\n",
    "score = grid_search.best_score_\n",
    "print(param)\n",
    "print(score)"
   ]
  },
  {
   "cell_type": "markdown",
   "id": "aee18df3",
   "metadata": {},
   "source": [
    "## kNN"
   ]
  },
  {
   "cell_type": "code",
   "execution_count": 9,
   "id": "376600e5",
   "metadata": {
    "ExecuteTime": {
     "end_time": "2021-10-19T13:24:44.156024Z",
     "start_time": "2021-10-19T13:24:44.139021Z"
    }
   },
   "outputs": [],
   "source": [
    "parameters = {'n_neighbors': [3, 5, 10, 20],\n",
    "              'p': [1, 2]}"
   ]
  },
  {
   "cell_type": "code",
   "execution_count": 10,
   "id": "04b65e2d",
   "metadata": {
    "ExecuteTime": {
     "end_time": "2021-10-19T13:24:47.554961Z",
     "start_time": "2021-10-19T13:24:46.626144Z"
    }
   },
   "outputs": [
    {
     "name": "stdout",
     "output_type": "stream",
     "text": [
      "{'n_neighbors': 20, 'p': 1}\n",
      "0.9800000000000001\n"
     ]
    }
   ],
   "source": [
    "grid_search = GridSearchCV(estimator=KNeighborsClassifier(), param_grid=parameters)\n",
    "grid_search.fit(x_credit, y_credit)\n",
    "param = grid_search.best_params_\n",
    "score = grid_search.best_score_\n",
    "print(param)\n",
    "print(score)"
   ]
  },
  {
   "cell_type": "markdown",
   "id": "77c94e5c",
   "metadata": {},
   "source": [
    "## Regressão Logistica"
   ]
  },
  {
   "cell_type": "code",
   "execution_count": 11,
   "id": "47fc7604",
   "metadata": {
    "ExecuteTime": {
     "end_time": "2021-10-19T13:24:49.506157Z",
     "start_time": "2021-10-19T13:24:49.489462Z"
    }
   },
   "outputs": [],
   "source": [
    "parameters = {'tol': [0.0001, 0.00001, 0.000001],\n",
    "              'C': [1.0, 1.5, 2.0],\n",
    "              'solver': ['lbfgs', 'liblinear', 'sag', 'sag']}"
   ]
  },
  {
   "cell_type": "code",
   "execution_count": 12,
   "id": "01fde3e8",
   "metadata": {
    "ExecuteTime": {
     "end_time": "2021-10-19T13:24:54.081144Z",
     "start_time": "2021-10-19T13:24:52.170333Z"
    }
   },
   "outputs": [
    {
     "name": "stdout",
     "output_type": "stream",
     "text": [
      "{'C': 1.0, 'solver': 'lbfgs', 'tol': 0.0001}\n",
      "0.9484999999999999\n"
     ]
    }
   ],
   "source": [
    "grid_search = GridSearchCV(estimator=LogisticRegression(), param_grid=parameters)\n",
    "grid_search.fit(x_credit, y_credit)\n",
    "param = grid_search.best_params_\n",
    "score = grid_search.best_score_\n",
    "print(param)\n",
    "print(score)"
   ]
  },
  {
   "cell_type": "markdown",
   "id": "291165dd",
   "metadata": {},
   "source": [
    "## SVM"
   ]
  },
  {
   "cell_type": "code",
   "execution_count": 13,
   "id": "ac6110b9",
   "metadata": {
    "ExecuteTime": {
     "end_time": "2021-10-19T13:24:56.841756Z",
     "start_time": "2021-10-19T13:24:56.826744Z"
    }
   },
   "outputs": [],
   "source": [
    "parameters = {'C': [1.0, 1.5, 2.0],\n",
    "              'kernel': ['rbf', 'linear','poly', 'sigmoid'],\n",
    "              'tol': [0.0001, 0.00001, 0.000001]}"
   ]
  },
  {
   "cell_type": "code",
   "execution_count": 14,
   "id": "83837ec0",
   "metadata": {
    "ExecuteTime": {
     "end_time": "2021-10-19T13:25:03.338189Z",
     "start_time": "2021-10-19T13:24:58.184826Z"
    }
   },
   "outputs": [
    {
     "name": "stdout",
     "output_type": "stream",
     "text": [
      "{'C': 1.5, 'kernel': 'rbf', 'tol': 0.0001}\n",
      "0.9829999999999999\n"
     ]
    }
   ],
   "source": [
    "grid_search = GridSearchCV(estimator=SVC(), param_grid=parameters)\n",
    "grid_search.fit(x_credit, y_credit)\n",
    "param = grid_search.best_params_\n",
    "score = grid_search.best_score_\n",
    "print(param)\n",
    "print(score)"
   ]
  },
  {
   "cell_type": "markdown",
   "id": "f8be2b4d",
   "metadata": {},
   "source": [
    "## Redes Neurais"
   ]
  },
  {
   "cell_type": "code",
   "execution_count": 15,
   "id": "e56bcb16",
   "metadata": {
    "ExecuteTime": {
     "end_time": "2021-10-19T13:25:06.300400Z",
     "start_time": "2021-10-19T13:25:06.291388Z"
    }
   },
   "outputs": [],
   "source": [
    "parameters = {'activation': ['relu', 'logistic', 'tahn'],\n",
    "              'solver': ['adam', 'sgd'],\n",
    "              'batch_size': [10, 56]}"
   ]
  },
  {
   "cell_type": "code",
   "execution_count": 16,
   "id": "fe70dd10",
   "metadata": {
    "ExecuteTime": {
     "end_time": "2021-10-19T13:29:09.932509Z",
     "start_time": "2021-10-19T13:25:07.206521Z"
    },
    "scrolled": true
   },
   "outputs": [],
   "source": [
    "grid_search = GridSearchCV(estimator=MLPClassifier(), param_grid=parameters);\n",
    "grid_search.fit(x_credit, y_credit);\n",
    "param = grid_search.best_params_;\n",
    "score = grid_search.best_score_;"
   ]
  },
  {
   "cell_type": "code",
   "execution_count": 17,
   "id": "b7497947",
   "metadata": {
    "ExecuteTime": {
     "end_time": "2021-10-19T13:29:14.047104Z",
     "start_time": "2021-10-19T13:29:14.031452Z"
    }
   },
   "outputs": [
    {
     "name": "stdout",
     "output_type": "stream",
     "text": [
      "{'activation': 'relu', 'batch_size': 56, 'solver': 'adam'}\n",
      "0.9964999999999999\n"
     ]
    }
   ],
   "source": [
    "print(param)\n",
    "print(score)"
   ]
  },
  {
   "cell_type": "markdown",
   "id": "877a5caf",
   "metadata": {},
   "source": [
    "# Cross Validation"
   ]
  },
  {
   "cell_type": "code",
   "execution_count": 18,
   "id": "c558a925",
   "metadata": {
    "ExecuteTime": {
     "end_time": "2021-10-19T13:29:16.523167Z",
     "start_time": "2021-10-19T13:29:16.504163Z"
    }
   },
   "outputs": [],
   "source": [
    "from sklearn.model_selection import cross_val_score, KFold\n",
    "\n",
    "from sklearn.tree            import DecisionTreeClassifier\n",
    "from sklearn.ensemble        import RandomForestClassifier\n",
    "from sklearn.neighbors       import KNeighborsClassifier\n",
    "from sklearn.linear_model    import LogisticRegression\n",
    "from sklearn.svm             import SVC\n",
    "from sklearn.neural_network  import MLPClassifier\n",
    "\n",
    "import pickle\n",
    "import numpy as np\n",
    "import pandas as pd"
   ]
  },
  {
   "cell_type": "code",
   "execution_count": 19,
   "id": "2c12f494",
   "metadata": {
    "ExecuteTime": {
     "end_time": "2021-10-19T13:29:18.714011Z",
     "start_time": "2021-10-19T13:29:18.696755Z"
    }
   },
   "outputs": [],
   "source": [
    "with open('../data/credit.pkl', 'rb') as f:\n",
    "    x_credit_train, y_credit_train, x_credit_test, y_credit_test = pickle.load(f)"
   ]
  },
  {
   "cell_type": "code",
   "execution_count": 20,
   "id": "4ab3fb37",
   "metadata": {
    "ExecuteTime": {
     "end_time": "2021-10-19T13:29:19.386115Z",
     "start_time": "2021-10-19T13:29:19.378104Z"
    }
   },
   "outputs": [],
   "source": [
    "x_credit = np.concatenate((x_credit_train, x_credit_test), axis=0)\n",
    "y_credit = np.concatenate((y_credit_train, y_credit_test), axis=0)"
   ]
  },
  {
   "cell_type": "code",
   "execution_count": 21,
   "id": "4f6250cb",
   "metadata": {
    "ExecuteTime": {
     "end_time": "2021-10-19T13:29:20.069719Z",
     "start_time": "2021-10-19T13:29:20.056704Z"
    }
   },
   "outputs": [],
   "source": [
    "results_tree = []\n",
    "results_random = []\n",
    "results_knn = []\n",
    "results_logis = []\n",
    "results_svm = []\n",
    "results_neural = []"
   ]
  },
  {
   "cell_type": "code",
   "execution_count": 22,
   "id": "3ce1ba50",
   "metadata": {
    "ExecuteTime": {
     "end_time": "2021-10-19T13:46:44.407533Z",
     "start_time": "2021-10-19T13:29:22.267151Z"
    }
   },
   "outputs": [],
   "source": [
    "for i in range(30):\n",
    "  kfold = KFold(n_splits=10, shuffle=True, random_state=i)\n",
    "  \n",
    "  decision = DecisionTreeClassifier(criterion='entropy', min_samples_leaf= 1, min_samples_split=5, splitter='best')\n",
    "  scores = cross_val_score(decision, x_credit, y_credit, cv=kfold)\n",
    "  results_tree.append(scores.mean())\n",
    "\n",
    "  random = RandomForestClassifier(criterion= 'entropy', min_samples_leaf= 1, min_samples_split= 2, n_estimators= 150)\n",
    "  scores = cross_val_score(random, x_credit, y_credit, cv=kfold)\n",
    "  results_random.append(scores.mean())\n",
    "\n",
    "  knn = KNeighborsClassifier(n_neighbors= 20, p= 1)\n",
    "  scores = cross_val_score(knn, x_credit, y_credit, cv=kfold)\n",
    "  results_knn.append(scores.mean())\n",
    "\n",
    "  logis = LogisticRegression(C= 1.0, solver= 'lbfgs', tol= 0.0001)\n",
    "  scores = cross_val_score(logis, x_credit, y_credit, cv=kfold)\n",
    "  results_logis.append(scores.mean())\n",
    "  \n",
    "  svm = SVC(C= 1.5, kernel= 'rbf', tol= 0.0001)\n",
    "  scores = cross_val_score(svm, x_credit, y_credit, cv=kfold)\n",
    "  results_svm.append(scores.mean())\n",
    "\n",
    "  neural = MLPClassifier(activation= 'relu', batch_size= 56, solver= 'adam')\n",
    "  scores = cross_val_score(neural, x_credit, y_credit, cv=kfold);\n",
    "  results_neural.append(scores.mean())\n",
    "  "
   ]
  },
  {
   "cell_type": "code",
   "execution_count": 23,
   "id": "ac741382",
   "metadata": {
    "ExecuteTime": {
     "end_time": "2021-10-19T13:49:02.897108Z",
     "start_time": "2021-10-19T13:49:02.889094Z"
    }
   },
   "outputs": [],
   "source": [
    "results = pd.DataFrame({'Arvore': results_tree,\n",
    "                       'Random Forest': results_random,\n",
    "                       'kNN': results_knn,\n",
    "                       'logistic': results_logis,\n",
    "                       'SVM': results_svm,\n",
    "                       'Neural': results_neural})"
   ]
  },
  {
   "cell_type": "code",
   "execution_count": 24,
   "id": "4529599d",
   "metadata": {
    "ExecuteTime": {
     "end_time": "2021-10-19T13:49:04.478492Z",
     "start_time": "2021-10-19T13:49:04.447632Z"
    }
   },
   "outputs": [
    {
     "data": {
      "text/html": [
       "<div>\n",
       "<style scoped>\n",
       "    .dataframe tbody tr th:only-of-type {\n",
       "        vertical-align: middle;\n",
       "    }\n",
       "\n",
       "    .dataframe tbody tr th {\n",
       "        vertical-align: top;\n",
       "    }\n",
       "\n",
       "    .dataframe thead th {\n",
       "        text-align: right;\n",
       "    }\n",
       "</style>\n",
       "<table border=\"1\" class=\"dataframe\">\n",
       "  <thead>\n",
       "    <tr style=\"text-align: right;\">\n",
       "      <th></th>\n",
       "      <th>Arvore</th>\n",
       "      <th>Random Forest</th>\n",
       "      <th>kNN</th>\n",
       "      <th>logistic</th>\n",
       "      <th>SVM</th>\n",
       "      <th>Neural</th>\n",
       "    </tr>\n",
       "  </thead>\n",
       "  <tbody>\n",
       "    <tr>\n",
       "      <th>0</th>\n",
       "      <td>0.9870</td>\n",
       "      <td>0.9875</td>\n",
       "      <td>0.9800</td>\n",
       "      <td>0.9475</td>\n",
       "      <td>0.9835</td>\n",
       "      <td>0.9965</td>\n",
       "    </tr>\n",
       "    <tr>\n",
       "      <th>1</th>\n",
       "      <td>0.9850</td>\n",
       "      <td>0.9875</td>\n",
       "      <td>0.9800</td>\n",
       "      <td>0.9465</td>\n",
       "      <td>0.9835</td>\n",
       "      <td>0.9975</td>\n",
       "    </tr>\n",
       "    <tr>\n",
       "      <th>2</th>\n",
       "      <td>0.9905</td>\n",
       "      <td>0.9880</td>\n",
       "      <td>0.9800</td>\n",
       "      <td>0.9470</td>\n",
       "      <td>0.9835</td>\n",
       "      <td>0.9970</td>\n",
       "    </tr>\n",
       "    <tr>\n",
       "      <th>3</th>\n",
       "      <td>0.9870</td>\n",
       "      <td>0.9870</td>\n",
       "      <td>0.9800</td>\n",
       "      <td>0.9460</td>\n",
       "      <td>0.9845</td>\n",
       "      <td>0.9970</td>\n",
       "    </tr>\n",
       "    <tr>\n",
       "      <th>4</th>\n",
       "      <td>0.9885</td>\n",
       "      <td>0.9900</td>\n",
       "      <td>0.9810</td>\n",
       "      <td>0.9465</td>\n",
       "      <td>0.9855</td>\n",
       "      <td>0.9965</td>\n",
       "    </tr>\n",
       "    <tr>\n",
       "      <th>5</th>\n",
       "      <td>0.9890</td>\n",
       "      <td>0.9885</td>\n",
       "      <td>0.9785</td>\n",
       "      <td>0.9465</td>\n",
       "      <td>0.9830</td>\n",
       "      <td>0.9975</td>\n",
       "    </tr>\n",
       "    <tr>\n",
       "      <th>6</th>\n",
       "      <td>0.9885</td>\n",
       "      <td>0.9890</td>\n",
       "      <td>0.9800</td>\n",
       "      <td>0.9470</td>\n",
       "      <td>0.9840</td>\n",
       "      <td>0.9965</td>\n",
       "    </tr>\n",
       "    <tr>\n",
       "      <th>7</th>\n",
       "      <td>0.9875</td>\n",
       "      <td>0.9880</td>\n",
       "      <td>0.9805</td>\n",
       "      <td>0.9480</td>\n",
       "      <td>0.9845</td>\n",
       "      <td>0.9975</td>\n",
       "    </tr>\n",
       "    <tr>\n",
       "      <th>8</th>\n",
       "      <td>0.9870</td>\n",
       "      <td>0.9885</td>\n",
       "      <td>0.9810</td>\n",
       "      <td>0.9465</td>\n",
       "      <td>0.9820</td>\n",
       "      <td>0.9960</td>\n",
       "    </tr>\n",
       "    <tr>\n",
       "      <th>9</th>\n",
       "      <td>0.9870</td>\n",
       "      <td>0.9905</td>\n",
       "      <td>0.9810</td>\n",
       "      <td>0.9465</td>\n",
       "      <td>0.9830</td>\n",
       "      <td>0.9970</td>\n",
       "    </tr>\n",
       "    <tr>\n",
       "      <th>10</th>\n",
       "      <td>0.9860</td>\n",
       "      <td>0.9855</td>\n",
       "      <td>0.9780</td>\n",
       "      <td>0.9475</td>\n",
       "      <td>0.9825</td>\n",
       "      <td>0.9975</td>\n",
       "    </tr>\n",
       "    <tr>\n",
       "      <th>11</th>\n",
       "      <td>0.9895</td>\n",
       "      <td>0.9895</td>\n",
       "      <td>0.9805</td>\n",
       "      <td>0.9480</td>\n",
       "      <td>0.9825</td>\n",
       "      <td>0.9970</td>\n",
       "    </tr>\n",
       "    <tr>\n",
       "      <th>12</th>\n",
       "      <td>0.9885</td>\n",
       "      <td>0.9870</td>\n",
       "      <td>0.9810</td>\n",
       "      <td>0.9475</td>\n",
       "      <td>0.9845</td>\n",
       "      <td>0.9965</td>\n",
       "    </tr>\n",
       "    <tr>\n",
       "      <th>13</th>\n",
       "      <td>0.9865</td>\n",
       "      <td>0.9885</td>\n",
       "      <td>0.9800</td>\n",
       "      <td>0.9475</td>\n",
       "      <td>0.9840</td>\n",
       "      <td>0.9975</td>\n",
       "    </tr>\n",
       "    <tr>\n",
       "      <th>14</th>\n",
       "      <td>0.9835</td>\n",
       "      <td>0.9880</td>\n",
       "      <td>0.9795</td>\n",
       "      <td>0.9485</td>\n",
       "      <td>0.9835</td>\n",
       "      <td>0.9965</td>\n",
       "    </tr>\n",
       "    <tr>\n",
       "      <th>15</th>\n",
       "      <td>0.9855</td>\n",
       "      <td>0.9860</td>\n",
       "      <td>0.9795</td>\n",
       "      <td>0.9475</td>\n",
       "      <td>0.9845</td>\n",
       "      <td>0.9980</td>\n",
       "    </tr>\n",
       "    <tr>\n",
       "      <th>16</th>\n",
       "      <td>0.9855</td>\n",
       "      <td>0.9870</td>\n",
       "      <td>0.9805</td>\n",
       "      <td>0.9460</td>\n",
       "      <td>0.9840</td>\n",
       "      <td>0.9960</td>\n",
       "    </tr>\n",
       "    <tr>\n",
       "      <th>17</th>\n",
       "      <td>0.9905</td>\n",
       "      <td>0.9875</td>\n",
       "      <td>0.9830</td>\n",
       "      <td>0.9470</td>\n",
       "      <td>0.9845</td>\n",
       "      <td>0.9970</td>\n",
       "    </tr>\n",
       "    <tr>\n",
       "      <th>18</th>\n",
       "      <td>0.9875</td>\n",
       "      <td>0.9880</td>\n",
       "      <td>0.9800</td>\n",
       "      <td>0.9465</td>\n",
       "      <td>0.9850</td>\n",
       "      <td>0.9970</td>\n",
       "    </tr>\n",
       "    <tr>\n",
       "      <th>19</th>\n",
       "      <td>0.9870</td>\n",
       "      <td>0.9870</td>\n",
       "      <td>0.9805</td>\n",
       "      <td>0.9465</td>\n",
       "      <td>0.9840</td>\n",
       "      <td>0.9965</td>\n",
       "    </tr>\n",
       "    <tr>\n",
       "      <th>20</th>\n",
       "      <td>0.9830</td>\n",
       "      <td>0.9840</td>\n",
       "      <td>0.9800</td>\n",
       "      <td>0.9465</td>\n",
       "      <td>0.9835</td>\n",
       "      <td>0.9970</td>\n",
       "    </tr>\n",
       "    <tr>\n",
       "      <th>21</th>\n",
       "      <td>0.9865</td>\n",
       "      <td>0.9885</td>\n",
       "      <td>0.9810</td>\n",
       "      <td>0.9470</td>\n",
       "      <td>0.9850</td>\n",
       "      <td>0.9975</td>\n",
       "    </tr>\n",
       "    <tr>\n",
       "      <th>22</th>\n",
       "      <td>0.9885</td>\n",
       "      <td>0.9870</td>\n",
       "      <td>0.9810</td>\n",
       "      <td>0.9455</td>\n",
       "      <td>0.9845</td>\n",
       "      <td>0.9975</td>\n",
       "    </tr>\n",
       "    <tr>\n",
       "      <th>23</th>\n",
       "      <td>0.9870</td>\n",
       "      <td>0.9890</td>\n",
       "      <td>0.9800</td>\n",
       "      <td>0.9465</td>\n",
       "      <td>0.9870</td>\n",
       "      <td>0.9975</td>\n",
       "    </tr>\n",
       "    <tr>\n",
       "      <th>24</th>\n",
       "      <td>0.9870</td>\n",
       "      <td>0.9880</td>\n",
       "      <td>0.9835</td>\n",
       "      <td>0.9470</td>\n",
       "      <td>0.9840</td>\n",
       "      <td>0.9975</td>\n",
       "    </tr>\n",
       "    <tr>\n",
       "      <th>25</th>\n",
       "      <td>0.9885</td>\n",
       "      <td>0.9880</td>\n",
       "      <td>0.9815</td>\n",
       "      <td>0.9470</td>\n",
       "      <td>0.9820</td>\n",
       "      <td>0.9965</td>\n",
       "    </tr>\n",
       "    <tr>\n",
       "      <th>26</th>\n",
       "      <td>0.9875</td>\n",
       "      <td>0.9870</td>\n",
       "      <td>0.9795</td>\n",
       "      <td>0.9475</td>\n",
       "      <td>0.9825</td>\n",
       "      <td>0.9970</td>\n",
       "    </tr>\n",
       "    <tr>\n",
       "      <th>27</th>\n",
       "      <td>0.9855</td>\n",
       "      <td>0.9855</td>\n",
       "      <td>0.9795</td>\n",
       "      <td>0.9465</td>\n",
       "      <td>0.9850</td>\n",
       "      <td>0.9975</td>\n",
       "    </tr>\n",
       "    <tr>\n",
       "      <th>28</th>\n",
       "      <td>0.9855</td>\n",
       "      <td>0.9850</td>\n",
       "      <td>0.9775</td>\n",
       "      <td>0.9480</td>\n",
       "      <td>0.9830</td>\n",
       "      <td>0.9970</td>\n",
       "    </tr>\n",
       "    <tr>\n",
       "      <th>29</th>\n",
       "      <td>0.9885</td>\n",
       "      <td>0.9875</td>\n",
       "      <td>0.9780</td>\n",
       "      <td>0.9465</td>\n",
       "      <td>0.9860</td>\n",
       "      <td>0.9970</td>\n",
       "    </tr>\n",
       "  </tbody>\n",
       "</table>\n",
       "</div>"
      ],
      "text/plain": [
       "    Arvore  Random Forest     kNN  logistic     SVM  Neural\n",
       "0   0.9870         0.9875  0.9800    0.9475  0.9835  0.9965\n",
       "1   0.9850         0.9875  0.9800    0.9465  0.9835  0.9975\n",
       "2   0.9905         0.9880  0.9800    0.9470  0.9835  0.9970\n",
       "3   0.9870         0.9870  0.9800    0.9460  0.9845  0.9970\n",
       "4   0.9885         0.9900  0.9810    0.9465  0.9855  0.9965\n",
       "5   0.9890         0.9885  0.9785    0.9465  0.9830  0.9975\n",
       "6   0.9885         0.9890  0.9800    0.9470  0.9840  0.9965\n",
       "7   0.9875         0.9880  0.9805    0.9480  0.9845  0.9975\n",
       "8   0.9870         0.9885  0.9810    0.9465  0.9820  0.9960\n",
       "9   0.9870         0.9905  0.9810    0.9465  0.9830  0.9970\n",
       "10  0.9860         0.9855  0.9780    0.9475  0.9825  0.9975\n",
       "11  0.9895         0.9895  0.9805    0.9480  0.9825  0.9970\n",
       "12  0.9885         0.9870  0.9810    0.9475  0.9845  0.9965\n",
       "13  0.9865         0.9885  0.9800    0.9475  0.9840  0.9975\n",
       "14  0.9835         0.9880  0.9795    0.9485  0.9835  0.9965\n",
       "15  0.9855         0.9860  0.9795    0.9475  0.9845  0.9980\n",
       "16  0.9855         0.9870  0.9805    0.9460  0.9840  0.9960\n",
       "17  0.9905         0.9875  0.9830    0.9470  0.9845  0.9970\n",
       "18  0.9875         0.9880  0.9800    0.9465  0.9850  0.9970\n",
       "19  0.9870         0.9870  0.9805    0.9465  0.9840  0.9965\n",
       "20  0.9830         0.9840  0.9800    0.9465  0.9835  0.9970\n",
       "21  0.9865         0.9885  0.9810    0.9470  0.9850  0.9975\n",
       "22  0.9885         0.9870  0.9810    0.9455  0.9845  0.9975\n",
       "23  0.9870         0.9890  0.9800    0.9465  0.9870  0.9975\n",
       "24  0.9870         0.9880  0.9835    0.9470  0.9840  0.9975\n",
       "25  0.9885         0.9880  0.9815    0.9470  0.9820  0.9965\n",
       "26  0.9875         0.9870  0.9795    0.9475  0.9825  0.9970\n",
       "27  0.9855         0.9855  0.9795    0.9465  0.9850  0.9975\n",
       "28  0.9855         0.9850  0.9775    0.9480  0.9830  0.9970\n",
       "29  0.9885         0.9875  0.9780    0.9465  0.9860  0.9970"
      ]
     },
     "execution_count": 24,
     "metadata": {},
     "output_type": "execute_result"
    }
   ],
   "source": [
    "results"
   ]
  },
  {
   "cell_type": "code",
   "execution_count": 25,
   "id": "8c85fdac",
   "metadata": {
    "ExecuteTime": {
     "end_time": "2021-10-19T13:49:07.127035Z",
     "start_time": "2021-10-19T13:49:07.016145Z"
    }
   },
   "outputs": [
    {
     "data": {
      "text/html": [
       "<div>\n",
       "<style scoped>\n",
       "    .dataframe tbody tr th:only-of-type {\n",
       "        vertical-align: middle;\n",
       "    }\n",
       "\n",
       "    .dataframe tbody tr th {\n",
       "        vertical-align: top;\n",
       "    }\n",
       "\n",
       "    .dataframe thead th {\n",
       "        text-align: right;\n",
       "    }\n",
       "</style>\n",
       "<table border=\"1\" class=\"dataframe\">\n",
       "  <thead>\n",
       "    <tr style=\"text-align: right;\">\n",
       "      <th></th>\n",
       "      <th>Arvore</th>\n",
       "      <th>Random Forest</th>\n",
       "      <th>kNN</th>\n",
       "      <th>logistic</th>\n",
       "      <th>SVM</th>\n",
       "      <th>Neural</th>\n",
       "    </tr>\n",
       "  </thead>\n",
       "  <tbody>\n",
       "    <tr>\n",
       "      <th>count</th>\n",
       "      <td>30.000000</td>\n",
       "      <td>30.000000</td>\n",
       "      <td>30.000000</td>\n",
       "      <td>30.000000</td>\n",
       "      <td>30.000000</td>\n",
       "      <td>30.000000</td>\n",
       "    </tr>\n",
       "    <tr>\n",
       "      <th>mean</th>\n",
       "      <td>0.987150</td>\n",
       "      <td>0.987600</td>\n",
       "      <td>0.980200</td>\n",
       "      <td>0.946950</td>\n",
       "      <td>0.983950</td>\n",
       "      <td>0.997017</td>\n",
       "    </tr>\n",
       "    <tr>\n",
       "      <th>std</th>\n",
       "      <td>0.001772</td>\n",
       "      <td>0.001429</td>\n",
       "      <td>0.001270</td>\n",
       "      <td>0.000687</td>\n",
       "      <td>0.001155</td>\n",
       "      <td>0.000500</td>\n",
       "    </tr>\n",
       "    <tr>\n",
       "      <th>min</th>\n",
       "      <td>0.983000</td>\n",
       "      <td>0.984000</td>\n",
       "      <td>0.977500</td>\n",
       "      <td>0.945500</td>\n",
       "      <td>0.982000</td>\n",
       "      <td>0.996000</td>\n",
       "    </tr>\n",
       "    <tr>\n",
       "      <th>25%</th>\n",
       "      <td>0.986125</td>\n",
       "      <td>0.987000</td>\n",
       "      <td>0.979625</td>\n",
       "      <td>0.946500</td>\n",
       "      <td>0.983125</td>\n",
       "      <td>0.996500</td>\n",
       "    </tr>\n",
       "    <tr>\n",
       "      <th>50%</th>\n",
       "      <td>0.987000</td>\n",
       "      <td>0.987750</td>\n",
       "      <td>0.980000</td>\n",
       "      <td>0.947000</td>\n",
       "      <td>0.984000</td>\n",
       "      <td>0.997000</td>\n",
       "    </tr>\n",
       "    <tr>\n",
       "      <th>75%</th>\n",
       "      <td>0.988500</td>\n",
       "      <td>0.988500</td>\n",
       "      <td>0.981000</td>\n",
       "      <td>0.947500</td>\n",
       "      <td>0.984500</td>\n",
       "      <td>0.997500</td>\n",
       "    </tr>\n",
       "    <tr>\n",
       "      <th>max</th>\n",
       "      <td>0.990500</td>\n",
       "      <td>0.990500</td>\n",
       "      <td>0.983500</td>\n",
       "      <td>0.948500</td>\n",
       "      <td>0.987000</td>\n",
       "      <td>0.998000</td>\n",
       "    </tr>\n",
       "  </tbody>\n",
       "</table>\n",
       "</div>"
      ],
      "text/plain": [
       "          Arvore  Random Forest        kNN   logistic        SVM     Neural\n",
       "count  30.000000      30.000000  30.000000  30.000000  30.000000  30.000000\n",
       "mean    0.987150       0.987600   0.980200   0.946950   0.983950   0.997017\n",
       "std     0.001772       0.001429   0.001270   0.000687   0.001155   0.000500\n",
       "min     0.983000       0.984000   0.977500   0.945500   0.982000   0.996000\n",
       "25%     0.986125       0.987000   0.979625   0.946500   0.983125   0.996500\n",
       "50%     0.987000       0.987750   0.980000   0.947000   0.984000   0.997000\n",
       "75%     0.988500       0.988500   0.981000   0.947500   0.984500   0.997500\n",
       "max     0.990500       0.990500   0.983500   0.948500   0.987000   0.998000"
      ]
     },
     "execution_count": 25,
     "metadata": {},
     "output_type": "execute_result"
    }
   ],
   "source": [
    "results.describe()"
   ]
  },
  {
   "cell_type": "code",
   "execution_count": 26,
   "id": "edb8446c",
   "metadata": {
    "ExecuteTime": {
     "end_time": "2021-10-19T13:49:09.586794Z",
     "start_time": "2021-10-19T13:49:09.544785Z"
    }
   },
   "outputs": [
    {
     "data": {
      "text/plain": [
       "Arvore           3.140517e-06\n",
       "Random Forest    2.041379e-06\n",
       "kNN              1.613793e-06\n",
       "logistic         4.715517e-07\n",
       "SVM              1.333621e-06\n",
       "Neural           2.497126e-07\n",
       "dtype: float64"
      ]
     },
     "execution_count": 26,
     "metadata": {},
     "output_type": "execute_result"
    }
   ],
   "source": [
    "results.var()"
   ]
  },
  {
   "cell_type": "code",
   "execution_count": 27,
   "id": "a37a7a82",
   "metadata": {
    "ExecuteTime": {
     "end_time": "2021-10-19T13:49:10.305027Z",
     "start_time": "2021-10-19T13:49:10.280012Z"
    }
   },
   "outputs": [
    {
     "data": {
      "text/plain": [
       "Arvore           0.179522\n",
       "Random Forest    0.144671\n",
       "kNN              0.129601\n",
       "logistic         0.072517\n",
       "SVM              0.117366\n",
       "Neural           0.050121\n",
       "dtype: float64"
      ]
     },
     "execution_count": 27,
     "metadata": {},
     "output_type": "execute_result"
    }
   ],
   "source": [
    "(results.std() / results.mean()) * 100"
   ]
  },
  {
   "cell_type": "markdown",
   "id": "3c3c8cb3",
   "metadata": {},
   "source": [
    "# Normality Test - Shapiro\n",
    "\n",
    "Após feito o treinamento com o cross validation, verificar se há uma distribuição normal"
   ]
  },
  {
   "cell_type": "code",
   "execution_count": 28,
   "id": "534b29f3",
   "metadata": {
    "ExecuteTime": {
     "end_time": "2021-10-19T13:49:13.114290Z",
     "start_time": "2021-10-19T13:49:12.712689Z"
    }
   },
   "outputs": [],
   "source": [
    "from scipy.stats import shapiro\n",
    "import seaborn as sns"
   ]
  },
  {
   "cell_type": "markdown",
   "id": "581bab0e",
   "metadata": {},
   "source": [
    "**Alpha** = 0.05, se p > Alpha, então será uma distribuição normal"
   ]
  },
  {
   "cell_type": "code",
   "execution_count": 29,
   "id": "2af222b1",
   "metadata": {
    "ExecuteTime": {
     "end_time": "2021-10-19T13:49:15.359545Z",
     "start_time": "2021-10-19T13:49:15.297410Z"
    }
   },
   "outputs": [
    {
     "data": {
      "text/plain": [
       "(ShapiroResult(statistic=0.924409031867981, pvalue=0.03495445102453232),\n",
       " ShapiroResult(statistic=0.9370993375778198, pvalue=0.07600117474794388),\n",
       " ShapiroResult(statistic=0.9658124446868896, pvalue=0.4317886233329773),\n",
       " ShapiroResult(statistic=0.8999323844909668, pvalue=0.008366711437702179))"
      ]
     },
     "execution_count": 29,
     "metadata": {},
     "output_type": "execute_result"
    }
   ],
   "source": [
    "shapiro(results_tree), shapiro(results_random),\n",
    "shapiro(results_knn), shapiro(results_logis), shapiro(results_svm), shapiro(results_neural)"
   ]
  },
  {
   "cell_type": "code",
   "execution_count": 30,
   "id": "fe042d9e",
   "metadata": {
    "ExecuteTime": {
     "end_time": "2021-10-19T13:49:18.293072Z",
     "start_time": "2021-10-19T13:49:16.729831Z"
    },
    "scrolled": false
   },
   "outputs": [
    {
     "data": {
      "image/png": "[encoded data removed]",
      "text/plain": [
       "<Figure size 1050.38x504 with 1 Axes>"
      ]
     },
     "metadata": {
      "needs_background": "light"
     },
     "output_type": "display_data"
    }
   ],
   "source": [
    "chart = sns.displot((results_tree, results_random, results_knn, results_logis, results_svm, results_neural),\n",
    "           kind='kde', fill=True, height=7, aspect=2.0);\n",
    "\n",
    "## Changing title\n",
    "new_title = 'Models'\n",
    "chart._legend.set_title(new_title)\n",
    "\n",
    "# Replacing labels\n",
    "new_labels = ['Decision Tree', 'Random Forest', 'kNN', 'Logistic Regression', 'SVM', 'Neural Network']\n",
    "for t, l in zip(chart._legend.texts, new_labels):\n",
    "    t.set_text(l)"
   ]
  },
  {
   "cell_type": "markdown",
   "id": "b1a983b5",
   "metadata": {},
   "source": [
    "# Teste de hipótese com ANOVA e Tukey\n",
    "\n",
    "Vendo qual é o melhor algoritmo"
   ]
  },
  {
   "cell_type": "code",
   "execution_count": 31,
   "id": "2afa4590",
   "metadata": {
    "ExecuteTime": {
     "end_time": "2021-10-19T13:49:25.835058Z",
     "start_time": "2021-10-19T13:49:25.826045Z"
    }
   },
   "outputs": [],
   "source": [
    "from scipy.stats import f_oneway"
   ]
  },
  {
   "cell_type": "code",
   "execution_count": 32,
   "id": "1f7ee9d8",
   "metadata": {
    "ExecuteTime": {
     "end_time": "2021-10-19T13:49:26.539052Z",
     "start_time": "2021-10-19T13:49:26.498262Z"
    }
   },
   "outputs": [],
   "source": [
    "_,p = f_oneway(results_tree, results_random, results_knn, results_logis, results_svm, results_neural)"
   ]
  },
  {
   "cell_type": "code",
   "execution_count": 33,
   "id": "8dc50d60",
   "metadata": {
    "ExecuteTime": {
     "end_time": "2021-10-19T13:49:27.145581Z",
     "start_time": "2021-10-19T13:49:27.130011Z"
    }
   },
   "outputs": [
    {
     "data": {
      "text/plain": [
       "1.7234483816076765e-193"
      ]
     },
     "execution_count": 33,
     "metadata": {},
     "output_type": "execute_result"
    }
   ],
   "source": [
    "p"
   ]
  },
  {
   "cell_type": "code",
   "execution_count": 34,
   "id": "facc1ae2",
   "metadata": {
    "ExecuteTime": {
     "end_time": "2021-10-19T13:49:30.145509Z",
     "start_time": "2021-10-19T13:49:30.130777Z"
    }
   },
   "outputs": [
    {
     "name": "stdout",
     "output_type": "stream",
     "text": [
      "Hipótese nula rejeitada. Dados são diferentes\n"
     ]
    }
   ],
   "source": [
    "alpha = 0.05\n",
    "if p<= alpha:\n",
    "  print('Hipótese nula rejeitada. Dados são diferentes')\n",
    "else:\n",
    "  print('Hipótese alternativa rejeitada. Dados são iguais')"
   ]
  },
  {
   "cell_type": "code",
   "execution_count": 35,
   "id": "70b4d2f3",
   "metadata": {
    "ExecuteTime": {
     "end_time": "2021-10-19T13:49:33.457420Z",
     "start_time": "2021-10-19T13:49:33.371051Z"
    }
   },
   "outputs": [],
   "source": [
    "results_algorit = {'accuracy': np.concatenate([results_tree, results_random, results_knn, results_logis, results_svm, results_neural]),\n",
    "                   'algoritmo': ['arvore','arvore','arvore','arvore','arvore','arvore','arvore','arvore','arvore','arvore','arvore','arvore','arvore','arvore','arvore','arvore','arvore','arvore','arvore','arvore','arvore','arvore','arvore','arvore','arvore','arvore','arvore','arvore','arvore','arvore',\n",
    "                                 'random','random','random','random','random','random','random','random','random','random','random','random','random','random','random','random','random','random','random','random','random','random','random','random','random','random','random','random','random','random',\n",
    "                                 'knn','knn','knn','knn','knn','knn','knn','knn','knn','knn','knn','knn','knn','knn','knn','knn','knn','knn','knn','knn','knn','knn','knn','knn','knn','knn','knn','knn','knn','knn',\n",
    "                                 'logistica','logistica','logistica','logistica','logistica','logistica','logistica','logistica','logistica','logistica','logistica','logistica','logistica','logistica','logistica','logistica','logistica','logistica','logistica','logistica','logistica','logistica','logistica','logistica','logistica','logistica','logistica','logistica','logistica','logistica',\n",
    "                                 'svm','svm','svm','svm','svm','svm','svm','svm','svm','svm','svm','svm','svm','svm','svm','svm','svm','svm','svm','svm','svm','svm','svm','svm','svm','svm','svm','svm','svm','svm',\n",
    "                                 'neural','neural','neural','neural','neural','neural','neural','neural','neural','neural','neural','neural','neural','neural','neural','neural','neural','neural','neural','neural','neural','neural','neural','neural','neural','neural','neural','neural','neural','neural',]}"
   ]
  },
  {
   "cell_type": "code",
   "execution_count": 36,
   "id": "5f22b8c8",
   "metadata": {
    "ExecuteTime": {
     "end_time": "2021-10-19T13:49:33.928127Z",
     "start_time": "2021-10-19T13:49:33.912503Z"
    }
   },
   "outputs": [],
   "source": [
    "results_df = pd.DataFrame(results_algorit)"
   ]
  },
  {
   "cell_type": "code",
   "execution_count": 37,
   "id": "7e438ace",
   "metadata": {
    "ExecuteTime": {
     "end_time": "2021-10-19T13:49:34.979653Z",
     "start_time": "2021-10-19T13:49:34.964017Z"
    }
   },
   "outputs": [
    {
     "data": {
      "text/html": [
       "<div>\n",
       "<style scoped>\n",
       "    .dataframe tbody tr th:only-of-type {\n",
       "        vertical-align: middle;\n",
       "    }\n",
       "\n",
       "    .dataframe tbody tr th {\n",
       "        vertical-align: top;\n",
       "    }\n",
       "\n",
       "    .dataframe thead th {\n",
       "        text-align: right;\n",
       "    }\n",
       "</style>\n",
       "<table border=\"1\" class=\"dataframe\">\n",
       "  <thead>\n",
       "    <tr style=\"text-align: right;\">\n",
       "      <th></th>\n",
       "      <th>accuracy</th>\n",
       "      <th>algoritmo</th>\n",
       "    </tr>\n",
       "  </thead>\n",
       "  <tbody>\n",
       "    <tr>\n",
       "      <th>0</th>\n",
       "      <td>0.9870</td>\n",
       "      <td>arvore</td>\n",
       "    </tr>\n",
       "    <tr>\n",
       "      <th>1</th>\n",
       "      <td>0.9850</td>\n",
       "      <td>arvore</td>\n",
       "    </tr>\n",
       "    <tr>\n",
       "      <th>2</th>\n",
       "      <td>0.9905</td>\n",
       "      <td>arvore</td>\n",
       "    </tr>\n",
       "    <tr>\n",
       "      <th>3</th>\n",
       "      <td>0.9870</td>\n",
       "      <td>arvore</td>\n",
       "    </tr>\n",
       "    <tr>\n",
       "      <th>4</th>\n",
       "      <td>0.9885</td>\n",
       "      <td>arvore</td>\n",
       "    </tr>\n",
       "    <tr>\n",
       "      <th>...</th>\n",
       "      <td>...</td>\n",
       "      <td>...</td>\n",
       "    </tr>\n",
       "    <tr>\n",
       "      <th>175</th>\n",
       "      <td>0.9965</td>\n",
       "      <td>neural</td>\n",
       "    </tr>\n",
       "    <tr>\n",
       "      <th>176</th>\n",
       "      <td>0.9970</td>\n",
       "      <td>neural</td>\n",
       "    </tr>\n",
       "    <tr>\n",
       "      <th>177</th>\n",
       "      <td>0.9975</td>\n",
       "      <td>neural</td>\n",
       "    </tr>\n",
       "    <tr>\n",
       "      <th>178</th>\n",
       "      <td>0.9970</td>\n",
       "      <td>neural</td>\n",
       "    </tr>\n",
       "    <tr>\n",
       "      <th>179</th>\n",
       "      <td>0.9970</td>\n",
       "      <td>neural</td>\n",
       "    </tr>\n",
       "  </tbody>\n",
       "</table>\n",
       "<p>180 rows × 2 columns</p>\n",
       "</div>"
      ],
      "text/plain": [
       "     accuracy algoritmo\n",
       "0      0.9870    arvore\n",
       "1      0.9850    arvore\n",
       "2      0.9905    arvore\n",
       "3      0.9870    arvore\n",
       "4      0.9885    arvore\n",
       "..        ...       ...\n",
       "175    0.9965    neural\n",
       "176    0.9970    neural\n",
       "177    0.9975    neural\n",
       "178    0.9970    neural\n",
       "179    0.9970    neural\n",
       "\n",
       "[180 rows x 2 columns]"
      ]
     },
     "execution_count": 37,
     "metadata": {},
     "output_type": "execute_result"
    }
   ],
   "source": [
    "results_df"
   ]
  },
  {
   "cell_type": "code",
   "execution_count": 38,
   "id": "dd182697",
   "metadata": {
    "ExecuteTime": {
     "end_time": "2021-10-19T13:49:38.815576Z",
     "start_time": "2021-10-19T13:49:37.459697Z"
    }
   },
   "outputs": [],
   "source": [
    "from statsmodels.stats.multicomp import MultiComparison"
   ]
  },
  {
   "cell_type": "code",
   "execution_count": 39,
   "id": "9d109236",
   "metadata": {
    "ExecuteTime": {
     "end_time": "2021-10-19T13:49:38.910590Z",
     "start_time": "2021-10-19T13:49:38.881122Z"
    }
   },
   "outputs": [],
   "source": [
    "comp = MultiComparison(results_df['accuracy'], results_df['algoritmo'])"
   ]
  },
  {
   "cell_type": "code",
   "execution_count": 40,
   "id": "1ad24f17",
   "metadata": {
    "ExecuteTime": {
     "end_time": "2021-10-19T13:49:40.219728Z",
     "start_time": "2021-10-19T13:49:39.819772Z"
    }
   },
   "outputs": [],
   "source": [
    "test = comp.tukeyhsd()"
   ]
  },
  {
   "cell_type": "code",
   "execution_count": 41,
   "id": "100b4a06",
   "metadata": {
    "ExecuteTime": {
     "end_time": "2021-10-19T13:49:41.354811Z",
     "start_time": "2021-10-19T13:49:41.347811Z"
    }
   },
   "outputs": [
    {
     "name": "stdout",
     "output_type": "stream",
     "text": [
      "   Multiple Comparison of Means - Tukey HSD, FWER=0.05    \n",
      "==========================================================\n",
      "  group1    group2  meandiff p-adj   lower   upper  reject\n",
      "----------------------------------------------------------\n",
      "   arvore       knn  -0.0069  0.001 -0.0079  -0.006   True\n",
      "   arvore logistica  -0.0402  0.001 -0.0411 -0.0393   True\n",
      "   arvore    neural   0.0099  0.001   0.009  0.0108   True\n",
      "   arvore    random   0.0005 0.6806 -0.0005  0.0014  False\n",
      "   arvore       svm  -0.0032  0.001 -0.0041 -0.0023   True\n",
      "      knn logistica  -0.0333  0.001 -0.0342 -0.0323   True\n",
      "      knn    neural   0.0168  0.001  0.0159  0.0177   True\n",
      "      knn    random   0.0074  0.001  0.0065  0.0083   True\n",
      "      knn       svm   0.0037  0.001  0.0028  0.0047   True\n",
      "logistica    neural   0.0501  0.001  0.0492   0.051   True\n",
      "logistica    random   0.0406  0.001  0.0397  0.0416   True\n",
      "logistica       svm    0.037  0.001  0.0361  0.0379   True\n",
      "   neural    random  -0.0094  0.001 -0.0103 -0.0085   True\n",
      "   neural       svm  -0.0131  0.001  -0.014 -0.0122   True\n",
      "   random       svm  -0.0036  0.001 -0.0046 -0.0027   True\n",
      "----------------------------------------------------------\n"
     ]
    }
   ],
   "source": [
    "print(test)"
   ]
  },
  {
   "cell_type": "code",
   "execution_count": 42,
   "id": "10ed3466",
   "metadata": {
    "ExecuteTime": {
     "end_time": "2021-10-19T13:49:43.625119Z",
     "start_time": "2021-10-19T13:49:43.604109Z"
    }
   },
   "outputs": [
    {
     "data": {
      "text/plain": [
       "Arvore           0.987150\n",
       "Random Forest    0.987600\n",
       "kNN              0.980200\n",
       "logistic         0.946950\n",
       "SVM              0.983950\n",
       "Neural           0.997017\n",
       "dtype: float64"
      ]
     },
     "execution_count": 42,
     "metadata": {},
     "output_type": "execute_result"
    }
   ],
   "source": [
    "results.mean()"
   ]
  },
  {
   "cell_type": "code",
   "execution_count": 43,
   "id": "8ef62556",
   "metadata": {
    "ExecuteTime": {
     "end_time": "2021-10-19T13:49:45.528770Z",
     "start_time": "2021-10-19T13:49:45.356463Z"
    }
   },
   "outputs": [
    {
     "data": {
      "image/png": "[encoded data removed]",
      "text/plain": [
       "<Figure size 720x432 with 1 Axes>"
      ]
     },
     "metadata": {
      "needs_background": "light"
     },
     "output_type": "display_data"
    }
   ],
   "source": [
    "test.plot_simultaneous();"
   ]
  },
  {
   "cell_type": "markdown",
   "id": "7c86bba8",
   "metadata": {},
   "source": [
    "# Salvar o modelo treinado"
   ]
  },
  {
   "cell_type": "code",
   "execution_count": 45,
   "id": "24bcb7a0",
   "metadata": {
    "ExecuteTime": {
     "end_time": "2021-10-19T13:50:03.108877Z",
     "start_time": "2021-10-19T13:50:03.102876Z"
    }
   },
   "outputs": [],
   "source": [
    "with open('../data/credit.pkl', 'rb') as f:\n",
    "  x_credit_train, y_credit_train, x_credit_test, y_credit_test = pickle.load(f)"
   ]
  },
  {
   "cell_type": "code",
   "execution_count": 46,
   "id": "39687549",
   "metadata": {
    "ExecuteTime": {
     "end_time": "2021-10-19T13:50:05.012138Z",
     "start_time": "2021-10-19T13:50:04.998123Z"
    }
   },
   "outputs": [],
   "source": [
    "x_credit = np.concatenate((x_credit_train, x_credit_test), axis=0)\n",
    "y_credit = np.concatenate((y_credit_train, y_credit_test), axis=0)"
   ]
  },
  {
   "cell_type": "code",
   "execution_count": 47,
   "id": "1b1a1f49",
   "metadata": {
    "ExecuteTime": {
     "end_time": "2021-10-19T13:50:05.772693Z",
     "start_time": "2021-10-19T13:50:05.759580Z"
    }
   },
   "outputs": [],
   "source": [
    "from sklearn.neural_network import MLPClassifier\n",
    "from sklearn.tree import DecisionTreeClassifier\n",
    "from sklearn.svm import SVC"
   ]
  },
  {
   "cell_type": "code",
   "execution_count": 48,
   "id": "0e33dc39",
   "metadata": {
    "ExecuteTime": {
     "end_time": "2021-10-19T13:50:10.974132Z",
     "start_time": "2021-10-19T13:50:07.279145Z"
    }
   },
   "outputs": [
    {
     "data": {
      "text/plain": [
       "MLPClassifier(batch_size=56)"
      ]
     },
     "execution_count": 48,
     "metadata": {},
     "output_type": "execute_result"
    }
   ],
   "source": [
    "model_neural = MLPClassifier(activation='relu', batch_size=56, solver='adam')\n",
    "model_neural.fit(x_credit, y_credit)"
   ]
  },
  {
   "cell_type": "code",
   "execution_count": 49,
   "id": "ebe165a1",
   "metadata": {
    "ExecuteTime": {
     "end_time": "2021-10-19T13:50:13.116961Z",
     "start_time": "2021-10-19T13:50:13.103947Z"
    }
   },
   "outputs": [
    {
     "data": {
      "text/plain": [
       "DecisionTreeClassifier(criterion='entropy', min_samples_split=5)"
      ]
     },
     "execution_count": 49,
     "metadata": {},
     "output_type": "execute_result"
    }
   ],
   "source": [
    "model_decision = DecisionTreeClassifier(criterion='entropy', min_samples_leaf=1, min_samples_split=5, splitter='best')\n",
    "model_decision.fit(x_credit, y_credit)"
   ]
  },
  {
   "cell_type": "code",
   "execution_count": 50,
   "id": "f76b8bbc",
   "metadata": {
    "ExecuteTime": {
     "end_time": "2021-10-19T13:50:13.890186Z",
     "start_time": "2021-10-19T13:50:13.735222Z"
    }
   },
   "outputs": [
    {
     "data": {
      "text/plain": [
       "SVC(C=2.0, probability=True)"
      ]
     },
     "execution_count": 50,
     "metadata": {},
     "output_type": "execute_result"
    }
   ],
   "source": [
    "model_svm = SVC(C=2.0, kernel='rbf', probability=True)\n",
    "model_svm.fit(x_credit, y_credit)"
   ]
  },
  {
   "cell_type": "code",
   "execution_count": 51,
   "id": "561b51d9",
   "metadata": {
    "ExecuteTime": {
     "end_time": "2021-10-19T13:50:14.705438Z",
     "start_time": "2021-10-19T13:50:14.641298Z"
    }
   },
   "outputs": [],
   "source": [
    "pickle.dump(model_neural, open('neural.sav', 'wb'))\n",
    "pickle.dump(model_decision, open('decision.sav', 'wb'))\n",
    "pickle.dump(model_svm, open('svm.sav', 'wb'))"
   ]
  },
  {
   "cell_type": "markdown",
   "id": "1863b8c3",
   "metadata": {},
   "source": [
    "# Carregar o modelo treinado"
   ]
  },
  {
   "cell_type": "code",
   "execution_count": 52,
   "id": "1c61f63d",
   "metadata": {
    "ExecuteTime": {
     "end_time": "2021-10-19T13:50:17.584033Z",
     "start_time": "2021-10-19T13:50:17.552026Z"
    }
   },
   "outputs": [],
   "source": [
    "neural = pickle.load(open('neural.sav', 'rb'))\n",
    "decision = pickle.load(open('decision.sav','rb'))\n",
    "svm = pickle.load(open('svm.sav','rb'))"
   ]
  },
  {
   "cell_type": "code",
   "execution_count": 53,
   "id": "2c80d889",
   "metadata": {
    "ExecuteTime": {
     "end_time": "2021-10-19T13:50:18.055766Z",
     "start_time": "2021-10-19T13:50:18.048755Z"
    }
   },
   "outputs": [],
   "source": [
    "new = x_credit[1999]\n",
    "new = new.reshape(1,-1)"
   ]
  },
  {
   "cell_type": "code",
   "execution_count": 54,
   "id": "f7aa4098",
   "metadata": {
    "ExecuteTime": {
     "end_time": "2021-10-19T13:50:18.539743Z",
     "start_time": "2021-10-19T13:50:18.527731Z"
    }
   },
   "outputs": [
    {
     "data": {
      "text/plain": [
       "(array([1], dtype=int64), array([1], dtype=int64), array([1], dtype=int64))"
      ]
     },
     "execution_count": 54,
     "metadata": {},
     "output_type": "execute_result"
    }
   ],
   "source": [
    "neural.predict(new), decision.predict(new), svm.predict(new)"
   ]
  },
  {
   "cell_type": "markdown",
   "id": "f6a8ee84",
   "metadata": {},
   "source": [
    "# Combinação de Classificadores \n",
    "\n",
    "* Classificação mais precisa\n",
    "* Busca-se o melhor conjunto de classificadores\n",
    "* Diminui o risco de selecionar um classificador individual inadequado"
   ]
  },
  {
   "cell_type": "code",
   "execution_count": 55,
   "id": "ee87f9b1",
   "metadata": {
    "ExecuteTime": {
     "end_time": "2021-10-19T13:50:21.064264Z",
     "start_time": "2021-10-19T13:50:21.048262Z"
    }
   },
   "outputs": [],
   "source": [
    "new = x_credit[1999]\n",
    "new = new.reshape(1,-1)"
   ]
  },
  {
   "cell_type": "code",
   "execution_count": 56,
   "id": "7977c2f8",
   "metadata": {
    "ExecuteTime": {
     "end_time": "2021-10-19T13:50:21.537074Z",
     "start_time": "2021-10-19T13:50:21.529066Z"
    }
   },
   "outputs": [],
   "source": [
    "resp_neural = neural.predict(new)\n",
    "resp_decision = decision.predict(new)\n",
    "resp_svm = svm.predict(new)"
   ]
  },
  {
   "cell_type": "code",
   "execution_count": 57,
   "id": "6a18d6f9",
   "metadata": {
    "ExecuteTime": {
     "end_time": "2021-10-19T13:50:22.246869Z",
     "start_time": "2021-10-19T13:50:22.232856Z"
    }
   },
   "outputs": [
    {
     "data": {
      "text/plain": [
       "(array([1], dtype=int64), array([1], dtype=int64), array([1], dtype=int64))"
      ]
     },
     "execution_count": 57,
     "metadata": {},
     "output_type": "execute_result"
    }
   ],
   "source": [
    "resp_neural, resp_decision, resp_svm"
   ]
  },
  {
   "cell_type": "code",
   "execution_count": 58,
   "id": "7d7cc380",
   "metadata": {
    "ExecuteTime": {
     "end_time": "2021-10-19T13:50:24.002062Z",
     "start_time": "2021-10-19T13:50:23.994050Z"
    }
   },
   "outputs": [
    {
     "name": "stdout",
     "output_type": "stream",
     "text": [
      "Cliente não pagará o emprestimo\n"
     ]
    }
   ],
   "source": [
    "paga = 0\n",
    "nao_paga = 0\n",
    "\n",
    "if resp_neural[0] == 1:\n",
    "  nao_paga += 1\n",
    "else:\n",
    "  paga += 1\n",
    "\n",
    "if resp_decision[0] == 1:\n",
    "   nao_paga += 1\n",
    "else:\n",
    "   paga += 1\n",
    "\n",
    "if resp_svm[0] == 1:\n",
    "  nao_paga += 1\n",
    "else:\n",
    "  paga += 1\n",
    "\n",
    "if paga > nao_paga:\n",
    "  print('Cliente pagará o emprestimo')\n",
    "elif paga == nao_paga:\n",
    "  print('Empate')\n",
    "else:\n",
    "  print('Cliente não pagará o emprestimo')"
   ]
  },
  {
   "cell_type": "markdown",
   "id": "4937d5a7",
   "metadata": {},
   "source": [
    "# Rejeição de Classificadores\n",
    "\n",
    "* Em aplicações reais:\n",
    "* Apontar uma hipótese\n",
    "* Rejeitar o resultado se não tiver certeza suficiente"
   ]
  },
  {
   "cell_type": "code",
   "execution_count": 59,
   "id": "d0612793",
   "metadata": {
    "ExecuteTime": {
     "end_time": "2021-10-19T13:50:25.220631Z",
     "start_time": "2021-10-19T13:50:25.216632Z"
    }
   },
   "outputs": [],
   "source": [
    "new = x_credit[1999]\n",
    "new = new.reshape(1,-1)"
   ]
  },
  {
   "cell_type": "code",
   "execution_count": 60,
   "id": "8723d114",
   "metadata": {
    "ExecuteTime": {
     "end_time": "2021-10-19T13:50:26.881915Z",
     "start_time": "2021-10-19T13:50:26.864900Z"
    }
   },
   "outputs": [],
   "source": [
    "resp_neural = neural.predict(new)\n",
    "resp_decision = decision.predict(new)\n",
    "resp_svm = svm.predict(new)"
   ]
  },
  {
   "cell_type": "code",
   "execution_count": 61,
   "id": "73cee781",
   "metadata": {
    "ExecuteTime": {
     "end_time": "2021-10-19T13:50:27.293252Z",
     "start_time": "2021-10-19T13:50:27.277624Z"
    }
   },
   "outputs": [
    {
     "data": {
      "text/plain": [
       "(array([1], dtype=int64), array([1], dtype=int64), array([1], dtype=int64))"
      ]
     },
     "execution_count": 61,
     "metadata": {},
     "output_type": "execute_result"
    }
   ],
   "source": [
    "resp_neural, resp_decision, resp_svm"
   ]
  },
  {
   "cell_type": "code",
   "execution_count": 62,
   "id": "0f2a7824",
   "metadata": {
    "ExecuteTime": {
     "end_time": "2021-10-19T13:50:27.809767Z",
     "start_time": "2021-10-19T13:50:27.794141Z"
    }
   },
   "outputs": [
    {
     "data": {
      "text/plain": [
       "0.9999073664151201"
      ]
     },
     "execution_count": 62,
     "metadata": {},
     "output_type": "execute_result"
    }
   ],
   "source": [
    "prob_neural = neural.predict_proba(new)\n",
    "confianca_neural = prob_neural.max()\n",
    "confianca_neural"
   ]
  },
  {
   "cell_type": "code",
   "execution_count": 63,
   "id": "70fa10e8",
   "metadata": {
    "ExecuteTime": {
     "end_time": "2021-10-19T13:50:28.310505Z",
     "start_time": "2021-10-19T13:50:28.294878Z"
    }
   },
   "outputs": [
    {
     "data": {
      "text/plain": [
       "1.0"
      ]
     },
     "execution_count": 63,
     "metadata": {},
     "output_type": "execute_result"
    }
   ],
   "source": [
    "prob_decision = decision.predict_proba(new)\n",
    "confianca_decision = prob_decision.max()\n",
    "confianca_decision"
   ]
  },
  {
   "cell_type": "code",
   "execution_count": 64,
   "id": "5847b81d",
   "metadata": {
    "ExecuteTime": {
     "end_time": "2021-10-19T13:50:30.185475Z",
     "start_time": "2021-10-19T13:50:30.153459Z"
    }
   },
   "outputs": [
    {
     "data": {
      "text/plain": [
       "0.9926387934519683"
      ]
     },
     "execution_count": 64,
     "metadata": {},
     "output_type": "execute_result"
    }
   ],
   "source": [
    "prob_svm = svm.predict_proba(new)\n",
    "confianca_svm = prob_svm.max()\n",
    "confianca_svm"
   ]
  },
  {
   "cell_type": "markdown",
   "id": "3cb53a24",
   "metadata": {},
   "source": [
    "melhorar o codigo se for uma aplicação que exige uma confiança alta"
   ]
  },
  {
   "cell_type": "code",
   "execution_count": 65,
   "id": "ad28702f",
   "metadata": {
    "ExecuteTime": {
     "end_time": "2021-10-19T13:50:31.697451Z",
     "start_time": "2021-10-19T13:50:31.681438Z"
    }
   },
   "outputs": [
    {
     "name": "stdout",
     "output_type": "stream",
     "text": [
      "Cliente não pagará o emprestimo, baseado em 1 algoritmos\n"
     ]
    }
   ],
   "source": [
    "paga = 0\n",
    "nao_paga = 0\n",
    "confianca_minima = 0.999999\n",
    "algoritmos = 0\n",
    "\n",
    "if confianca_neural >= confianca_minima:\n",
    "  algoritmos += 1\n",
    "  if resp_neural[0] == 1:\n",
    "   nao_paga += 1\n",
    "  else:\n",
    "   paga += 1\n",
    "\n",
    "if confianca_decision >= confianca_minima:\n",
    "  algoritmos += 1\n",
    "  if resp_decision[0] == 1:\n",
    "    nao_paga += 1\n",
    "  else:\n",
    "    paga += 1\n",
    "\n",
    "if confianca_svm >= confianca_minima:\n",
    "  algoritmos += 1\n",
    "  if resp_svm[0] == 1:\n",
    "    nao_paga += 1\n",
    "  else:\n",
    "    paga += 1\n",
    "\n",
    "if paga > nao_paga:\n",
    "  print('Cliente pagará o emprestimo, baseado em {} algoritmos'.format(algoritmos))\n",
    "elif paga == nao_paga:\n",
    "  print('Empate, baseado em {} algoritmos'.format(algoritmos))\n",
    "else:\n",
    "  print('Cliente não pagará o emprestimo, baseado em {} algoritmos'.format(algoritmos))"
   ]
  }
 ],
 "metadata": {
  "kernelspec": {
   "display_name": "Python 3 (ipykernel)",
   "language": "python",
   "name": "python3"
  },
  "language_info": {
   "codemirror_mode": {
    "name": "ipython",
    "version": 3
   },
   "file_extension": ".py",
   "mimetype": "text/x-python",
   "name": "python",
   "nbconvert_exporter": "python",
   "pygments_lexer": "ipython3",
   "version": "3.8.8"
  },
  "varInspector": {
   "cols": {
    "lenName": 16,
    "lenType": 16,
    "lenVar": 40
   },
   "kernels_config": {
    "python": {
     "delete_cmd_postfix": "",
     "delete_cmd_prefix": "del ",
     "library": "var_list.py",
     "varRefreshCmd": "print(var_dic_list())"
    },
    "r": {
     "delete_cmd_postfix": ") ",
     "delete_cmd_prefix": "rm(",
     "library": "var_list.r",
     "varRefreshCmd": "cat(var_dic_list()) "
    }
   },
   "types_to_exclude": [
    "module",
    "function",
    "builtin_function_or_method",
    "instance",
    "_Feature"
   ],
   "window_display": false
  }
 },
 "nbformat": 4,
 "nbformat_minor": 5
}
