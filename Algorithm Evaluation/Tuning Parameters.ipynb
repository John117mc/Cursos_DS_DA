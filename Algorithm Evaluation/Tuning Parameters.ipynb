{
 "cells": [
  {
   "cell_type": "markdown",
   "id": "c39988d2",
   "metadata": {},
   "source": [
    "# Avaliação dos algoritmos\n",
    "\n",
    "* Naive Bayes: 93.80%\n",
    "* Árvore de Decisão: 98.20% -> 98.30%\n",
    "* Random Forest: 98.40% -> 98.70%\n",
    "* Regras: 97.40%\n",
    "* kNN: 98.60% -> 98%\n",
    "* Regressão Logistica: 94.60% -> 94.84%\n",
    "* SVM: 98.60% -> 98.29%\n",
    "* Redes Neurais: 99.60% -> 99.64%"
   ]
  },
  {
   "cell_type": "code",
   "execution_count": 17,
   "id": "20cf5806",
   "metadata": {
    "ExecuteTime": {
     "end_time": "2021-10-10T18:31:22.271873Z",
     "start_time": "2021-10-10T18:31:22.262871Z"
    }
   },
   "outputs": [],
   "source": [
    "from sklearn.model_selection import GridSearchCV\n",
    "\n",
    "from sklearn.tree            import DecisionTreeClassifier\n",
    "from sklearn.ensemble        import RandomForestClassifier\n",
    "from sklearn.neighbors       import KNeighborsClassifier\n",
    "from sklearn.linear_model    import LogisticRegression\n",
    "from sklearn.svm             import SVC\n",
    "from sklearn.neural_network  import MLPClassifier\n",
    "\n",
    "import pickle\n",
    "import numpy as np"
   ]
  },
  {
   "cell_type": "code",
   "execution_count": 28,
   "id": "eb7fe8ce",
   "metadata": {
    "ExecuteTime": {
     "end_time": "2021-10-10T18:35:34.860971Z",
     "start_time": "2021-10-10T18:35:34.851970Z"
    }
   },
   "outputs": [],
   "source": [
    "with open('../data/credit.pkl', 'rb') as f:\n",
    "    x_credit_train, y_credit_train, x_credit_test, y_credit_test = pickle.load(f)"
   ]
  },
  {
   "cell_type": "code",
   "execution_count": 29,
   "id": "3a53cdf4",
   "metadata": {
    "ExecuteTime": {
     "end_time": "2021-10-10T18:35:36.160243Z",
     "start_time": "2021-10-10T18:35:36.155242Z"
    }
   },
   "outputs": [],
   "source": [
    "x_credit = np.concatenate((x_credit_train, x_credit_test), axis=0)\n",
    "y_credit = np.concatenate((y_credit_train, y_credit_test), axis=0)"
   ]
  },
  {
   "cell_type": "markdown",
   "id": "24adeea6",
   "metadata": {
    "ExecuteTime": {
     "end_time": "2021-10-10T18:27:29.304998Z",
     "start_time": "2021-10-10T18:27:29.285993Z"
    }
   },
   "source": [
    "## Decision Tree"
   ]
  },
  {
   "cell_type": "code",
   "execution_count": 31,
   "id": "f79ed716",
   "metadata": {
    "ExecuteTime": {
     "end_time": "2021-10-10T18:36:17.829678Z",
     "start_time": "2021-10-10T18:36:17.817213Z"
    }
   },
   "outputs": [],
   "source": [
    "parameters = {'criterion': ['gini','entropy'],\n",
    "              'splitter': ['best','random'],\n",
    "              'min_samples_split': [2, 5, 10],\n",
    "              'min_samples_leaf': [1, 5, 10]}"
   ]
  },
  {
   "cell_type": "code",
   "execution_count": 32,
   "id": "c4685222",
   "metadata": {
    "ExecuteTime": {
     "end_time": "2021-10-10T18:36:48.744347Z",
     "start_time": "2021-10-10T18:36:48.156445Z"
    }
   },
   "outputs": [
    {
     "name": "stdout",
     "output_type": "stream",
     "text": [
      "{'criterion': 'entropy', 'min_samples_leaf': 1, 'min_samples_split': 5, 'splitter': 'best'}\n",
      "0.983\n"
     ]
    }
   ],
   "source": [
    "grid_search = GridSearchCV(estimator=DecisionTreeClassifier(), param_grid=parameters)\n",
    "grid_search.fit(x_credit, y_credit)\n",
    "param = grid_search.best_params_\n",
    "score = grid_search.best_score_\n",
    "print(param)\n",
    "print(score)"
   ]
  },
  {
   "cell_type": "markdown",
   "id": "34168891",
   "metadata": {},
   "source": [
    "## Random Forest"
   ]
  },
  {
   "cell_type": "code",
   "execution_count": 34,
   "id": "507811ee",
   "metadata": {
    "ExecuteTime": {
     "end_time": "2021-10-10T18:38:00.004759Z",
     "start_time": "2021-10-10T18:37:59.996747Z"
    }
   },
   "outputs": [],
   "source": [
    "parameters = {'criterion': ['gini','entropy'],\n",
    "              'n_estimators': [10, 40, 100, 150],\n",
    "              'min_samples_split': [2, 5, 10],\n",
    "              'min_samples_leaf': [1, 5, 10]}"
   ]
  },
  {
   "cell_type": "code",
   "execution_count": 35,
   "id": "296ffc91",
   "metadata": {
    "ExecuteTime": {
     "end_time": "2021-10-10T18:38:55.236172Z",
     "start_time": "2021-10-10T18:38:01.326029Z"
    }
   },
   "outputs": [
    {
     "name": "stdout",
     "output_type": "stream",
     "text": [
      "{'criterion': 'entropy', 'min_samples_leaf': 1, 'min_samples_split': 2, 'n_estimators': 150}\n",
      "0.9870000000000001\n"
     ]
    }
   ],
   "source": [
    "grid_search = GridSearchCV(estimator=RandomForestClassifier(), param_grid=parameters)\n",
    "grid_search.fit(x_credit, y_credit)\n",
    "param = grid_search.best_params_\n",
    "score = grid_search.best_score_\n",
    "print(param)\n",
    "print(score)"
   ]
  },
  {
   "cell_type": "markdown",
   "id": "b9a81428",
   "metadata": {},
   "source": [
    "## kNN"
   ]
  },
  {
   "cell_type": "code",
   "execution_count": 36,
   "id": "64d960c6",
   "metadata": {
    "ExecuteTime": {
     "end_time": "2021-10-10T18:39:19.626901Z",
     "start_time": "2021-10-10T18:39:19.613908Z"
    }
   },
   "outputs": [],
   "source": [
    "parameters = {'n_neighbors': [3, 5, 10, 20],\n",
    "              'p': [1, 2]}"
   ]
  },
  {
   "cell_type": "code",
   "execution_count": 37,
   "id": "440623d8",
   "metadata": {
    "ExecuteTime": {
     "end_time": "2021-10-10T18:39:22.393645Z",
     "start_time": "2021-10-10T18:39:21.556617Z"
    }
   },
   "outputs": [
    {
     "name": "stdout",
     "output_type": "stream",
     "text": [
      "{'n_neighbors': 20, 'p': 1}\n",
      "0.9800000000000001\n"
     ]
    }
   ],
   "source": [
    "grid_search = GridSearchCV(estimator=KNeighborsClassifier(), param_grid=parameters)\n",
    "grid_search.fit(x_credit, y_credit)\n",
    "param = grid_search.best_params_\n",
    "score = grid_search.best_score_\n",
    "print(param)\n",
    "print(score)"
   ]
  },
  {
   "cell_type": "markdown",
   "id": "06a45857",
   "metadata": {},
   "source": [
    "## Logistic Regression"
   ]
  },
  {
   "cell_type": "code",
   "execution_count": 38,
   "id": "c2a5d696",
   "metadata": {
    "ExecuteTime": {
     "end_time": "2021-10-10T18:40:19.834962Z",
     "start_time": "2021-10-10T18:40:19.828960Z"
    }
   },
   "outputs": [],
   "source": [
    "parameters = {'tol': [0.0001, 0.00001, 0.000001],\n",
    "              'C': [1.0, 1.5, 2.0],\n",
    "              'solver': ['lbfgs', 'liblinear', 'sag', 'sag']}"
   ]
  },
  {
   "cell_type": "code",
   "execution_count": 39,
   "id": "b0cd7170",
   "metadata": {
    "ExecuteTime": {
     "end_time": "2021-10-10T18:40:22.887433Z",
     "start_time": "2021-10-10T18:40:21.565145Z"
    }
   },
   "outputs": [
    {
     "name": "stdout",
     "output_type": "stream",
     "text": [
      "{'C': 1.0, 'solver': 'lbfgs', 'tol': 0.0001}\n",
      "0.9484999999999999\n"
     ]
    }
   ],
   "source": [
    "grid_search = GridSearchCV(estimator=LogisticRegression(), param_grid=parameters)\n",
    "grid_search.fit(x_credit, y_credit)\n",
    "param = grid_search.best_params_\n",
    "score = grid_search.best_score_\n",
    "print(param)\n",
    "print(score)"
   ]
  },
  {
   "cell_type": "markdown",
   "id": "b66a7b5e",
   "metadata": {},
   "source": [
    "## SVM"
   ]
  },
  {
   "cell_type": "code",
   "execution_count": 40,
   "id": "60667911",
   "metadata": {
    "ExecuteTime": {
     "end_time": "2021-10-10T18:40:49.089160Z",
     "start_time": "2021-10-10T18:40:49.071155Z"
    }
   },
   "outputs": [],
   "source": [
    "parameters = {'C': [1.0, 1.5, 2.0],\n",
    "              'kernel': ['rbf', 'linear','poly', 'sigmoid'],\n",
    "              'tol': [0.0001, 0.00001, 0.000001]}"
   ]
  },
  {
   "cell_type": "code",
   "execution_count": 41,
   "id": "3f198ceb",
   "metadata": {
    "ExecuteTime": {
     "end_time": "2021-10-10T18:41:22.362066Z",
     "start_time": "2021-10-10T18:41:16.922367Z"
    }
   },
   "outputs": [
    {
     "name": "stdout",
     "output_type": "stream",
     "text": [
      "{'C': 1.5, 'kernel': 'rbf', 'tol': 0.0001}\n",
      "0.9829999999999999\n"
     ]
    }
   ],
   "source": [
    "grid_search = GridSearchCV(estimator=SVC(), param_grid=parameters)\n",
    "grid_search.fit(x_credit, y_credit)\n",
    "param = grid_search.best_params_\n",
    "score = grid_search.best_score_\n",
    "print(param)\n",
    "print(score)"
   ]
  },
  {
   "cell_type": "markdown",
   "id": "e4eaa5f3",
   "metadata": {},
   "source": [
    "## Neural Network"
   ]
  },
  {
   "cell_type": "code",
   "execution_count": 44,
   "id": "0786a7a4",
   "metadata": {
    "ExecuteTime": {
     "end_time": "2021-10-10T18:47:36.246713Z",
     "start_time": "2021-10-10T18:47:36.238711Z"
    }
   },
   "outputs": [],
   "source": [
    "#parameters = {'activation': ['relu', 'logistic', 'tahn'],\n",
    "#              'solver': ['adam', 'sgd'],\n",
    "#              'batch_size': [10, 56]}"
   ]
  },
  {
   "cell_type": "code",
   "execution_count": 45,
   "id": "78fbd9b8",
   "metadata": {
    "ExecuteTime": {
     "end_time": "2021-10-10T18:47:37.475621Z",
     "start_time": "2021-10-10T18:47:37.463619Z"
    }
   },
   "outputs": [],
   "source": [
    "#grid_search = GridSearchCV(estimator=MLPClassifier(), param_grid=parameters)\n",
    "#grid_search.fit(x_credit, y_credit)\n",
    "#param = grid_search.best_params_\n",
    "#score = grid_search.best_score_"
   ]
  },
  {
   "cell_type": "code",
   "execution_count": 46,
   "id": "1bc0cc3b",
   "metadata": {
    "ExecuteTime": {
     "end_time": "2021-10-10T18:47:38.918093Z",
     "start_time": "2021-10-10T18:47:38.910082Z"
    }
   },
   "outputs": [],
   "source": [
    "#print(param)\n",
    "#print(score)"
   ]
  }
 ],
 "metadata": {
  "kernelspec": {
   "display_name": "Python 3",
   "language": "python",
   "name": "python3"
  },
  "language_info": {
   "codemirror_mode": {
    "name": "ipython",
    "version": 3
   },
   "file_extension": ".py",
   "mimetype": "text/x-python",
   "name": "python",
   "nbconvert_exporter": "python",
   "pygments_lexer": "ipython3",
   "version": "3.8.8"
  },
  "varInspector": {
   "cols": {
    "lenName": 16,
    "lenType": 16,
    "lenVar": 40
   },
   "kernels_config": {
    "python": {
     "delete_cmd_postfix": "",
     "delete_cmd_prefix": "del ",
     "library": "var_list.py",
     "varRefreshCmd": "print(var_dic_list())"
    },
    "r": {
     "delete_cmd_postfix": ") ",
     "delete_cmd_prefix": "rm(",
     "library": "var_list.r",
     "varRefreshCmd": "cat(var_dic_list()) "
    }
   },
   "types_to_exclude": [
    "module",
    "function",
    "builtin_function_or_method",
    "instance",
    "_Feature"
   ],
   "window_display": false
  }
 },
 "nbformat": 4,
 "nbformat_minor": 5
}
