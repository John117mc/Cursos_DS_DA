{
 "cells": [
  {
   "cell_type": "markdown",
   "id": "9811a7a2",
   "metadata": {},
   "source": [
    "### Undersampling (subamostragem)\n",
    "\n",
    "* Seleciona uma amostra da classe que tem mais elementos, de 5000 vai para 500 para ficar igual aos 500 da outra classe\n",
    "* Perda de informação se for uma base dados grande\n",
    "---\n",
    "\n",
    "### Oversampling (sobreamostragem)\n",
    "\n",
    "* A classe menor faz uma 'copia' da classe maior, registro similares"
   ]
  },
  {
   "cell_type": "markdown",
   "id": "5fb8e4c7",
   "metadata": {},
   "source": [
    "## Imports"
   ]
  },
  {
   "cell_type": "code",
   "execution_count": 17,
   "id": "ce4a8798",
   "metadata": {
    "ExecuteTime": {
     "end_time": "2021-11-03T13:52:11.139417Z",
     "start_time": "2021-11-03T13:52:11.122415Z"
    }
   },
   "outputs": [],
   "source": [
    "import pandas as pd\n",
    "import seaborn as sns\n",
    "import numpy as np\n",
    "\n",
    "from sklearn.preprocessing import StandardScaler, LabelEncoder, OneHotEncoder\n",
    "from sklearn.compose import ColumnTransformer\n",
    "\n",
    "from sklearn.model_selection import train_test_split\n",
    "from sklearn.ensemble import RandomForestClassifier\n",
    "from sklearn.metrics import accuracy_score, classification_report\n",
    "\n",
    "from imblearn.under_sampling import TomekLinks\n",
    "from imblearn.over_sampling import SMOTE"
   ]
  },
  {
   "cell_type": "markdown",
   "id": "45071021",
   "metadata": {},
   "source": [
    "## Preprocessing"
   ]
  },
  {
   "cell_type": "code",
   "execution_count": 3,
   "id": "daefec71",
   "metadata": {
    "ExecuteTime": {
     "end_time": "2021-11-03T13:48:24.654776Z",
     "start_time": "2021-11-03T13:48:24.128101Z"
    }
   },
   "outputs": [
    {
     "data": {
      "text/html": [
       "<div>\n",
       "<style scoped>\n",
       "    .dataframe tbody tr th:only-of-type {\n",
       "        vertical-align: middle;\n",
       "    }\n",
       "\n",
       "    .dataframe tbody tr th {\n",
       "        vertical-align: top;\n",
       "    }\n",
       "\n",
       "    .dataframe thead th {\n",
       "        text-align: right;\n",
       "    }\n",
       "</style>\n",
       "<table border=\"1\" class=\"dataframe\">\n",
       "  <thead>\n",
       "    <tr style=\"text-align: right;\">\n",
       "      <th></th>\n",
       "      <th>age</th>\n",
       "      <th>workclass</th>\n",
       "      <th>final-weight</th>\n",
       "      <th>education</th>\n",
       "      <th>education-num</th>\n",
       "      <th>marital-status</th>\n",
       "      <th>occupation</th>\n",
       "      <th>relationship</th>\n",
       "      <th>race</th>\n",
       "      <th>sex</th>\n",
       "      <th>capital-gain</th>\n",
       "      <th>capital-loos</th>\n",
       "      <th>hour-per-week</th>\n",
       "      <th>native-country</th>\n",
       "      <th>income</th>\n",
       "    </tr>\n",
       "  </thead>\n",
       "  <tbody>\n",
       "    <tr>\n",
       "      <th>0</th>\n",
       "      <td>39</td>\n",
       "      <td>State-gov</td>\n",
       "      <td>77516</td>\n",
       "      <td>Bachelors</td>\n",
       "      <td>13</td>\n",
       "      <td>Never-married</td>\n",
       "      <td>Adm-clerical</td>\n",
       "      <td>Not-in-family</td>\n",
       "      <td>White</td>\n",
       "      <td>Male</td>\n",
       "      <td>2174</td>\n",
       "      <td>0</td>\n",
       "      <td>40</td>\n",
       "      <td>United-States</td>\n",
       "      <td>&lt;=50K</td>\n",
       "    </tr>\n",
       "    <tr>\n",
       "      <th>1</th>\n",
       "      <td>50</td>\n",
       "      <td>Self-emp-not-inc</td>\n",
       "      <td>83311</td>\n",
       "      <td>Bachelors</td>\n",
       "      <td>13</td>\n",
       "      <td>Married-civ-spouse</td>\n",
       "      <td>Exec-managerial</td>\n",
       "      <td>Husband</td>\n",
       "      <td>White</td>\n",
       "      <td>Male</td>\n",
       "      <td>0</td>\n",
       "      <td>0</td>\n",
       "      <td>13</td>\n",
       "      <td>United-States</td>\n",
       "      <td>&lt;=50K</td>\n",
       "    </tr>\n",
       "    <tr>\n",
       "      <th>2</th>\n",
       "      <td>38</td>\n",
       "      <td>Private</td>\n",
       "      <td>215646</td>\n",
       "      <td>HS-grad</td>\n",
       "      <td>9</td>\n",
       "      <td>Divorced</td>\n",
       "      <td>Handlers-cleaners</td>\n",
       "      <td>Not-in-family</td>\n",
       "      <td>White</td>\n",
       "      <td>Male</td>\n",
       "      <td>0</td>\n",
       "      <td>0</td>\n",
       "      <td>40</td>\n",
       "      <td>United-States</td>\n",
       "      <td>&lt;=50K</td>\n",
       "    </tr>\n",
       "    <tr>\n",
       "      <th>3</th>\n",
       "      <td>53</td>\n",
       "      <td>Private</td>\n",
       "      <td>234721</td>\n",
       "      <td>11th</td>\n",
       "      <td>7</td>\n",
       "      <td>Married-civ-spouse</td>\n",
       "      <td>Handlers-cleaners</td>\n",
       "      <td>Husband</td>\n",
       "      <td>Black</td>\n",
       "      <td>Male</td>\n",
       "      <td>0</td>\n",
       "      <td>0</td>\n",
       "      <td>40</td>\n",
       "      <td>United-States</td>\n",
       "      <td>&lt;=50K</td>\n",
       "    </tr>\n",
       "    <tr>\n",
       "      <th>4</th>\n",
       "      <td>28</td>\n",
       "      <td>Private</td>\n",
       "      <td>338409</td>\n",
       "      <td>Bachelors</td>\n",
       "      <td>13</td>\n",
       "      <td>Married-civ-spouse</td>\n",
       "      <td>Prof-specialty</td>\n",
       "      <td>Wife</td>\n",
       "      <td>Black</td>\n",
       "      <td>Female</td>\n",
       "      <td>0</td>\n",
       "      <td>0</td>\n",
       "      <td>40</td>\n",
       "      <td>Cuba</td>\n",
       "      <td>&lt;=50K</td>\n",
       "    </tr>\n",
       "    <tr>\n",
       "      <th>...</th>\n",
       "      <td>...</td>\n",
       "      <td>...</td>\n",
       "      <td>...</td>\n",
       "      <td>...</td>\n",
       "      <td>...</td>\n",
       "      <td>...</td>\n",
       "      <td>...</td>\n",
       "      <td>...</td>\n",
       "      <td>...</td>\n",
       "      <td>...</td>\n",
       "      <td>...</td>\n",
       "      <td>...</td>\n",
       "      <td>...</td>\n",
       "      <td>...</td>\n",
       "      <td>...</td>\n",
       "    </tr>\n",
       "    <tr>\n",
       "      <th>32556</th>\n",
       "      <td>27</td>\n",
       "      <td>Private</td>\n",
       "      <td>257302</td>\n",
       "      <td>Assoc-acdm</td>\n",
       "      <td>12</td>\n",
       "      <td>Married-civ-spouse</td>\n",
       "      <td>Tech-support</td>\n",
       "      <td>Wife</td>\n",
       "      <td>White</td>\n",
       "      <td>Female</td>\n",
       "      <td>0</td>\n",
       "      <td>0</td>\n",
       "      <td>38</td>\n",
       "      <td>United-States</td>\n",
       "      <td>&lt;=50K</td>\n",
       "    </tr>\n",
       "    <tr>\n",
       "      <th>32557</th>\n",
       "      <td>40</td>\n",
       "      <td>Private</td>\n",
       "      <td>154374</td>\n",
       "      <td>HS-grad</td>\n",
       "      <td>9</td>\n",
       "      <td>Married-civ-spouse</td>\n",
       "      <td>Machine-op-inspct</td>\n",
       "      <td>Husband</td>\n",
       "      <td>White</td>\n",
       "      <td>Male</td>\n",
       "      <td>0</td>\n",
       "      <td>0</td>\n",
       "      <td>40</td>\n",
       "      <td>United-States</td>\n",
       "      <td>&gt;50K</td>\n",
       "    </tr>\n",
       "    <tr>\n",
       "      <th>32558</th>\n",
       "      <td>58</td>\n",
       "      <td>Private</td>\n",
       "      <td>151910</td>\n",
       "      <td>HS-grad</td>\n",
       "      <td>9</td>\n",
       "      <td>Widowed</td>\n",
       "      <td>Adm-clerical</td>\n",
       "      <td>Unmarried</td>\n",
       "      <td>White</td>\n",
       "      <td>Female</td>\n",
       "      <td>0</td>\n",
       "      <td>0</td>\n",
       "      <td>40</td>\n",
       "      <td>United-States</td>\n",
       "      <td>&lt;=50K</td>\n",
       "    </tr>\n",
       "    <tr>\n",
       "      <th>32559</th>\n",
       "      <td>22</td>\n",
       "      <td>Private</td>\n",
       "      <td>201490</td>\n",
       "      <td>HS-grad</td>\n",
       "      <td>9</td>\n",
       "      <td>Never-married</td>\n",
       "      <td>Adm-clerical</td>\n",
       "      <td>Own-child</td>\n",
       "      <td>White</td>\n",
       "      <td>Male</td>\n",
       "      <td>0</td>\n",
       "      <td>0</td>\n",
       "      <td>20</td>\n",
       "      <td>United-States</td>\n",
       "      <td>&lt;=50K</td>\n",
       "    </tr>\n",
       "    <tr>\n",
       "      <th>32560</th>\n",
       "      <td>52</td>\n",
       "      <td>Self-emp-inc</td>\n",
       "      <td>287927</td>\n",
       "      <td>HS-grad</td>\n",
       "      <td>9</td>\n",
       "      <td>Married-civ-spouse</td>\n",
       "      <td>Exec-managerial</td>\n",
       "      <td>Wife</td>\n",
       "      <td>White</td>\n",
       "      <td>Female</td>\n",
       "      <td>15024</td>\n",
       "      <td>0</td>\n",
       "      <td>40</td>\n",
       "      <td>United-States</td>\n",
       "      <td>&gt;50K</td>\n",
       "    </tr>\n",
       "  </tbody>\n",
       "</table>\n",
       "<p>32561 rows × 15 columns</p>\n",
       "</div>"
      ],
      "text/plain": [
       "       age          workclass  final-weight    education  education-num  \\\n",
       "0       39          State-gov         77516    Bachelors             13   \n",
       "1       50   Self-emp-not-inc         83311    Bachelors             13   \n",
       "2       38            Private        215646      HS-grad              9   \n",
       "3       53            Private        234721         11th              7   \n",
       "4       28            Private        338409    Bachelors             13   \n",
       "...    ...                ...           ...          ...            ...   \n",
       "32556   27            Private        257302   Assoc-acdm             12   \n",
       "32557   40            Private        154374      HS-grad              9   \n",
       "32558   58            Private        151910      HS-grad              9   \n",
       "32559   22            Private        201490      HS-grad              9   \n",
       "32560   52       Self-emp-inc        287927      HS-grad              9   \n",
       "\n",
       "            marital-status          occupation    relationship    race  \\\n",
       "0            Never-married        Adm-clerical   Not-in-family   White   \n",
       "1       Married-civ-spouse     Exec-managerial         Husband   White   \n",
       "2                 Divorced   Handlers-cleaners   Not-in-family   White   \n",
       "3       Married-civ-spouse   Handlers-cleaners         Husband   Black   \n",
       "4       Married-civ-spouse      Prof-specialty            Wife   Black   \n",
       "...                    ...                 ...             ...     ...   \n",
       "32556   Married-civ-spouse        Tech-support            Wife   White   \n",
       "32557   Married-civ-spouse   Machine-op-inspct         Husband   White   \n",
       "32558              Widowed        Adm-clerical       Unmarried   White   \n",
       "32559        Never-married        Adm-clerical       Own-child   White   \n",
       "32560   Married-civ-spouse     Exec-managerial            Wife   White   \n",
       "\n",
       "           sex  capital-gain  capital-loos  hour-per-week  native-country  \\\n",
       "0         Male          2174             0             40   United-States   \n",
       "1         Male             0             0             13   United-States   \n",
       "2         Male             0             0             40   United-States   \n",
       "3         Male             0             0             40   United-States   \n",
       "4       Female             0             0             40            Cuba   \n",
       "...        ...           ...           ...            ...             ...   \n",
       "32556   Female             0             0             38   United-States   \n",
       "32557     Male             0             0             40   United-States   \n",
       "32558   Female             0             0             40   United-States   \n",
       "32559     Male             0             0             20   United-States   \n",
       "32560   Female         15024             0             40   United-States   \n",
       "\n",
       "       income  \n",
       "0       <=50K  \n",
       "1       <=50K  \n",
       "2       <=50K  \n",
       "3       <=50K  \n",
       "4       <=50K  \n",
       "...       ...  \n",
       "32556   <=50K  \n",
       "32557    >50K  \n",
       "32558   <=50K  \n",
       "32559   <=50K  \n",
       "32560    >50K  \n",
       "\n",
       "[32561 rows x 15 columns]"
      ]
     },
     "execution_count": 3,
     "metadata": {},
     "output_type": "execute_result"
    }
   ],
   "source": [
    "df_census = pd.read_csv('../data/census.csv')\n",
    "df_census"
   ]
  },
  {
   "cell_type": "code",
   "execution_count": 4,
   "id": "80a98899",
   "metadata": {
    "ExecuteTime": {
     "end_time": "2021-11-03T13:48:25.450930Z",
     "start_time": "2021-11-03T13:48:25.426881Z"
    }
   },
   "outputs": [
    {
     "data": {
      "text/plain": [
       "(array([' <=50K', ' >50K'], dtype=object), array([24720,  7841], dtype=int64))"
      ]
     },
     "execution_count": 4,
     "metadata": {},
     "output_type": "execute_result"
    }
   ],
   "source": [
    "np.unique(df_census['income'], return_counts=True)"
   ]
  },
  {
   "cell_type": "code",
   "execution_count": 5,
   "id": "871f0d1a",
   "metadata": {
    "ExecuteTime": {
     "end_time": "2021-11-03T13:48:26.884544Z",
     "start_time": "2021-11-03T13:48:25.988818Z"
    }
   },
   "outputs": [
    {
     "data": {
      "image/png": "[encoded data removed]",
      "text/plain": [
       "<Figure size 432x288 with 1 Axes>"
      ]
     },
     "metadata": {
      "needs_background": "light"
     },
     "output_type": "display_data"
    }
   ],
   "source": [
    "sns.countplot(x= df_census['income'], palette='viridis');"
   ]
  },
  {
   "cell_type": "code",
   "execution_count": 6,
   "id": "f61fe3e4",
   "metadata": {
    "ExecuteTime": {
     "end_time": "2021-11-03T13:48:27.951747Z",
     "start_time": "2021-11-03T13:48:27.924717Z"
    }
   },
   "outputs": [
    {
     "data": {
      "text/plain": [
       "array([[39, ' State-gov', 77516, ..., 0, 40, ' United-States'],\n",
       "       [50, ' Self-emp-not-inc', 83311, ..., 0, 13, ' United-States'],\n",
       "       [38, ' Private', 215646, ..., 0, 40, ' United-States'],\n",
       "       ...,\n",
       "       [58, ' Private', 151910, ..., 0, 40, ' United-States'],\n",
       "       [22, ' Private', 201490, ..., 0, 20, ' United-States'],\n",
       "       [52, ' Self-emp-inc', 287927, ..., 0, 40, ' United-States']],\n",
       "      dtype=object)"
      ]
     },
     "execution_count": 6,
     "metadata": {},
     "output_type": "execute_result"
    }
   ],
   "source": [
    "X_census = df_census.iloc[:, 0:14].values\n",
    "X_census"
   ]
  },
  {
   "cell_type": "code",
   "execution_count": 7,
   "id": "8cd92209",
   "metadata": {
    "ExecuteTime": {
     "end_time": "2021-11-03T13:48:28.674970Z",
     "start_time": "2021-11-03T13:48:28.660959Z"
    }
   },
   "outputs": [
    {
     "data": {
      "text/plain": [
       "array([' <=50K', ' <=50K', ' <=50K', ..., ' <=50K', ' <=50K', ' >50K'],\n",
       "      dtype=object)"
      ]
     },
     "execution_count": 7,
     "metadata": {},
     "output_type": "execute_result"
    }
   ],
   "source": [
    "y_census = df_census.iloc[:, 14].values\n",
    "y_census"
   ]
  },
  {
   "cell_type": "markdown",
   "id": "013113d8",
   "metadata": {},
   "source": [
    "### LabelEncoder"
   ]
  },
  {
   "cell_type": "code",
   "execution_count": 8,
   "id": "468ee99f",
   "metadata": {
    "ExecuteTime": {
     "end_time": "2021-11-03T13:48:30.301341Z",
     "start_time": "2021-11-03T13:48:30.292330Z"
    }
   },
   "outputs": [],
   "source": [
    "label_encoder_workclass = LabelEncoder()\n",
    "label_encoder_education = LabelEncoder()\n",
    "label_encoder_marital = LabelEncoder()\n",
    "label_encoder_occupation = LabelEncoder()\n",
    "label_encoder_relationship = LabelEncoder()\n",
    "label_encoder_race = LabelEncoder()\n",
    "label_encoder_sex = LabelEncoder()\n",
    "label_encoder_country = LabelEncoder()"
   ]
  },
  {
   "cell_type": "code",
   "execution_count": 9,
   "id": "72c78b5c",
   "metadata": {
    "ExecuteTime": {
     "end_time": "2021-11-03T13:48:30.846513Z",
     "start_time": "2021-11-03T13:48:30.781349Z"
    }
   },
   "outputs": [],
   "source": [
    "X_census[:, 1] = label_encoder_workclass.fit_transform(X_census[:,1])\n",
    "X_census[:, 3] = label_encoder_education.fit_transform(X_census[:,3])\n",
    "X_census[:, 5] = label_encoder_marital.fit_transform(X_census[:,5])\n",
    "X_census[:, 6] = label_encoder_occupation.fit_transform(X_census[:,6])\n",
    "X_census[:, 7] = label_encoder_relationship.fit_transform(X_census[:,7])\n",
    "X_census[:, 8] = label_encoder_race.fit_transform(X_census[:,8])\n",
    "X_census[:, 9] = label_encoder_sex.fit_transform(X_census[:,9])\n",
    "X_census[:, 13] = label_encoder_country.fit_transform(X_census[:,13])"
   ]
  },
  {
   "cell_type": "code",
   "execution_count": 37,
   "id": "f9e72ada",
   "metadata": {},
   "outputs": [
    {
     "data": {
      "text/plain": [
       "(32561, 14)"
      ]
     },
     "execution_count": 37,
     "metadata": {},
     "output_type": "execute_result"
    }
   ],
   "source": [
    "X_census.shape"
   ]
  },
  {
   "cell_type": "markdown",
   "id": "cf96b88c",
   "metadata": {},
   "source": [
    "# UnderSampling\n",
    "\n",
    "* 84.70% original\n",
    "* 86.49% majority\n",
    "* 89.62% all"
   ]
  },
  {
   "cell_type": "code",
   "execution_count": 19,
   "id": "d98fcc4f",
   "metadata": {
    "ExecuteTime": {
     "end_time": "2021-11-03T13:52:32.150711Z",
     "start_time": "2021-11-03T13:52:31.349324Z"
    }
   },
   "outputs": [],
   "source": [
    "tl = TomekLinks(sampling_strategy= 'all')\n",
    "X_under, y_under = tl.fit_resample(X_census, y_census)"
   ]
  },
  {
   "cell_type": "code",
   "execution_count": 20,
   "id": "6a0cdf40",
   "metadata": {
    "ExecuteTime": {
     "end_time": "2021-11-03T13:52:32.230724Z",
     "start_time": "2021-11-03T13:52:32.216704Z"
    }
   },
   "outputs": [
    {
     "data": {
      "text/plain": [
       "((27759, 14), (27759,))"
      ]
     },
     "execution_count": 20,
     "metadata": {},
     "output_type": "execute_result"
    }
   ],
   "source": [
    "X_under.shape, y_under.shape"
   ]
  },
  {
   "cell_type": "code",
   "execution_count": 21,
   "id": "4b2506da",
   "metadata": {
    "ExecuteTime": {
     "end_time": "2021-11-03T13:52:32.404923Z",
     "start_time": "2021-11-03T13:52:32.295706Z"
    }
   },
   "outputs": [
    {
     "data": {
      "text/plain": [
       "(array([' <=50K', ' >50K'], dtype=object), array([24720,  7841], dtype=int64))"
      ]
     },
     "execution_count": 21,
     "metadata": {},
     "output_type": "execute_result"
    }
   ],
   "source": [
    "np.unique(y_census, return_counts=True)"
   ]
  },
  {
   "cell_type": "code",
   "execution_count": 22,
   "id": "6f85a218",
   "metadata": {
    "ExecuteTime": {
     "end_time": "2021-11-03T13:52:32.563113Z",
     "start_time": "2021-11-03T13:52:32.525042Z"
    }
   },
   "outputs": [
    {
     "data": {
      "text/plain": [
       "(array([' <=50K', ' >50K'], dtype=object), array([22319,  5440], dtype=int64))"
      ]
     },
     "execution_count": 22,
     "metadata": {},
     "output_type": "execute_result"
    }
   ],
   "source": [
    "np.unique(y_under, return_counts=True)"
   ]
  },
  {
   "cell_type": "markdown",
   "id": "3aea00fd",
   "metadata": {},
   "source": [
    "### OneHotEncoder"
   ]
  },
  {
   "cell_type": "code",
   "execution_count": 23,
   "id": "c8860825",
   "metadata": {
    "ExecuteTime": {
     "end_time": "2021-11-03T13:52:33.438734Z",
     "start_time": "2021-11-03T13:52:33.227826Z"
    }
   },
   "outputs": [],
   "source": [
    "onehotencoder_census = ColumnTransformer(transformers=[('OneHot',OneHotEncoder(),[1,3,5,6,7,8,9,13])], remainder='passthrough')\n",
    "X_under = onehotencoder_census.fit_transform(X_under).toarray()"
   ]
  },
  {
   "cell_type": "code",
   "execution_count": 24,
   "id": "fc69ed46",
   "metadata": {
    "ExecuteTime": {
     "end_time": "2021-11-03T13:52:33.580659Z",
     "start_time": "2021-11-03T13:52:33.521309Z"
    }
   },
   "outputs": [
    {
     "data": {
      "text/plain": [
       "(27759, 108)"
      ]
     },
     "execution_count": 24,
     "metadata": {},
     "output_type": "execute_result"
    }
   ],
   "source": [
    "X_under.shape"
   ]
  },
  {
   "cell_type": "markdown",
   "id": "b1466a0f",
   "metadata": {},
   "source": [
    "### StardardScaler"
   ]
  },
  {
   "cell_type": "code",
   "execution_count": 25,
   "id": "4cce9e06",
   "metadata": {
    "ExecuteTime": {
     "end_time": "2021-11-03T13:52:34.578994Z",
     "start_time": "2021-11-03T13:52:34.492993Z"
    }
   },
   "outputs": [],
   "source": [
    "scaler_census = StandardScaler()\n",
    "X_under = scaler_census.fit_transform(X_under)"
   ]
  },
  {
   "cell_type": "code",
   "execution_count": 26,
   "id": "7159125a",
   "metadata": {
    "ExecuteTime": {
     "end_time": "2021-11-03T13:52:35.015568Z",
     "start_time": "2021-11-03T13:52:35.005558Z"
    }
   },
   "outputs": [
    {
     "data": {
      "text/plain": [
       "(array([[-0.25725007, -0.16595257, -0.25867975, ...,  0.11906398,\n",
       "         -0.20589059, -0.00197875],\n",
       "        [-0.25725007, -0.16595257, -0.25867975, ..., -0.1534586 ,\n",
       "         -0.20589059, -0.00197875],\n",
       "        [-0.25725007, -0.16595257, -0.25867975, ..., -0.1534586 ,\n",
       "         -0.20589059, -0.00197875],\n",
       "        ...,\n",
       "        [-0.25725007, -0.16595257, -0.25867975, ..., -0.1534586 ,\n",
       "         -0.20589059, -0.00197875],\n",
       "        [-0.25725007, -0.16595257, -0.25867975, ..., -0.1534586 ,\n",
       "         -0.20589059, -1.56465388],\n",
       "        [-0.25725007, -0.16595257, -0.25867975, ...,  1.72988053,\n",
       "         -0.20589059, -0.00197875]]),\n",
       " (27759, 108))"
      ]
     },
     "execution_count": 26,
     "metadata": {},
     "output_type": "execute_result"
    }
   ],
   "source": [
    "X_under, X_under.shape"
   ]
  },
  {
   "cell_type": "markdown",
   "id": "786926f8",
   "metadata": {},
   "source": [
    "### Training"
   ]
  },
  {
   "cell_type": "code",
   "execution_count": 27,
   "id": "eb99dd10",
   "metadata": {
    "ExecuteTime": {
     "end_time": "2021-11-03T13:52:36.464306Z",
     "start_time": "2021-11-03T13:52:36.436828Z"
    }
   },
   "outputs": [],
   "source": [
    "x_train_under, x_test_under, y_train_under, y_test_under = train_test_split(X_under, y_under, test_size=0.15, random_state= 0)"
   ]
  },
  {
   "cell_type": "code",
   "execution_count": 28,
   "id": "120fe0ea",
   "metadata": {
    "ExecuteTime": {
     "end_time": "2021-11-03T13:52:36.934875Z",
     "start_time": "2021-11-03T13:52:36.917864Z"
    }
   },
   "outputs": [
    {
     "data": {
      "text/plain": [
       "((23595, 108), (4164, 108))"
      ]
     },
     "execution_count": 28,
     "metadata": {},
     "output_type": "execute_result"
    }
   ],
   "source": [
    "x_train_under.shape, x_test_under.shape"
   ]
  },
  {
   "cell_type": "code",
   "execution_count": 29,
   "id": "9ac8c219",
   "metadata": {
    "ExecuteTime": {
     "end_time": "2021-11-03T13:52:41.393805Z",
     "start_time": "2021-11-03T13:52:37.389785Z"
    }
   },
   "outputs": [
    {
     "data": {
      "text/plain": [
       "RandomForestClassifier(criterion='entropy', min_samples_split=5)"
      ]
     },
     "execution_count": 29,
     "metadata": {},
     "output_type": "execute_result"
    }
   ],
   "source": [
    "model = RandomForestClassifier(criterion='entropy', min_samples_leaf= 1, min_samples_split= 5, n_estimators= 100)\n",
    "model.fit(x_train_under, y_train_under)"
   ]
  },
  {
   "cell_type": "code",
   "execution_count": 30,
   "id": "639c3390",
   "metadata": {
    "ExecuteTime": {
     "end_time": "2021-11-03T13:52:41.582805Z",
     "start_time": "2021-11-03T13:52:41.459798Z"
    }
   },
   "outputs": [
    {
     "name": "stdout",
     "output_type": "stream",
     "text": [
      "0.8984149855907781\n"
     ]
    }
   ],
   "source": [
    "pred = model.predict(x_test_under)\n",
    "print(accuracy_score(y_test_under, pred))"
   ]
  },
  {
   "cell_type": "code",
   "execution_count": 31,
   "id": "7707484b",
   "metadata": {
    "ExecuteTime": {
     "end_time": "2021-11-03T13:52:41.755787Z",
     "start_time": "2021-11-03T13:52:41.645792Z"
    }
   },
   "outputs": [
    {
     "name": "stdout",
     "output_type": "stream",
     "text": [
      "              precision    recall  f1-score   support\n",
      "\n",
      "       <=50K       0.91      0.96      0.94      3327\n",
      "        >50K       0.82      0.64      0.72       837\n",
      "\n",
      "    accuracy                           0.90      4164\n",
      "   macro avg       0.87      0.80      0.83      4164\n",
      "weighted avg       0.89      0.90      0.89      4164\n",
      "\n"
     ]
    }
   ],
   "source": [
    "print(classification_report(y_test_under, pred))"
   ]
  },
  {
   "cell_type": "markdown",
   "id": "7636c785",
   "metadata": {},
   "source": [
    "# Oversampling\n",
    "\n",
    "* 84.70% original\n",
    "* 91% oversampling"
   ]
  },
  {
   "cell_type": "code",
   "execution_count": 10,
   "id": "1f028251",
   "metadata": {
    "ExecuteTime": {
     "end_time": "2021-11-03T13:48:37.617764Z",
     "start_time": "2021-11-03T13:48:37.342609Z"
    }
   },
   "outputs": [],
   "source": [
    "smote = SMOTE(sampling_strategy= 'minority')\n",
    "X_over, y_over = smote.fit_resample(X_census, y_census)"
   ]
  },
  {
   "cell_type": "code",
   "execution_count": 11,
   "id": "ae9276b5",
   "metadata": {
    "ExecuteTime": {
     "end_time": "2021-11-03T13:48:38.071696Z",
     "start_time": "2021-11-03T13:48:38.053698Z"
    }
   },
   "outputs": [
    {
     "data": {
      "text/plain": [
       "(49440, 14)"
      ]
     },
     "execution_count": 11,
     "metadata": {},
     "output_type": "execute_result"
    }
   ],
   "source": [
    "X_over.shape"
   ]
  },
  {
   "cell_type": "code",
   "execution_count": 12,
   "id": "f79c8aab",
   "metadata": {
    "ExecuteTime": {
     "end_time": "2021-11-03T13:48:38.449453Z",
     "start_time": "2021-11-03T13:48:38.421448Z"
    }
   },
   "outputs": [
    {
     "data": {
      "text/plain": [
       "(array([' <=50K', ' >50K'], dtype=object), array([24720,  7841], dtype=int64))"
      ]
     },
     "execution_count": 12,
     "metadata": {},
     "output_type": "execute_result"
    }
   ],
   "source": [
    "np.unique(y_census, return_counts=True)"
   ]
  },
  {
   "cell_type": "code",
   "execution_count": 13,
   "id": "c3eb861c",
   "metadata": {
    "ExecuteTime": {
     "end_time": "2021-11-03T13:48:38.997376Z",
     "start_time": "2021-11-03T13:48:38.966392Z"
    }
   },
   "outputs": [
    {
     "data": {
      "text/plain": [
       "(array([' <=50K', ' >50K'], dtype=object), array([24720, 24720], dtype=int64))"
      ]
     },
     "execution_count": 13,
     "metadata": {},
     "output_type": "execute_result"
    }
   ],
   "source": [
    "np.unique(y_over, return_counts=True)"
   ]
  },
  {
   "cell_type": "code",
   "execution_count": null,
   "id": "e4f72196",
   "metadata": {},
   "outputs": [],
   "source": [
    "# PC Dead\n",
    "#onehotencoder_census = ColumnTransformer(transformers=[('OneHot',OneHotEncoder(),[1,3,5,6,7,8,9,13])], remainder='passthrough')\n",
    "#X_over = onehotencoder_census.fit_transform(X_over).toarray()"
   ]
  },
  {
   "cell_type": "code",
   "execution_count": 1,
   "id": "8d822dbc",
   "metadata": {
    "ExecuteTime": {
     "end_time": "2021-11-03T13:44:22.130912Z",
     "start_time": "2021-11-03T13:44:22.117900Z"
    }
   },
   "outputs": [],
   "source": [
    "# PC Dead\n",
    "#scaler_census = StandardScaler()\n",
    "#X_over = scaler_census.fit_transform(X_over)"
   ]
  },
  {
   "cell_type": "code",
   "execution_count": 14,
   "id": "e191844a",
   "metadata": {
    "ExecuteTime": {
     "end_time": "2021-11-03T13:51:44.255601Z",
     "start_time": "2021-11-03T13:51:44.233594Z"
    }
   },
   "outputs": [],
   "source": [
    "x_train_over, x_test_over, y_train_over, y_test_over = train_test_split(X_over, y_over, test_size=0.15, random_state= 0)"
   ]
  },
  {
   "cell_type": "code",
   "execution_count": 15,
   "id": "1997eca3",
   "metadata": {
    "ExecuteTime": {
     "end_time": "2021-11-03T13:51:56.944306Z",
     "start_time": "2021-11-03T13:51:49.241170Z"
    }
   },
   "outputs": [
    {
     "data": {
      "text/plain": [
       "RandomForestClassifier(criterion='entropy', min_samples_split=5)"
      ]
     },
     "execution_count": 15,
     "metadata": {},
     "output_type": "execute_result"
    }
   ],
   "source": [
    "model = RandomForestClassifier(criterion='entropy', min_samples_leaf= 1, min_samples_split= 5, n_estimators= 100)\n",
    "model.fit(x_train_over, y_train_over)"
   ]
  },
  {
   "cell_type": "code",
   "execution_count": 16,
   "id": "be931666",
   "metadata": {
    "ExecuteTime": {
     "end_time": "2021-11-03T13:51:59.999273Z",
     "start_time": "2021-11-03T13:51:59.809273Z"
    }
   },
   "outputs": [
    {
     "name": "stdout",
     "output_type": "stream",
     "text": [
      "0.9097896440129449\n"
     ]
    }
   ],
   "source": [
    "pred = model.predict(x_test_over)\n",
    "print(accuracy_score(y_test_over, pred))"
   ]
  },
  {
   "cell_type": "code",
   "execution_count": 18,
   "id": "1ba166b1",
   "metadata": {
    "ExecuteTime": {
     "end_time": "2021-11-03T13:52:14.524204Z",
     "start_time": "2021-11-03T13:52:14.226216Z"
    }
   },
   "outputs": [
    {
     "name": "stdout",
     "output_type": "stream",
     "text": [
      "              precision    recall  f1-score   support\n",
      "\n",
      "       <=50K       0.90      0.93      0.91      3722\n",
      "        >50K       0.92      0.89      0.91      3694\n",
      "\n",
      "    accuracy                           0.91      7416\n",
      "   macro avg       0.91      0.91      0.91      7416\n",
      "weighted avg       0.91      0.91      0.91      7416\n",
      "\n"
     ]
    }
   ],
   "source": [
    "print(classification_report(y_test_over, pred))"
   ]
  }
 ],
 "metadata": {
  "kernelspec": {
   "display_name": "Python 3 (ipykernel)",
   "language": "python",
   "name": "python3"
  },
  "language_info": {
   "codemirror_mode": {
    "name": "ipython",
    "version": 3
   },
   "file_extension": ".py",
   "mimetype": "text/x-python",
   "name": "python",
   "nbconvert_exporter": "python",
   "pygments_lexer": "ipython3",
   "version": "3.8.8"
  },
  "varInspector": {
   "cols": {
    "lenName": 16,
    "lenType": 16,
    "lenVar": 40
   },
   "kernels_config": {
    "python": {
     "delete_cmd_postfix": "",
     "delete_cmd_prefix": "del ",
     "library": "var_list.py",
     "varRefreshCmd": "print(var_dic_list())"
    },
    "r": {
     "delete_cmd_postfix": ") ",
     "delete_cmd_prefix": "rm(",
     "library": "var_list.r",
     "varRefreshCmd": "cat(var_dic_list()) "
    }
   },
   "types_to_exclude": [
    "module",
    "function",
    "builtin_function_or_method",
    "instance",
    "_Feature"
   ],
   "window_display": false
  }
 },
 "nbformat": 4,
 "nbformat_minor": 5
}
