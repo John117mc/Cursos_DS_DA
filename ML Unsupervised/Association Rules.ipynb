{
 "cells": [
  {
   "cell_type": "code",
   "execution_count": 59,
   "id": "41498b77",
   "metadata": {
    "ExecuteTime": {
     "end_time": "2021-10-19T16:52:52.775110Z",
     "start_time": "2021-10-19T16:52:52.761107Z"
    }
   },
   "outputs": [],
   "source": [
    "import pandas as pd\n",
    "\n",
    "from apyori import apriori"
   ]
  },
  {
   "cell_type": "markdown",
   "id": "37cf6fc9",
   "metadata": {},
   "source": [
    "## Market I"
   ]
  },
  {
   "cell_type": "code",
   "execution_count": 60,
   "id": "d8d8b33d",
   "metadata": {
    "ExecuteTime": {
     "end_time": "2021-10-19T16:52:53.075978Z",
     "start_time": "2021-10-19T16:52:53.063975Z"
    }
   },
   "outputs": [
    {
     "data": {
      "text/html": [
       "<div>\n",
       "<style scoped>\n",
       "    .dataframe tbody tr th:only-of-type {\n",
       "        vertical-align: middle;\n",
       "    }\n",
       "\n",
       "    .dataframe tbody tr th {\n",
       "        vertical-align: top;\n",
       "    }\n",
       "\n",
       "    .dataframe thead th {\n",
       "        text-align: right;\n",
       "    }\n",
       "</style>\n",
       "<table border=\"1\" class=\"dataframe\">\n",
       "  <thead>\n",
       "    <tr style=\"text-align: right;\">\n",
       "      <th></th>\n",
       "      <th>0</th>\n",
       "      <th>1</th>\n",
       "      <th>2</th>\n",
       "      <th>3</th>\n",
       "    </tr>\n",
       "  </thead>\n",
       "  <tbody>\n",
       "    <tr>\n",
       "      <th>0</th>\n",
       "      <td>leite</td>\n",
       "      <td>cerveja</td>\n",
       "      <td>pao</td>\n",
       "      <td>manteiga</td>\n",
       "    </tr>\n",
       "    <tr>\n",
       "      <th>1</th>\n",
       "      <td>cafe</td>\n",
       "      <td>pao</td>\n",
       "      <td>manteiga</td>\n",
       "      <td>NaN</td>\n",
       "    </tr>\n",
       "    <tr>\n",
       "      <th>2</th>\n",
       "      <td>cafe</td>\n",
       "      <td>pao</td>\n",
       "      <td>manteiga</td>\n",
       "      <td>NaN</td>\n",
       "    </tr>\n",
       "    <tr>\n",
       "      <th>3</th>\n",
       "      <td>leite</td>\n",
       "      <td>cafe</td>\n",
       "      <td>pao</td>\n",
       "      <td>manteiga</td>\n",
       "    </tr>\n",
       "    <tr>\n",
       "      <th>4</th>\n",
       "      <td>cerveja</td>\n",
       "      <td>NaN</td>\n",
       "      <td>NaN</td>\n",
       "      <td>NaN</td>\n",
       "    </tr>\n",
       "    <tr>\n",
       "      <th>5</th>\n",
       "      <td>manteiga</td>\n",
       "      <td>NaN</td>\n",
       "      <td>NaN</td>\n",
       "      <td>NaN</td>\n",
       "    </tr>\n",
       "    <tr>\n",
       "      <th>6</th>\n",
       "      <td>pao</td>\n",
       "      <td>NaN</td>\n",
       "      <td>NaN</td>\n",
       "      <td>NaN</td>\n",
       "    </tr>\n",
       "    <tr>\n",
       "      <th>7</th>\n",
       "      <td>feijao</td>\n",
       "      <td>NaN</td>\n",
       "      <td>NaN</td>\n",
       "      <td>NaN</td>\n",
       "    </tr>\n",
       "    <tr>\n",
       "      <th>8</th>\n",
       "      <td>arroz</td>\n",
       "      <td>feijao</td>\n",
       "      <td>NaN</td>\n",
       "      <td>NaN</td>\n",
       "    </tr>\n",
       "    <tr>\n",
       "      <th>9</th>\n",
       "      <td>arroz</td>\n",
       "      <td>NaN</td>\n",
       "      <td>NaN</td>\n",
       "      <td>NaN</td>\n",
       "    </tr>\n",
       "  </tbody>\n",
       "</table>\n",
       "</div>"
      ],
      "text/plain": [
       "          0        1         2         3\n",
       "0     leite  cerveja       pao  manteiga\n",
       "1      cafe      pao  manteiga       NaN\n",
       "2      cafe      pao  manteiga       NaN\n",
       "3     leite     cafe       pao  manteiga\n",
       "4   cerveja      NaN       NaN       NaN\n",
       "5  manteiga      NaN       NaN       NaN\n",
       "6       pao      NaN       NaN       NaN\n",
       "7    feijao      NaN       NaN       NaN\n",
       "8     arroz   feijao       NaN       NaN\n",
       "9     arroz      NaN       NaN       NaN"
      ]
     },
     "execution_count": 60,
     "metadata": {},
     "output_type": "execute_result"
    }
   ],
   "source": [
    "df_market = pd.read_csv('../data/mercado.csv', header=None)\n",
    "df_market"
   ]
  },
  {
   "cell_type": "code",
   "execution_count": 61,
   "id": "221b216f",
   "metadata": {
    "ExecuteTime": {
     "end_time": "2021-10-19T16:52:53.201183Z",
     "start_time": "2021-10-19T16:52:53.192169Z"
    }
   },
   "outputs": [],
   "source": [
    "transactions = []\n",
    "\n",
    "for i in range(df_market.shape[0]):\n",
    "    tr = []\n",
    "    for j in range (df_market.shape[1]):\n",
    "        if str(df_market.values[i, j]) != 'nan':\n",
    "            tr.append(df_market.values[i, j])\n",
    "    transactions.append(tr)"
   ]
  },
  {
   "cell_type": "code",
   "execution_count": 62,
   "id": "f75953ad",
   "metadata": {
    "ExecuteTime": {
     "end_time": "2021-10-19T16:52:53.326211Z",
     "start_time": "2021-10-19T16:52:53.312197Z"
    }
   },
   "outputs": [
    {
     "data": {
      "text/plain": [
       "[['leite', 'cerveja', 'pao', 'manteiga'],\n",
       " ['cafe', 'pao', 'manteiga'],\n",
       " ['cafe', 'pao', 'manteiga'],\n",
       " ['leite', 'cafe', 'pao', 'manteiga'],\n",
       " ['cerveja'],\n",
       " ['manteiga'],\n",
       " ['pao'],\n",
       " ['feijao'],\n",
       " ['arroz', 'feijao'],\n",
       " ['arroz']]"
      ]
     },
     "execution_count": 62,
     "metadata": {},
     "output_type": "execute_result"
    }
   ],
   "source": [
    "transactions"
   ]
  },
  {
   "cell_type": "code",
   "execution_count": 114,
   "id": "7cdd5416",
   "metadata": {
    "ExecuteTime": {
     "end_time": "2021-10-19T17:02:30.025648Z",
     "start_time": "2021-10-19T17:02:30.018647Z"
    }
   },
   "outputs": [
    {
     "data": {
      "text/plain": [
       "3"
      ]
     },
     "execution_count": 114,
     "metadata": {},
     "output_type": "execute_result"
    }
   ],
   "source": [
    "rules = apriori(transactions, min_support= 0.3, min_confidence= 0.8, min_lift= 2)\n",
    "results = list(rules)\n",
    "len(results)"
   ]
  },
  {
   "cell_type": "code",
   "execution_count": 115,
   "id": "cb9a0c53",
   "metadata": {
    "ExecuteTime": {
     "end_time": "2021-10-19T17:02:30.619033Z",
     "start_time": "2021-10-19T17:02:30.603029Z"
    }
   },
   "outputs": [],
   "source": [
    "A = []\n",
    "B = []\n",
    "support = []\n",
    "confidence = []\n",
    "lift = []\n",
    "\n",
    "for res in results:\n",
    "    s = res[1]\n",
    "    result_rules = res[2]\n",
    "    for res_rules in result_rules:\n",
    "        a = list(res_rules[0])\n",
    "        b = list(res_rules[1])\n",
    "        c = res_rules[2]\n",
    "        l = res_rules[3]\n",
    "        \n",
    "        A.append(a)\n",
    "        B.append(b)\n",
    "        support.append(s)\n",
    "        confidence.append(c)\n",
    "        lift.append(l)"
   ]
  },
  {
   "cell_type": "code",
   "execution_count": 116,
   "id": "cb82643c",
   "metadata": {
    "ExecuteTime": {
     "end_time": "2021-10-19T17:02:31.294133Z",
     "start_time": "2021-10-19T17:02:31.275138Z"
    }
   },
   "outputs": [
    {
     "data": {
      "text/html": [
       "<div>\n",
       "<style scoped>\n",
       "    .dataframe tbody tr th:only-of-type {\n",
       "        vertical-align: middle;\n",
       "    }\n",
       "\n",
       "    .dataframe tbody tr th {\n",
       "        vertical-align: top;\n",
       "    }\n",
       "\n",
       "    .dataframe thead th {\n",
       "        text-align: right;\n",
       "    }\n",
       "</style>\n",
       "<table border=\"1\" class=\"dataframe\">\n",
       "  <thead>\n",
       "    <tr style=\"text-align: right;\">\n",
       "      <th></th>\n",
       "      <th>A</th>\n",
       "      <th>B</th>\n",
       "      <th>Support</th>\n",
       "      <th>Confidence</th>\n",
       "      <th>Lift</th>\n",
       "    </tr>\n",
       "  </thead>\n",
       "  <tbody>\n",
       "    <tr>\n",
       "      <th>2</th>\n",
       "      <td>[cafe]</td>\n",
       "      <td>[pao, manteiga]</td>\n",
       "      <td>0.3</td>\n",
       "      <td>1.0</td>\n",
       "      <td>2.5</td>\n",
       "    </tr>\n",
       "    <tr>\n",
       "      <th>0</th>\n",
       "      <td>[cafe]</td>\n",
       "      <td>[manteiga]</td>\n",
       "      <td>0.3</td>\n",
       "      <td>1.0</td>\n",
       "      <td>2.0</td>\n",
       "    </tr>\n",
       "    <tr>\n",
       "      <th>1</th>\n",
       "      <td>[cafe]</td>\n",
       "      <td>[pao]</td>\n",
       "      <td>0.3</td>\n",
       "      <td>1.0</td>\n",
       "      <td>2.0</td>\n",
       "    </tr>\n",
       "    <tr>\n",
       "      <th>3</th>\n",
       "      <td>[cafe, manteiga]</td>\n",
       "      <td>[pao]</td>\n",
       "      <td>0.3</td>\n",
       "      <td>1.0</td>\n",
       "      <td>2.0</td>\n",
       "    </tr>\n",
       "    <tr>\n",
       "      <th>4</th>\n",
       "      <td>[pao, cafe]</td>\n",
       "      <td>[manteiga]</td>\n",
       "      <td>0.3</td>\n",
       "      <td>1.0</td>\n",
       "      <td>2.0</td>\n",
       "    </tr>\n",
       "  </tbody>\n",
       "</table>\n",
       "</div>"
      ],
      "text/plain": [
       "                  A                B  Support  Confidence  Lift\n",
       "2            [cafe]  [pao, manteiga]      0.3         1.0   2.5\n",
       "0            [cafe]       [manteiga]      0.3         1.0   2.0\n",
       "1            [cafe]            [pao]      0.3         1.0   2.0\n",
       "3  [cafe, manteiga]            [pao]      0.3         1.0   2.0\n",
       "4       [pao, cafe]       [manteiga]      0.3         1.0   2.0"
      ]
     },
     "execution_count": 116,
     "metadata": {},
     "output_type": "execute_result"
    }
   ],
   "source": [
    "rules_df = pd.DataFrame({'A': A, 'B': B, 'Support': support, 'Confidence': confidence, 'Lift': lift})\n",
    "rules_df.sort_values(by='Lift', ascending=False)"
   ]
  },
  {
   "cell_type": "markdown",
   "id": "d6a21681",
   "metadata": {},
   "source": [
    "## Market II"
   ]
  },
  {
   "cell_type": "code",
   "execution_count": 104,
   "id": "9b964c88",
   "metadata": {
    "ExecuteTime": {
     "end_time": "2021-10-19T17:01:46.135433Z",
     "start_time": "2021-10-19T17:01:46.086423Z"
    }
   },
   "outputs": [
    {
     "data": {
      "text/html": [
       "<div>\n",
       "<style scoped>\n",
       "    .dataframe tbody tr th:only-of-type {\n",
       "        vertical-align: middle;\n",
       "    }\n",
       "\n",
       "    .dataframe tbody tr th {\n",
       "        vertical-align: top;\n",
       "    }\n",
       "\n",
       "    .dataframe thead th {\n",
       "        text-align: right;\n",
       "    }\n",
       "</style>\n",
       "<table border=\"1\" class=\"dataframe\">\n",
       "  <thead>\n",
       "    <tr style=\"text-align: right;\">\n",
       "      <th></th>\n",
       "      <th>0</th>\n",
       "      <th>1</th>\n",
       "      <th>2</th>\n",
       "      <th>3</th>\n",
       "      <th>4</th>\n",
       "      <th>5</th>\n",
       "      <th>6</th>\n",
       "      <th>7</th>\n",
       "      <th>8</th>\n",
       "      <th>9</th>\n",
       "      <th>10</th>\n",
       "      <th>11</th>\n",
       "      <th>12</th>\n",
       "      <th>13</th>\n",
       "      <th>14</th>\n",
       "      <th>15</th>\n",
       "      <th>16</th>\n",
       "      <th>17</th>\n",
       "      <th>18</th>\n",
       "      <th>19</th>\n",
       "    </tr>\n",
       "  </thead>\n",
       "  <tbody>\n",
       "    <tr>\n",
       "      <th>0</th>\n",
       "      <td>shrimp</td>\n",
       "      <td>almonds</td>\n",
       "      <td>avocado</td>\n",
       "      <td>vegetables mix</td>\n",
       "      <td>green grapes</td>\n",
       "      <td>whole weat flour</td>\n",
       "      <td>yams</td>\n",
       "      <td>cottage cheese</td>\n",
       "      <td>energy drink</td>\n",
       "      <td>tomato juice</td>\n",
       "      <td>low fat yogurt</td>\n",
       "      <td>green tea</td>\n",
       "      <td>honey</td>\n",
       "      <td>salad</td>\n",
       "      <td>mineral water</td>\n",
       "      <td>salmon</td>\n",
       "      <td>antioxydant juice</td>\n",
       "      <td>frozen smoothie</td>\n",
       "      <td>spinach</td>\n",
       "      <td>olive oil</td>\n",
       "    </tr>\n",
       "    <tr>\n",
       "      <th>1</th>\n",
       "      <td>burgers</td>\n",
       "      <td>meatballs</td>\n",
       "      <td>eggs</td>\n",
       "      <td>NaN</td>\n",
       "      <td>NaN</td>\n",
       "      <td>NaN</td>\n",
       "      <td>NaN</td>\n",
       "      <td>NaN</td>\n",
       "      <td>NaN</td>\n",
       "      <td>NaN</td>\n",
       "      <td>NaN</td>\n",
       "      <td>NaN</td>\n",
       "      <td>NaN</td>\n",
       "      <td>NaN</td>\n",
       "      <td>NaN</td>\n",
       "      <td>NaN</td>\n",
       "      <td>NaN</td>\n",
       "      <td>NaN</td>\n",
       "      <td>NaN</td>\n",
       "      <td>NaN</td>\n",
       "    </tr>\n",
       "    <tr>\n",
       "      <th>2</th>\n",
       "      <td>chutney</td>\n",
       "      <td>NaN</td>\n",
       "      <td>NaN</td>\n",
       "      <td>NaN</td>\n",
       "      <td>NaN</td>\n",
       "      <td>NaN</td>\n",
       "      <td>NaN</td>\n",
       "      <td>NaN</td>\n",
       "      <td>NaN</td>\n",
       "      <td>NaN</td>\n",
       "      <td>NaN</td>\n",
       "      <td>NaN</td>\n",
       "      <td>NaN</td>\n",
       "      <td>NaN</td>\n",
       "      <td>NaN</td>\n",
       "      <td>NaN</td>\n",
       "      <td>NaN</td>\n",
       "      <td>NaN</td>\n",
       "      <td>NaN</td>\n",
       "      <td>NaN</td>\n",
       "    </tr>\n",
       "    <tr>\n",
       "      <th>3</th>\n",
       "      <td>turkey</td>\n",
       "      <td>avocado</td>\n",
       "      <td>NaN</td>\n",
       "      <td>NaN</td>\n",
       "      <td>NaN</td>\n",
       "      <td>NaN</td>\n",
       "      <td>NaN</td>\n",
       "      <td>NaN</td>\n",
       "      <td>NaN</td>\n",
       "      <td>NaN</td>\n",
       "      <td>NaN</td>\n",
       "      <td>NaN</td>\n",
       "      <td>NaN</td>\n",
       "      <td>NaN</td>\n",
       "      <td>NaN</td>\n",
       "      <td>NaN</td>\n",
       "      <td>NaN</td>\n",
       "      <td>NaN</td>\n",
       "      <td>NaN</td>\n",
       "      <td>NaN</td>\n",
       "    </tr>\n",
       "    <tr>\n",
       "      <th>4</th>\n",
       "      <td>mineral water</td>\n",
       "      <td>milk</td>\n",
       "      <td>energy bar</td>\n",
       "      <td>whole wheat rice</td>\n",
       "      <td>green tea</td>\n",
       "      <td>NaN</td>\n",
       "      <td>NaN</td>\n",
       "      <td>NaN</td>\n",
       "      <td>NaN</td>\n",
       "      <td>NaN</td>\n",
       "      <td>NaN</td>\n",
       "      <td>NaN</td>\n",
       "      <td>NaN</td>\n",
       "      <td>NaN</td>\n",
       "      <td>NaN</td>\n",
       "      <td>NaN</td>\n",
       "      <td>NaN</td>\n",
       "      <td>NaN</td>\n",
       "      <td>NaN</td>\n",
       "      <td>NaN</td>\n",
       "    </tr>\n",
       "    <tr>\n",
       "      <th>...</th>\n",
       "      <td>...</td>\n",
       "      <td>...</td>\n",
       "      <td>...</td>\n",
       "      <td>...</td>\n",
       "      <td>...</td>\n",
       "      <td>...</td>\n",
       "      <td>...</td>\n",
       "      <td>...</td>\n",
       "      <td>...</td>\n",
       "      <td>...</td>\n",
       "      <td>...</td>\n",
       "      <td>...</td>\n",
       "      <td>...</td>\n",
       "      <td>...</td>\n",
       "      <td>...</td>\n",
       "      <td>...</td>\n",
       "      <td>...</td>\n",
       "      <td>...</td>\n",
       "      <td>...</td>\n",
       "      <td>...</td>\n",
       "    </tr>\n",
       "    <tr>\n",
       "      <th>7496</th>\n",
       "      <td>butter</td>\n",
       "      <td>light mayo</td>\n",
       "      <td>fresh bread</td>\n",
       "      <td>NaN</td>\n",
       "      <td>NaN</td>\n",
       "      <td>NaN</td>\n",
       "      <td>NaN</td>\n",
       "      <td>NaN</td>\n",
       "      <td>NaN</td>\n",
       "      <td>NaN</td>\n",
       "      <td>NaN</td>\n",
       "      <td>NaN</td>\n",
       "      <td>NaN</td>\n",
       "      <td>NaN</td>\n",
       "      <td>NaN</td>\n",
       "      <td>NaN</td>\n",
       "      <td>NaN</td>\n",
       "      <td>NaN</td>\n",
       "      <td>NaN</td>\n",
       "      <td>NaN</td>\n",
       "    </tr>\n",
       "    <tr>\n",
       "      <th>7497</th>\n",
       "      <td>burgers</td>\n",
       "      <td>frozen vegetables</td>\n",
       "      <td>eggs</td>\n",
       "      <td>french fries</td>\n",
       "      <td>magazines</td>\n",
       "      <td>green tea</td>\n",
       "      <td>NaN</td>\n",
       "      <td>NaN</td>\n",
       "      <td>NaN</td>\n",
       "      <td>NaN</td>\n",
       "      <td>NaN</td>\n",
       "      <td>NaN</td>\n",
       "      <td>NaN</td>\n",
       "      <td>NaN</td>\n",
       "      <td>NaN</td>\n",
       "      <td>NaN</td>\n",
       "      <td>NaN</td>\n",
       "      <td>NaN</td>\n",
       "      <td>NaN</td>\n",
       "      <td>NaN</td>\n",
       "    </tr>\n",
       "    <tr>\n",
       "      <th>7498</th>\n",
       "      <td>chicken</td>\n",
       "      <td>NaN</td>\n",
       "      <td>NaN</td>\n",
       "      <td>NaN</td>\n",
       "      <td>NaN</td>\n",
       "      <td>NaN</td>\n",
       "      <td>NaN</td>\n",
       "      <td>NaN</td>\n",
       "      <td>NaN</td>\n",
       "      <td>NaN</td>\n",
       "      <td>NaN</td>\n",
       "      <td>NaN</td>\n",
       "      <td>NaN</td>\n",
       "      <td>NaN</td>\n",
       "      <td>NaN</td>\n",
       "      <td>NaN</td>\n",
       "      <td>NaN</td>\n",
       "      <td>NaN</td>\n",
       "      <td>NaN</td>\n",
       "      <td>NaN</td>\n",
       "    </tr>\n",
       "    <tr>\n",
       "      <th>7499</th>\n",
       "      <td>escalope</td>\n",
       "      <td>green tea</td>\n",
       "      <td>NaN</td>\n",
       "      <td>NaN</td>\n",
       "      <td>NaN</td>\n",
       "      <td>NaN</td>\n",
       "      <td>NaN</td>\n",
       "      <td>NaN</td>\n",
       "      <td>NaN</td>\n",
       "      <td>NaN</td>\n",
       "      <td>NaN</td>\n",
       "      <td>NaN</td>\n",
       "      <td>NaN</td>\n",
       "      <td>NaN</td>\n",
       "      <td>NaN</td>\n",
       "      <td>NaN</td>\n",
       "      <td>NaN</td>\n",
       "      <td>NaN</td>\n",
       "      <td>NaN</td>\n",
       "      <td>NaN</td>\n",
       "    </tr>\n",
       "    <tr>\n",
       "      <th>7500</th>\n",
       "      <td>eggs</td>\n",
       "      <td>frozen smoothie</td>\n",
       "      <td>yogurt cake</td>\n",
       "      <td>low fat yogurt</td>\n",
       "      <td>NaN</td>\n",
       "      <td>NaN</td>\n",
       "      <td>NaN</td>\n",
       "      <td>NaN</td>\n",
       "      <td>NaN</td>\n",
       "      <td>NaN</td>\n",
       "      <td>NaN</td>\n",
       "      <td>NaN</td>\n",
       "      <td>NaN</td>\n",
       "      <td>NaN</td>\n",
       "      <td>NaN</td>\n",
       "      <td>NaN</td>\n",
       "      <td>NaN</td>\n",
       "      <td>NaN</td>\n",
       "      <td>NaN</td>\n",
       "      <td>NaN</td>\n",
       "    </tr>\n",
       "  </tbody>\n",
       "</table>\n",
       "<p>7501 rows × 20 columns</p>\n",
       "</div>"
      ],
      "text/plain": [
       "                 0                  1            2                 3   \\\n",
       "0            shrimp            almonds      avocado    vegetables mix   \n",
       "1           burgers          meatballs         eggs               NaN   \n",
       "2           chutney                NaN          NaN               NaN   \n",
       "3            turkey            avocado          NaN               NaN   \n",
       "4     mineral water               milk   energy bar  whole wheat rice   \n",
       "...             ...                ...          ...               ...   \n",
       "7496         butter         light mayo  fresh bread               NaN   \n",
       "7497        burgers  frozen vegetables         eggs      french fries   \n",
       "7498        chicken                NaN          NaN               NaN   \n",
       "7499       escalope          green tea          NaN               NaN   \n",
       "7500           eggs    frozen smoothie  yogurt cake    low fat yogurt   \n",
       "\n",
       "                4                 5     6               7             8   \\\n",
       "0     green grapes  whole weat flour  yams  cottage cheese  energy drink   \n",
       "1              NaN               NaN   NaN             NaN           NaN   \n",
       "2              NaN               NaN   NaN             NaN           NaN   \n",
       "3              NaN               NaN   NaN             NaN           NaN   \n",
       "4        green tea               NaN   NaN             NaN           NaN   \n",
       "...            ...               ...   ...             ...           ...   \n",
       "7496           NaN               NaN   NaN             NaN           NaN   \n",
       "7497     magazines         green tea   NaN             NaN           NaN   \n",
       "7498           NaN               NaN   NaN             NaN           NaN   \n",
       "7499           NaN               NaN   NaN             NaN           NaN   \n",
       "7500           NaN               NaN   NaN             NaN           NaN   \n",
       "\n",
       "                9               10         11     12     13             14  \\\n",
       "0     tomato juice  low fat yogurt  green tea  honey  salad  mineral water   \n",
       "1              NaN             NaN        NaN    NaN    NaN            NaN   \n",
       "2              NaN             NaN        NaN    NaN    NaN            NaN   \n",
       "3              NaN             NaN        NaN    NaN    NaN            NaN   \n",
       "4              NaN             NaN        NaN    NaN    NaN            NaN   \n",
       "...            ...             ...        ...    ...    ...            ...   \n",
       "7496           NaN             NaN        NaN    NaN    NaN            NaN   \n",
       "7497           NaN             NaN        NaN    NaN    NaN            NaN   \n",
       "7498           NaN             NaN        NaN    NaN    NaN            NaN   \n",
       "7499           NaN             NaN        NaN    NaN    NaN            NaN   \n",
       "7500           NaN             NaN        NaN    NaN    NaN            NaN   \n",
       "\n",
       "          15                 16               17       18         19  \n",
       "0     salmon  antioxydant juice  frozen smoothie  spinach  olive oil  \n",
       "1        NaN                NaN              NaN      NaN        NaN  \n",
       "2        NaN                NaN              NaN      NaN        NaN  \n",
       "3        NaN                NaN              NaN      NaN        NaN  \n",
       "4        NaN                NaN              NaN      NaN        NaN  \n",
       "...      ...                ...              ...      ...        ...  \n",
       "7496     NaN                NaN              NaN      NaN        NaN  \n",
       "7497     NaN                NaN              NaN      NaN        NaN  \n",
       "7498     NaN                NaN              NaN      NaN        NaN  \n",
       "7499     NaN                NaN              NaN      NaN        NaN  \n",
       "7500     NaN                NaN              NaN      NaN        NaN  \n",
       "\n",
       "[7501 rows x 20 columns]"
      ]
     },
     "execution_count": 104,
     "metadata": {},
     "output_type": "execute_result"
    }
   ],
   "source": [
    "df_market2 = pd.read_csv('../data/mercado2.csv', header=None)\n",
    "df_market2"
   ]
  },
  {
   "cell_type": "code",
   "execution_count": 105,
   "id": "7b444f37",
   "metadata": {
    "ExecuteTime": {
     "end_time": "2021-10-19T17:01:47.697181Z",
     "start_time": "2021-10-19T17:01:46.661930Z"
    }
   },
   "outputs": [],
   "source": [
    "transc = []\n",
    "\n",
    "for i in range(df_market2.shape[0]):\n",
    "    tr = []\n",
    "    for j in range(df_market2.shape[1]):\n",
    "        if str(df_market2.values[i, j]) != 'nan':\n",
    "            tr.append(df_market2.values[i, j])\n",
    "    transc.append(tr)"
   ]
  },
  {
   "cell_type": "markdown",
   "id": "fab7fae1",
   "metadata": {},
   "source": [
    "Achar um suporte"
   ]
  },
  {
   "cell_type": "markdown",
   "id": "a332750c",
   "metadata": {},
   "source": [
    "Estabelecer uma meta:\n",
    "* Produtos que são vendidos 4 vezes por dia"
   ]
  },
  {
   "cell_type": "code",
   "execution_count": 106,
   "id": "0c057636",
   "metadata": {
    "ExecuteTime": {
     "end_time": "2021-10-19T17:01:47.761531Z",
     "start_time": "2021-10-19T17:01:47.746199Z"
    }
   },
   "outputs": [
    {
     "data": {
      "text/plain": [
       "28"
      ]
     },
     "execution_count": 106,
     "metadata": {},
     "output_type": "execute_result"
    }
   ],
   "source": [
    "4 * 7"
   ]
  },
  {
   "cell_type": "code",
   "execution_count": 107,
   "id": "681f5302",
   "metadata": {
    "ExecuteTime": {
     "end_time": "2021-10-19T17:01:47.984585Z",
     "start_time": "2021-10-19T17:01:47.972582Z"
    }
   },
   "outputs": [
    {
     "data": {
      "text/plain": [
       "0.0037328356219170776"
      ]
     },
     "execution_count": 107,
     "metadata": {},
     "output_type": "execute_result"
    }
   ],
   "source": [
    "28 / 7501"
   ]
  },
  {
   "cell_type": "code",
   "execution_count": 117,
   "id": "12baff78",
   "metadata": {
    "ExecuteTime": {
     "end_time": "2021-10-19T17:02:43.257503Z",
     "start_time": "2021-10-19T17:02:42.612360Z"
    }
   },
   "outputs": [
    {
     "data": {
      "text/plain": [
       "80"
      ]
     },
     "execution_count": 117,
     "metadata": {},
     "output_type": "execute_result"
    }
   ],
   "source": [
    "rules_market = apriori(transc, min_support= 0.003, min_confidence= 0.2, min_lift= 3)\n",
    "results1 = list(rules_market)\n",
    "len(results1)"
   ]
  },
  {
   "cell_type": "code",
   "execution_count": 118,
   "id": "33f08848",
   "metadata": {
    "ExecuteTime": {
     "end_time": "2021-10-19T17:02:44.946446Z",
     "start_time": "2021-10-19T17:02:44.932445Z"
    }
   },
   "outputs": [],
   "source": [
    "A1 = []\n",
    "B1 = []\n",
    "support1 = []\n",
    "confidence1 = []\n",
    "lift1 = []\n",
    "\n",
    "for res1 in results1:\n",
    "    s1 = res1[1]\n",
    "    results_rules1 = res1[2]\n",
    "    for res_rule1 in results_rules1:\n",
    "        a1 = list(res_rule[0])\n",
    "        b1 = list(res_rule[1])\n",
    "        c1 = res_rule[2]\n",
    "        l1 = res_rule[3]\n",
    "        \n",
    "        A1.append(a1)\n",
    "        B1.append(b1)\n",
    "        support1.append(s1)\n",
    "        confidence1.append(c1)\n",
    "        lift1.append(l1)"
   ]
  },
  {
   "cell_type": "code",
   "execution_count": 119,
   "id": "049756ea",
   "metadata": {
    "ExecuteTime": {
     "end_time": "2021-10-19T17:02:46.562511Z",
     "start_time": "2021-10-19T17:02:46.524503Z"
    }
   },
   "outputs": [
    {
     "data": {
      "text/html": [
       "<div>\n",
       "<style scoped>\n",
       "    .dataframe tbody tr th:only-of-type {\n",
       "        vertical-align: middle;\n",
       "    }\n",
       "\n",
       "    .dataframe tbody tr th {\n",
       "        vertical-align: top;\n",
       "    }\n",
       "\n",
       "    .dataframe thead th {\n",
       "        text-align: right;\n",
       "    }\n",
       "</style>\n",
       "<table border=\"1\" class=\"dataframe\">\n",
       "  <thead>\n",
       "    <tr style=\"text-align: right;\">\n",
       "      <th></th>\n",
       "      <th>A</th>\n",
       "      <th>B</th>\n",
       "      <th>Support</th>\n",
       "      <th>Confidence</th>\n",
       "      <th>Lift</th>\n",
       "    </tr>\n",
       "  </thead>\n",
       "  <tbody>\n",
       "    <tr>\n",
       "      <th>0</th>\n",
       "      <td>[mineral water, spaghetti, milk]</td>\n",
       "      <td>[tomatoes]</td>\n",
       "      <td>0.004533</td>\n",
       "      <td>0.211864</td>\n",
       "      <td>3.097846</td>\n",
       "    </tr>\n",
       "    <tr>\n",
       "      <th>97</th>\n",
       "      <td>[mineral water, spaghetti, milk]</td>\n",
       "      <td>[tomatoes]</td>\n",
       "      <td>0.003733</td>\n",
       "      <td>0.211864</td>\n",
       "      <td>3.097846</td>\n",
       "    </tr>\n",
       "    <tr>\n",
       "      <th>95</th>\n",
       "      <td>[mineral water, spaghetti, milk]</td>\n",
       "      <td>[tomatoes]</td>\n",
       "      <td>0.003733</td>\n",
       "      <td>0.211864</td>\n",
       "      <td>3.097846</td>\n",
       "    </tr>\n",
       "    <tr>\n",
       "      <th>94</th>\n",
       "      <td>[mineral water, spaghetti, milk]</td>\n",
       "      <td>[tomatoes]</td>\n",
       "      <td>0.003733</td>\n",
       "      <td>0.211864</td>\n",
       "      <td>3.097846</td>\n",
       "    </tr>\n",
       "    <tr>\n",
       "      <th>93</th>\n",
       "      <td>[mineral water, spaghetti, milk]</td>\n",
       "      <td>[tomatoes]</td>\n",
       "      <td>0.003200</td>\n",
       "      <td>0.211864</td>\n",
       "      <td>3.097846</td>\n",
       "    </tr>\n",
       "    <tr>\n",
       "      <th>...</th>\n",
       "      <td>...</td>\n",
       "      <td>...</td>\n",
       "      <td>...</td>\n",
       "      <td>...</td>\n",
       "      <td>...</td>\n",
       "    </tr>\n",
       "    <tr>\n",
       "      <th>38</th>\n",
       "      <td>[mineral water, spaghetti, milk]</td>\n",
       "      <td>[tomatoes]</td>\n",
       "      <td>0.004133</td>\n",
       "      <td>0.211864</td>\n",
       "      <td>3.097846</td>\n",
       "    </tr>\n",
       "    <tr>\n",
       "      <th>37</th>\n",
       "      <td>[mineral water, spaghetti, milk]</td>\n",
       "      <td>[tomatoes]</td>\n",
       "      <td>0.003999</td>\n",
       "      <td>0.211864</td>\n",
       "      <td>3.097846</td>\n",
       "    </tr>\n",
       "    <tr>\n",
       "      <th>36</th>\n",
       "      <td>[mineral water, spaghetti, milk]</td>\n",
       "      <td>[tomatoes]</td>\n",
       "      <td>0.004799</td>\n",
       "      <td>0.211864</td>\n",
       "      <td>3.097846</td>\n",
       "    </tr>\n",
       "    <tr>\n",
       "      <th>35</th>\n",
       "      <td>[mineral water, spaghetti, milk]</td>\n",
       "      <td>[tomatoes]</td>\n",
       "      <td>0.004799</td>\n",
       "      <td>0.211864</td>\n",
       "      <td>3.097846</td>\n",
       "    </tr>\n",
       "    <tr>\n",
       "      <th>129</th>\n",
       "      <td>[mineral water, spaghetti, milk]</td>\n",
       "      <td>[tomatoes]</td>\n",
       "      <td>0.003333</td>\n",
       "      <td>0.211864</td>\n",
       "      <td>3.097846</td>\n",
       "    </tr>\n",
       "  </tbody>\n",
       "</table>\n",
       "<p>130 rows × 5 columns</p>\n",
       "</div>"
      ],
      "text/plain": [
       "                                    A           B   Support  Confidence  \\\n",
       "0    [mineral water, spaghetti, milk]  [tomatoes]  0.004533    0.211864   \n",
       "97   [mineral water, spaghetti, milk]  [tomatoes]  0.003733    0.211864   \n",
       "95   [mineral water, spaghetti, milk]  [tomatoes]  0.003733    0.211864   \n",
       "94   [mineral water, spaghetti, milk]  [tomatoes]  0.003733    0.211864   \n",
       "93   [mineral water, spaghetti, milk]  [tomatoes]  0.003200    0.211864   \n",
       "..                                ...         ...       ...         ...   \n",
       "38   [mineral water, spaghetti, milk]  [tomatoes]  0.004133    0.211864   \n",
       "37   [mineral water, spaghetti, milk]  [tomatoes]  0.003999    0.211864   \n",
       "36   [mineral water, spaghetti, milk]  [tomatoes]  0.004799    0.211864   \n",
       "35   [mineral water, spaghetti, milk]  [tomatoes]  0.004799    0.211864   \n",
       "129  [mineral water, spaghetti, milk]  [tomatoes]  0.003333    0.211864   \n",
       "\n",
       "         Lift  \n",
       "0    3.097846  \n",
       "97   3.097846  \n",
       "95   3.097846  \n",
       "94   3.097846  \n",
       "93   3.097846  \n",
       "..        ...  \n",
       "38   3.097846  \n",
       "37   3.097846  \n",
       "36   3.097846  \n",
       "35   3.097846  \n",
       "129  3.097846  \n",
       "\n",
       "[130 rows x 5 columns]"
      ]
     },
     "execution_count": 119,
     "metadata": {},
     "output_type": "execute_result"
    }
   ],
   "source": [
    "rules_market = pd.DataFrame({'A': A1, 'B': B1, 'Support': support1, 'Confidence': confidence1, 'Lift': lift1})\n",
    "rules_market.sort_values(by='Confidence', ascending=False)"
   ]
  }
 ],
 "metadata": {
  "kernelspec": {
   "display_name": "Python 3 (ipykernel)",
   "language": "python",
   "name": "python3"
  },
  "language_info": {
   "codemirror_mode": {
    "name": "ipython",
    "version": 3
   },
   "file_extension": ".py",
   "mimetype": "text/x-python",
   "name": "python",
   "nbconvert_exporter": "python",
   "pygments_lexer": "ipython3",
   "version": "3.8.8"
  },
  "varInspector": {
   "cols": {
    "lenName": 16,
    "lenType": 16,
    "lenVar": 40
   },
   "kernels_config": {
    "python": {
     "delete_cmd_postfix": "",
     "delete_cmd_prefix": "del ",
     "library": "var_list.py",
     "varRefreshCmd": "print(var_dic_list())"
    },
    "r": {
     "delete_cmd_postfix": ") ",
     "delete_cmd_prefix": "rm(",
     "library": "var_list.r",
     "varRefreshCmd": "cat(var_dic_list()) "
    }
   },
   "types_to_exclude": [
    "module",
    "function",
    "builtin_function_or_method",
    "instance",
    "_Feature"
   ],
   "window_display": false
  }
 },
 "nbformat": 4,
 "nbformat_minor": 5
}
